{
 "cells": [
  {
   "cell_type": "markdown",
   "id": "59cbb5cb",
   "metadata": {},
   "source": [
    "# Impact of Covid19 on the Suicidal Rate\n",
    "\n",
    "________________________________________________________________________________________________________"
   ]
  },
  {
   "cell_type": "code",
<<<<<<< HEAD
   "execution_count": 1,
=======
   "execution_count": 101,
>>>>>>> c1ce52453e2d534faaf972023b4d1c15c6847cff
   "id": "a26626fb",
   "metadata": {},
   "outputs": [],
   "source": [
    "# Mute the warnings\n",
    "#import shutup; shutup.please()\n",
    "\n",
    "# Dependencies and Setup\n",
    "import matplotlib.pyplot as plt\n",
    "import pandas as pd\n",
    "import scipy.stats as st\n",
    "import numpy as np\n",
    "from scipy.stats import linregress\n",
    "import requests\n",
    "from pprint import pprint\n",
    "import urllib\n",
    "import json\n",
    "from pandas import json_normalize\n",
    "import scipy.stats as stats\n",
    "\n",
    "\n",
    "#from api_keys import api_key"
   ]
  },
  {
   "cell_type": "code",
<<<<<<< HEAD
   "execution_count": 2,
=======
   "execution_count": 102,
>>>>>>> c1ce52453e2d534faaf972023b4d1c15c6847cff
   "id": "e82a8b13",
   "metadata": {},
   "outputs": [],
   "source": [
    "# Study data files\n",
    "#gdp_usd_path = \"world_country_gdp_usd.csv\"\n",
    "csv_path = \"csv_file.csv\"\n",
    "master_path = \"master.csv\"\n",
    "USA_Rate = \"Suicide_rate_USA.csv\"\n",
    "Homicide_gdp = \"suicide_homicide_gdp.csv\"\n",
    "\n"
   ]
  },
  {
   "cell_type": "code",
<<<<<<< HEAD
   "execution_count": 3,
=======
   "execution_count": 103,
>>>>>>> c1ce52453e2d534faaf972023b4d1c15c6847cff
   "id": "3571353f",
   "metadata": {},
   "outputs": [],
   "source": [
    "# Read the data and the study results\n",
    "#gdp_usd = pd.read_csv(gdp_usd_path)\n",
    "csv_file = pd.read_csv(csv_path)\n",
    "master = pd.read_csv(master_path)\n",
    "USA_data = pd.read_csv(USA_Rate)\n",
    "hom_gdp = pd.read_csv(Homicide_gdp)\n"
   ]
  },
  {
   "cell_type": "code",
<<<<<<< HEAD
   "execution_count": 4,
=======
   "execution_count": 104,
>>>>>>> c1ce52453e2d534faaf972023b4d1c15c6847cff
   "id": "b56caf12",
   "metadata": {
    "scrolled": true
   },
   "outputs": [
    {
     "data": {
      "text/html": [
       "<div>\n",
       "<style scoped>\n",
       "    .dataframe tbody tr th:only-of-type {\n",
       "        vertical-align: middle;\n",
       "    }\n",
       "\n",
       "    .dataframe tbody tr th {\n",
       "        vertical-align: top;\n",
       "    }\n",
       "\n",
       "    .dataframe thead th {\n",
       "        text-align: right;\n",
       "    }\n",
       "</style>\n",
       "<table border=\"1\" class=\"dataframe\">\n",
       "  <thead>\n",
       "    <tr style=\"text-align: right;\">\n",
       "      <th></th>\n",
       "      <th>LOCATION</th>\n",
       "      <th>INDICATOR</th>\n",
       "      <th>SUBJECT</th>\n",
       "      <th>MEASURE</th>\n",
       "      <th>FREQUENCY</th>\n",
       "      <th>TIME</th>\n",
       "      <th>Value</th>\n",
       "      <th>Flag Codes</th>\n",
       "    </tr>\n",
       "  </thead>\n",
       "  <tbody>\n",
       "    <tr>\n",
       "      <th>0</th>\n",
       "      <td>AUS</td>\n",
       "      <td>SUICIDE</td>\n",
       "      <td>TOT</td>\n",
       "      <td>100000PER</td>\n",
       "      <td>A</td>\n",
       "      <td>1960</td>\n",
       "      <td>13.6</td>\n",
       "      <td>NaN</td>\n",
       "    </tr>\n",
       "    <tr>\n",
       "      <th>1</th>\n",
       "      <td>AUS</td>\n",
       "      <td>SUICIDE</td>\n",
       "      <td>TOT</td>\n",
       "      <td>100000PER</td>\n",
       "      <td>A</td>\n",
       "      <td>1961</td>\n",
       "      <td>15.0</td>\n",
       "      <td>NaN</td>\n",
       "    </tr>\n",
       "    <tr>\n",
       "      <th>2</th>\n",
       "      <td>AUS</td>\n",
       "      <td>SUICIDE</td>\n",
       "      <td>TOT</td>\n",
       "      <td>100000PER</td>\n",
       "      <td>A</td>\n",
       "      <td>1962</td>\n",
       "      <td>17.4</td>\n",
       "      <td>NaN</td>\n",
       "    </tr>\n",
       "    <tr>\n",
       "      <th>3</th>\n",
       "      <td>AUS</td>\n",
       "      <td>SUICIDE</td>\n",
       "      <td>TOT</td>\n",
       "      <td>100000PER</td>\n",
       "      <td>A</td>\n",
       "      <td>1963</td>\n",
       "      <td>19.8</td>\n",
       "      <td>NaN</td>\n",
       "    </tr>\n",
       "    <tr>\n",
       "      <th>4</th>\n",
       "      <td>AUS</td>\n",
       "      <td>SUICIDE</td>\n",
       "      <td>TOT</td>\n",
       "      <td>100000PER</td>\n",
       "      <td>A</td>\n",
       "      <td>1964</td>\n",
       "      <td>18.4</td>\n",
       "      <td>NaN</td>\n",
       "    </tr>\n",
       "    <tr>\n",
       "      <th>...</th>\n",
       "      <td>...</td>\n",
       "      <td>...</td>\n",
       "      <td>...</td>\n",
       "      <td>...</td>\n",
       "      <td>...</td>\n",
       "      <td>...</td>\n",
       "      <td>...</td>\n",
       "      <td>...</td>\n",
       "    </tr>\n",
       "    <tr>\n",
       "      <th>6748</th>\n",
       "      <td>ROU</td>\n",
       "      <td>SUICIDE</td>\n",
       "      <td>WOMEN</td>\n",
       "      <td>100000PER</td>\n",
       "      <td>A</td>\n",
       "      <td>2015</td>\n",
       "      <td>3.1</td>\n",
       "      <td>NaN</td>\n",
       "    </tr>\n",
       "    <tr>\n",
       "      <th>6749</th>\n",
       "      <td>ROU</td>\n",
       "      <td>SUICIDE</td>\n",
       "      <td>WOMEN</td>\n",
       "      <td>100000PER</td>\n",
       "      <td>A</td>\n",
       "      <td>2016</td>\n",
       "      <td>2.9</td>\n",
       "      <td>NaN</td>\n",
       "    </tr>\n",
       "    <tr>\n",
       "      <th>6750</th>\n",
       "      <td>ROU</td>\n",
       "      <td>SUICIDE</td>\n",
       "      <td>WOMEN</td>\n",
       "      <td>100000PER</td>\n",
       "      <td>A</td>\n",
       "      <td>2017</td>\n",
       "      <td>3.0</td>\n",
       "      <td>NaN</td>\n",
       "    </tr>\n",
       "    <tr>\n",
       "      <th>6751</th>\n",
       "      <td>ROU</td>\n",
       "      <td>SUICIDE</td>\n",
       "      <td>WOMEN</td>\n",
       "      <td>100000PER</td>\n",
       "      <td>A</td>\n",
       "      <td>2018</td>\n",
       "      <td>3.0</td>\n",
       "      <td>NaN</td>\n",
       "    </tr>\n",
       "    <tr>\n",
       "      <th>6752</th>\n",
       "      <td>ROU</td>\n",
       "      <td>SUICIDE</td>\n",
       "      <td>WOMEN</td>\n",
       "      <td>100000PER</td>\n",
       "      <td>A</td>\n",
       "      <td>2019</td>\n",
       "      <td>2.2</td>\n",
       "      <td>NaN</td>\n",
       "    </tr>\n",
       "  </tbody>\n",
       "</table>\n",
       "<p>6753 rows × 8 columns</p>\n",
       "</div>"
      ],
      "text/plain": [
       "     LOCATION INDICATOR SUBJECT    MEASURE FREQUENCY  TIME  Value Flag Codes\n",
       "0         AUS   SUICIDE     TOT  100000PER         A  1960   13.6        NaN\n",
       "1         AUS   SUICIDE     TOT  100000PER         A  1961   15.0        NaN\n",
       "2         AUS   SUICIDE     TOT  100000PER         A  1962   17.4        NaN\n",
       "3         AUS   SUICIDE     TOT  100000PER         A  1963   19.8        NaN\n",
       "4         AUS   SUICIDE     TOT  100000PER         A  1964   18.4        NaN\n",
       "...       ...       ...     ...        ...       ...   ...    ...        ...\n",
       "6748      ROU   SUICIDE   WOMEN  100000PER         A  2015    3.1        NaN\n",
       "6749      ROU   SUICIDE   WOMEN  100000PER         A  2016    2.9        NaN\n",
       "6750      ROU   SUICIDE   WOMEN  100000PER         A  2017    3.0        NaN\n",
       "6751      ROU   SUICIDE   WOMEN  100000PER         A  2018    3.0        NaN\n",
       "6752      ROU   SUICIDE   WOMEN  100000PER         A  2019    2.2        NaN\n",
       "\n",
       "[6753 rows x 8 columns]"
      ]
     },
<<<<<<< HEAD
     "execution_count": 4,
=======
     "execution_count": 104,
>>>>>>> c1ce52453e2d534faaf972023b4d1c15c6847cff
     "metadata": {},
     "output_type": "execute_result"
    }
   ],
   "source": [
    "csv_file"
   ]
  },
  {
   "cell_type": "code",
<<<<<<< HEAD
   "execution_count": 5,
=======
   "execution_count": 105,
>>>>>>> c1ce52453e2d534faaf972023b4d1c15c6847cff
   "id": "2aaab1f0",
   "metadata": {},
   "outputs": [
    {
     "data": {
      "text/html": [
       "<div>\n",
       "<style scoped>\n",
       "    .dataframe tbody tr th:only-of-type {\n",
       "        vertical-align: middle;\n",
       "    }\n",
       "\n",
       "    .dataframe tbody tr th {\n",
       "        vertical-align: top;\n",
       "    }\n",
       "\n",
       "    .dataframe thead th {\n",
       "        text-align: right;\n",
       "    }\n",
       "</style>\n",
       "<table border=\"1\" class=\"dataframe\">\n",
       "  <thead>\n",
       "    <tr style=\"text-align: right;\">\n",
       "      <th></th>\n",
       "      <th>LOCATION</th>\n",
       "      <th>TIME</th>\n",
       "      <th>INDICATOR</th>\n",
       "      <th>Value</th>\n",
       "      <th>SUBJECT</th>\n",
       "    </tr>\n",
       "  </thead>\n",
       "  <tbody>\n",
       "    <tr>\n",
       "      <th>55</th>\n",
       "      <td>AUS</td>\n",
       "      <td>2016</td>\n",
       "      <td>SUICIDE</td>\n",
       "      <td>12.2</td>\n",
       "      <td>TOT</td>\n",
       "    </tr>\n",
       "    <tr>\n",
       "      <th>56</th>\n",
       "      <td>AUS</td>\n",
       "      <td>2017</td>\n",
       "      <td>SUICIDE</td>\n",
       "      <td>13.6</td>\n",
       "      <td>TOT</td>\n",
       "    </tr>\n",
       "    <tr>\n",
       "      <th>57</th>\n",
       "      <td>AUS</td>\n",
       "      <td>2018</td>\n",
       "      <td>SUICIDE</td>\n",
       "      <td>13.0</td>\n",
       "      <td>TOT</td>\n",
       "    </tr>\n",
       "    <tr>\n",
       "      <th>58</th>\n",
       "      <td>AUS</td>\n",
       "      <td>2019</td>\n",
       "      <td>SUICIDE</td>\n",
       "      <td>13.3</td>\n",
       "      <td>TOT</td>\n",
       "    </tr>\n",
       "    <tr>\n",
       "      <th>59</th>\n",
       "      <td>AUS</td>\n",
       "      <td>2020</td>\n",
       "      <td>SUICIDE</td>\n",
       "      <td>12.4</td>\n",
       "      <td>TOT</td>\n",
       "    </tr>\n",
       "    <tr>\n",
       "      <th>...</th>\n",
       "      <td>...</td>\n",
       "      <td>...</td>\n",
       "      <td>...</td>\n",
       "      <td>...</td>\n",
       "      <td>...</td>\n",
       "    </tr>\n",
       "    <tr>\n",
       "      <th>6721</th>\n",
       "      <td>ROU</td>\n",
       "      <td>2019</td>\n",
       "      <td>SUICIDE</td>\n",
       "      <td>8.6</td>\n",
       "      <td>TOT</td>\n",
       "    </tr>\n",
       "    <tr>\n",
       "      <th>6749</th>\n",
       "      <td>ROU</td>\n",
       "      <td>2016</td>\n",
       "      <td>SUICIDE</td>\n",
       "      <td>2.9</td>\n",
       "      <td>WOMEN</td>\n",
       "    </tr>\n",
       "    <tr>\n",
       "      <th>6750</th>\n",
       "      <td>ROU</td>\n",
       "      <td>2017</td>\n",
       "      <td>SUICIDE</td>\n",
       "      <td>3.0</td>\n",
       "      <td>WOMEN</td>\n",
       "    </tr>\n",
       "    <tr>\n",
       "      <th>6751</th>\n",
       "      <td>ROU</td>\n",
       "      <td>2018</td>\n",
       "      <td>SUICIDE</td>\n",
       "      <td>3.0</td>\n",
       "      <td>WOMEN</td>\n",
       "    </tr>\n",
       "    <tr>\n",
       "      <th>6752</th>\n",
       "      <td>ROU</td>\n",
       "      <td>2019</td>\n",
       "      <td>SUICIDE</td>\n",
       "      <td>2.2</td>\n",
       "      <td>WOMEN</td>\n",
       "    </tr>\n",
       "  </tbody>\n",
       "</table>\n",
       "<p>525 rows × 5 columns</p>\n",
       "</div>"
      ],
      "text/plain": [
       "     LOCATION  TIME INDICATOR  Value SUBJECT\n",
       "55        AUS  2016   SUICIDE   12.2     TOT\n",
       "56        AUS  2017   SUICIDE   13.6     TOT\n",
       "57        AUS  2018   SUICIDE   13.0     TOT\n",
       "58        AUS  2019   SUICIDE   13.3     TOT\n",
       "59        AUS  2020   SUICIDE   12.4     TOT\n",
       "...       ...   ...       ...    ...     ...\n",
       "6721      ROU  2019   SUICIDE    8.6     TOT\n",
       "6749      ROU  2016   SUICIDE    2.9   WOMEN\n",
       "6750      ROU  2017   SUICIDE    3.0   WOMEN\n",
       "6751      ROU  2018   SUICIDE    3.0   WOMEN\n",
       "6752      ROU  2019   SUICIDE    2.2   WOMEN\n",
       "\n",
       "[525 rows x 5 columns]"
      ]
     },
<<<<<<< HEAD
     "execution_count": 5,
=======
     "execution_count": 105,
>>>>>>> c1ce52453e2d534faaf972023b4d1c15c6847cff
     "metadata": {},
     "output_type": "execute_result"
    }
   ],
   "source": [
    "narrow_data = csv_file.loc[(csv_file[\"TIME\"]<2021) & (csv_file[\"TIME\"]>=2016)]\n",
    "#narrow_data\n",
    "narrow_1 = pd.DataFrame(narrow_data, columns=[\"LOCATION\", \"TIME\", \"INDICATOR\", \"Value\", \"SUBJECT\"])\n",
    "narrow_1\n"
   ]
  },
  {
   "cell_type": "code",
<<<<<<< HEAD
   "execution_count": 6,
=======
   "execution_count": 106,
>>>>>>> c1ce52453e2d534faaf972023b4d1c15c6847cff
   "id": "3f3f2857",
   "metadata": {
    "scrolled": true
   },
   "outputs": [
    {
     "data": {
      "text/plain": [
       "TIME\n",
       "2016    11.030303\n",
       "2017    11.102439\n",
       "2018    10.888034\n",
       "2019    11.244118\n",
       "2020    12.415686\n",
       "Name: Value, dtype: float64"
      ]
     },
<<<<<<< HEAD
     "execution_count": 6,
=======
     "execution_count": 106,
>>>>>>> c1ce52453e2d534faaf972023b4d1c15c6847cff
     "metadata": {},
     "output_type": "execute_result"
    }
   ],
   "source": [
    "group_by_1 = narrow_1.groupby([\"TIME\"])[\"Value\"].mean()\n",
    "group_by_1"
   ]
  },
  {
   "cell_type": "code",
<<<<<<< HEAD
   "execution_count": 7,
=======
   "execution_count": 107,
>>>>>>> c1ce52453e2d534faaf972023b4d1c15c6847cff
   "id": "10dff2df",
   "metadata": {
    "scrolled": true
   },
   "outputs": [
    {
     "data": {
      "text/html": [
       "<div>\n",
       "<style scoped>\n",
       "    .dataframe tbody tr th:only-of-type {\n",
       "        vertical-align: middle;\n",
       "    }\n",
       "\n",
       "    .dataframe tbody tr th {\n",
       "        vertical-align: top;\n",
       "    }\n",
       "\n",
       "    .dataframe thead th {\n",
       "        text-align: right;\n",
       "    }\n",
       "</style>\n",
       "<table border=\"1\" class=\"dataframe\">\n",
       "  <thead>\n",
       "    <tr style=\"text-align: right;\">\n",
       "      <th></th>\n",
       "      <th>Value</th>\n",
       "    </tr>\n",
       "    <tr>\n",
       "      <th>TIME</th>\n",
       "      <th></th>\n",
       "    </tr>\n",
       "  </thead>\n",
       "  <tbody>\n",
       "    <tr>\n",
       "      <th>2016</th>\n",
       "      <td>11.030303</td>\n",
       "    </tr>\n",
       "    <tr>\n",
       "      <th>2017</th>\n",
       "      <td>11.102439</td>\n",
       "    </tr>\n",
       "    <tr>\n",
       "      <th>2018</th>\n",
       "      <td>10.888034</td>\n",
       "    </tr>\n",
       "    <tr>\n",
       "      <th>2019</th>\n",
       "      <td>11.244118</td>\n",
       "    </tr>\n",
       "    <tr>\n",
       "      <th>2020</th>\n",
       "      <td>12.415686</td>\n",
       "    </tr>\n",
       "  </tbody>\n",
       "</table>\n",
       "</div>"
      ],
      "text/plain": [
       "          Value\n",
       "TIME           \n",
       "2016  11.030303\n",
       "2017  11.102439\n",
       "2018  10.888034\n",
       "2019  11.244118\n",
       "2020  12.415686"
      ]
     },
<<<<<<< HEAD
     "execution_count": 7,
=======
     "execution_count": 107,
>>>>>>> c1ce52453e2d534faaf972023b4d1c15c6847cff
     "metadata": {},
     "output_type": "execute_result"
    }
   ],
   "source": [
    "group_by_df = pd.DataFrame(group_by_1)\n",
    "group_by_df"
   ]
  },
  {
   "cell_type": "code",
<<<<<<< HEAD
   "execution_count": 8,
=======
   "execution_count": 108,
>>>>>>> c1ce52453e2d534faaf972023b4d1c15c6847cff
   "id": "319dd94b",
   "metadata": {},
   "outputs": [
    {
     "data": {
      "text/html": [
       "<div>\n",
       "<style scoped>\n",
       "    .dataframe tbody tr th:only-of-type {\n",
       "        vertical-align: middle;\n",
       "    }\n",
       "\n",
       "    .dataframe tbody tr th {\n",
       "        vertical-align: top;\n",
       "    }\n",
       "\n",
       "    .dataframe thead th {\n",
       "        text-align: right;\n",
       "    }\n",
       "</style>\n",
       "<table border=\"1\" class=\"dataframe\">\n",
       "  <thead>\n",
       "    <tr style=\"text-align: right;\">\n",
       "      <th></th>\n",
       "      <th>TIME</th>\n",
       "      <th>Value</th>\n",
       "    </tr>\n",
       "  </thead>\n",
       "  <tbody>\n",
       "    <tr>\n",
       "      <th>0</th>\n",
       "      <td>2016</td>\n",
       "      <td>11.030303</td>\n",
       "    </tr>\n",
       "    <tr>\n",
       "      <th>1</th>\n",
       "      <td>2017</td>\n",
       "      <td>11.102439</td>\n",
       "    </tr>\n",
       "    <tr>\n",
       "      <th>2</th>\n",
       "      <td>2018</td>\n",
       "      <td>10.888034</td>\n",
       "    </tr>\n",
       "    <tr>\n",
       "      <th>3</th>\n",
       "      <td>2019</td>\n",
       "      <td>11.244118</td>\n",
       "    </tr>\n",
       "    <tr>\n",
       "      <th>4</th>\n",
       "      <td>2020</td>\n",
       "      <td>12.415686</td>\n",
       "    </tr>\n",
       "  </tbody>\n",
       "</table>\n",
       "</div>"
      ],
      "text/plain": [
       "   TIME      Value\n",
       "0  2016  11.030303\n",
       "1  2017  11.102439\n",
       "2  2018  10.888034\n",
       "3  2019  11.244118\n",
       "4  2020  12.415686"
      ]
     },
<<<<<<< HEAD
     "execution_count": 8,
=======
     "execution_count": 108,
>>>>>>> c1ce52453e2d534faaf972023b4d1c15c6847cff
     "metadata": {},
     "output_type": "execute_result"
    }
   ],
   "source": [
    "df2=group_by_df.reset_index()\n",
    "df2"
   ]
  },
  {
   "cell_type": "code",
<<<<<<< HEAD
   "execution_count": 9,
=======
   "execution_count": 109,
>>>>>>> c1ce52453e2d534faaf972023b4d1c15c6847cff
   "id": "836d20ef",
   "metadata": {
    "scrolled": false
   },
   "outputs": [
    {
     "data": {
      "text/plain": [
       "<AxesSubplot:title={'center':'Global Suicide Rate by Year (2016 to 2020)'}, xlabel='Year', ylabel='Suicide/100k of the Population'>"
      ]
     },
<<<<<<< HEAD
     "execution_count": 9,
=======
     "execution_count": 109,
>>>>>>> c1ce52453e2d534faaf972023b4d1c15c6847cff
     "metadata": {},
     "output_type": "execute_result"
    },
    {
     "data": {
      "image/png": "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\n",
      "text/plain": [
       "<Figure size 640x480 with 1 Axes>"
      ]
     },
     "metadata": {},
     "output_type": "display_data"
    }
   ],
   "source": [
    "\n",
    "plot = group_by_1.plot(kind=\"bar\", align = \"center\")\n",
    "plt.xlabel(\"Year\")\n",
    "plt.ylabel(\"Suicide/100k of the Population\")\n",
    "plt.title(\"Global Suicide Rate by Year (2016 to 2020)\")\n",
    "plt.savefig(\"Output/Fig1.png\")\n",
    "\n",
    "plot"
   ]
  },
  {
   "cell_type": "code",
<<<<<<< HEAD
   "execution_count": 54,
=======
   "execution_count": 152,
>>>>>>> c1ce52453e2d534faaf972023b4d1c15c6847cff
   "id": "e1f976a7",
   "metadata": {
    "scrolled": false
   },
   "outputs": [
    {
     "data": {
      "text/plain": [
       "F_onewayResult(statistic=0.3595877465732043, pvalue=0.8373673134546857)"
      ]
     },
<<<<<<< HEAD
     "execution_count": 54,
=======
     "execution_count": 152,
>>>>>>> c1ce52453e2d534faaf972023b4d1c15c6847cff
     "metadata": {},
     "output_type": "execute_result"
    },
    {
     "data": {
<<<<<<< HEAD
      "image/png": "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\n",
=======
      "image/png": "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\n",
>>>>>>> c1ce52453e2d534faaf972023b4d1c15c6847cff
      "text/plain": [
       "<Figure size 640x480 with 1 Axes>"
      ]
     },
     "metadata": {},
     "output_type": "display_data"
    }
   ],
   "source": [
    "\n",
    "\n",
    "plt.plot(group_by_df, color = \"b\")\n",
    "plt.xlabel(\"Year\")\n",
    "plt.ylabel(\"Suicide Rate/100k of the Population\")\n",
    "plt.title(\"Global Suicide Rate by Year (2016 to 2020)\")\n",
    "\n",
    "group0 = narrow_1[narrow_1[\"TIME\"] == 2016][\"Value\"]\n",
    "group1 = narrow_1[narrow_1[\"TIME\"] == 2017][\"Value\"]\n",
    "group2 = narrow_1[narrow_1[\"TIME\"] == 2018][\"Value\"]\n",
    "group3 = narrow_1[narrow_1[\"TIME\"] == 2019][\"Value\"]\n",
    "group4 = narrow_1[narrow_1[\"TIME\"] == 2020][\"Value\"]\n",
<<<<<<< HEAD
    "plt.savefig(\"Output/Fig2.png\")\n",
    "stats.f_oneway(group0, group1, group2, group3, group4)\n",
    "\n",
    "\n"
=======
    "\n",
    "plt.savefig(\"Output/Fig2.png\")\n",
    "\n",
    "stats.f_oneway(group0, group1, group2, group3, group4)\n"
>>>>>>> c1ce52453e2d534faaf972023b4d1c15c6847cff
   ]
  },
  {
   "cell_type": "code",
<<<<<<< HEAD
   "execution_count": 11,
=======
   "execution_count": 111,
>>>>>>> c1ce52453e2d534faaf972023b4d1c15c6847cff
   "id": "0acb772b",
   "metadata": {
    "scrolled": false
   },
   "outputs": [
    {
     "data": {
      "text/html": [
       "<div>\n",
       "<style scoped>\n",
       "    .dataframe tbody tr th:only-of-type {\n",
       "        vertical-align: middle;\n",
       "    }\n",
       "\n",
       "    .dataframe tbody tr th {\n",
       "        vertical-align: top;\n",
       "    }\n",
       "\n",
       "    .dataframe thead th {\n",
       "        text-align: right;\n",
       "    }\n",
       "</style>\n",
       "<table border=\"1\" class=\"dataframe\">\n",
       "  <thead>\n",
       "    <tr style=\"text-align: right;\">\n",
       "      <th></th>\n",
       "      <th>country</th>\n",
       "      <th>year</th>\n",
       "      <th>sex</th>\n",
       "      <th>age</th>\n",
       "      <th>suicides_no</th>\n",
       "      <th>population</th>\n",
       "      <th>suicides/100k pop</th>\n",
       "      <th>country-year</th>\n",
       "      <th>HDI for year</th>\n",
       "      <th>gdp_for_year ($)</th>\n",
       "      <th>gdp_per_capita ($)</th>\n",
       "      <th>generation</th>\n",
       "    </tr>\n",
       "  </thead>\n",
       "  <tbody>\n",
       "    <tr>\n",
       "      <th>0</th>\n",
       "      <td>Albania</td>\n",
       "      <td>1987</td>\n",
       "      <td>male</td>\n",
       "      <td>15-24 years</td>\n",
       "      <td>21.0</td>\n",
       "      <td>312900</td>\n",
       "      <td>6.71</td>\n",
       "      <td>Albania1987</td>\n",
       "      <td>NaN</td>\n",
       "      <td>2,15,66,24,900</td>\n",
       "      <td>796.0</td>\n",
       "      <td>Generation X</td>\n",
       "    </tr>\n",
       "    <tr>\n",
       "      <th>1</th>\n",
       "      <td>Albania</td>\n",
       "      <td>1987</td>\n",
       "      <td>male</td>\n",
       "      <td>35-54 years</td>\n",
       "      <td>16.0</td>\n",
       "      <td>308000</td>\n",
       "      <td>5.19</td>\n",
       "      <td>Albania1987</td>\n",
       "      <td>NaN</td>\n",
       "      <td>2,15,66,24,900</td>\n",
       "      <td>796.0</td>\n",
       "      <td>Silent</td>\n",
       "    </tr>\n",
       "    <tr>\n",
       "      <th>2</th>\n",
       "      <td>Albania</td>\n",
       "      <td>1987</td>\n",
       "      <td>female</td>\n",
       "      <td>15-24 years</td>\n",
       "      <td>14.0</td>\n",
       "      <td>289700</td>\n",
       "      <td>4.83</td>\n",
       "      <td>Albania1987</td>\n",
       "      <td>NaN</td>\n",
       "      <td>2,15,66,24,900</td>\n",
       "      <td>796.0</td>\n",
       "      <td>Generation X</td>\n",
       "    </tr>\n",
       "    <tr>\n",
       "      <th>3</th>\n",
       "      <td>Albania</td>\n",
       "      <td>1987</td>\n",
       "      <td>male</td>\n",
       "      <td>75+ years</td>\n",
       "      <td>1.0</td>\n",
       "      <td>21800</td>\n",
       "      <td>4.59</td>\n",
       "      <td>Albania1987</td>\n",
       "      <td>NaN</td>\n",
       "      <td>2,15,66,24,900</td>\n",
       "      <td>796.0</td>\n",
       "      <td>G.I. Generation</td>\n",
       "    </tr>\n",
       "    <tr>\n",
       "      <th>4</th>\n",
       "      <td>Albania</td>\n",
       "      <td>1987</td>\n",
       "      <td>male</td>\n",
       "      <td>25-34 years</td>\n",
       "      <td>9.0</td>\n",
       "      <td>274300</td>\n",
       "      <td>3.28</td>\n",
       "      <td>Albania1987</td>\n",
       "      <td>NaN</td>\n",
       "      <td>2,15,66,24,900</td>\n",
       "      <td>796.0</td>\n",
       "      <td>Boomers</td>\n",
       "    </tr>\n",
       "  </tbody>\n",
       "</table>\n",
       "</div>"
      ],
      "text/plain": [
       "   country  year     sex          age  suicides_no  population  \\\n",
       "0  Albania  1987    male  15-24 years         21.0      312900   \n",
       "1  Albania  1987    male  35-54 years         16.0      308000   \n",
       "2  Albania  1987  female  15-24 years         14.0      289700   \n",
       "3  Albania  1987    male    75+ years          1.0       21800   \n",
       "4  Albania  1987    male  25-34 years          9.0      274300   \n",
       "\n",
       "   suicides/100k pop country-year  HDI for year  gdp_for_year ($)   \\\n",
       "0               6.71  Albania1987           NaN     2,15,66,24,900   \n",
       "1               5.19  Albania1987           NaN     2,15,66,24,900   \n",
       "2               4.83  Albania1987           NaN     2,15,66,24,900   \n",
       "3               4.59  Albania1987           NaN     2,15,66,24,900   \n",
       "4               3.28  Albania1987           NaN     2,15,66,24,900   \n",
       "\n",
       "   gdp_per_capita ($)       generation  \n",
       "0               796.0     Generation X  \n",
       "1               796.0           Silent  \n",
       "2               796.0     Generation X  \n",
       "3               796.0  G.I. Generation  \n",
       "4               796.0          Boomers  "
      ]
     },
<<<<<<< HEAD
     "execution_count": 11,
=======
     "execution_count": 111,
>>>>>>> c1ce52453e2d534faaf972023b4d1c15c6847cff
     "metadata": {},
     "output_type": "execute_result"
    }
   ],
   "source": [
    "master.head()"
   ]
  },
  {
   "cell_type": "code",
<<<<<<< HEAD
   "execution_count": 12,
=======
   "execution_count": 112,
>>>>>>> c1ce52453e2d534faaf972023b4d1c15c6847cff
   "id": "f7a63f47",
   "metadata": {
    "scrolled": true
   },
   "outputs": [
    {
     "data": {
      "text/html": [
       "<div>\n",
       "<style scoped>\n",
       "    .dataframe tbody tr th:only-of-type {\n",
       "        vertical-align: middle;\n",
       "    }\n",
       "\n",
       "    .dataframe tbody tr th {\n",
       "        vertical-align: top;\n",
       "    }\n",
       "\n",
       "    .dataframe thead th {\n",
       "        text-align: right;\n",
       "    }\n",
       "</style>\n",
       "<table border=\"1\" class=\"dataframe\">\n",
       "  <thead>\n",
       "    <tr style=\"text-align: right;\">\n",
       "      <th></th>\n",
       "      <th>country</th>\n",
       "      <th>year</th>\n",
       "      <th>age</th>\n",
       "      <th>suicides/100k pop</th>\n",
       "    </tr>\n",
       "  </thead>\n",
       "  <tbody>\n",
       "    <tr>\n",
       "      <th>27823</th>\n",
       "      <td>Australia</td>\n",
       "      <td>2020</td>\n",
       "      <td>5-14 years</td>\n",
       "      <td>0.058467</td>\n",
       "    </tr>\n",
       "    <tr>\n",
       "      <th>27824</th>\n",
       "      <td>Austria</td>\n",
       "      <td>2020</td>\n",
       "      <td>5-14 years</td>\n",
       "      <td>0.022429</td>\n",
       "    </tr>\n",
       "    <tr>\n",
       "      <th>27834</th>\n",
       "      <td>Costa Rica</td>\n",
       "      <td>2020</td>\n",
       "      <td>5-14 years</td>\n",
       "      <td>0.019519</td>\n",
       "    </tr>\n",
       "    <tr>\n",
       "      <th>27838</th>\n",
       "      <td>Czechia</td>\n",
       "      <td>2020</td>\n",
       "      <td>5-14 years</td>\n",
       "      <td>0.028043</td>\n",
       "    </tr>\n",
       "    <tr>\n",
       "      <th>27841</th>\n",
       "      <td>Ecuador</td>\n",
       "      <td>2020</td>\n",
       "      <td>5-14 years</td>\n",
       "      <td>0.250162</td>\n",
       "    </tr>\n",
       "    <tr>\n",
       "      <th>...</th>\n",
       "      <td>...</td>\n",
       "      <td>...</td>\n",
       "      <td>...</td>\n",
       "      <td>...</td>\n",
       "    </tr>\n",
       "    <tr>\n",
       "      <th>31751</th>\n",
       "      <td>Ukraine</td>\n",
       "      <td>2017</td>\n",
       "      <td>75+ years</td>\n",
       "      <td>0.571032</td>\n",
       "    </tr>\n",
       "    <tr>\n",
       "      <th>31752</th>\n",
       "      <td>United Kingdom</td>\n",
       "      <td>2017</td>\n",
       "      <td>75+ years</td>\n",
       "      <td>0.157435</td>\n",
       "    </tr>\n",
       "    <tr>\n",
       "      <th>31753</th>\n",
       "      <td>United States of America</td>\n",
       "      <td>2017</td>\n",
       "      <td>75+ years</td>\n",
       "      <td>0.154096</td>\n",
       "    </tr>\n",
       "    <tr>\n",
       "      <th>31754</th>\n",
       "      <td>Uruguay</td>\n",
       "      <td>2017</td>\n",
       "      <td>75+ years</td>\n",
       "      <td>0.409094</td>\n",
       "    </tr>\n",
       "    <tr>\n",
       "      <th>31755</th>\n",
       "      <td>Uzbekistan</td>\n",
       "      <td>2017</td>\n",
       "      <td>75+ years</td>\n",
       "      <td>0.009263</td>\n",
       "    </tr>\n",
       "  </tbody>\n",
       "</table>\n",
       "<p>2441 rows × 4 columns</p>\n",
       "</div>"
      ],
      "text/plain": [
       "                        country  year         age  suicides/100k pop\n",
       "27823                 Australia  2020  5-14 years           0.058467\n",
       "27824                   Austria  2020  5-14 years           0.022429\n",
       "27834                Costa Rica  2020  5-14 years           0.019519\n",
       "27838                   Czechia  2020  5-14 years           0.028043\n",
       "27841                   Ecuador  2020  5-14 years           0.250162\n",
       "...                         ...   ...         ...                ...\n",
       "31751                   Ukraine  2017   75+ years           0.571032\n",
       "31752            United Kingdom  2017   75+ years           0.157435\n",
       "31753  United States of America  2017   75+ years           0.154096\n",
       "31754                   Uruguay  2017   75+ years           0.409094\n",
       "31755                Uzbekistan  2017   75+ years           0.009263\n",
       "\n",
       "[2441 rows x 4 columns]"
      ]
     },
<<<<<<< HEAD
     "execution_count": 12,
=======
     "execution_count": 112,
>>>>>>> c1ce52453e2d534faaf972023b4d1c15c6847cff
     "metadata": {},
     "output_type": "execute_result"
    }
   ],
   "source": [
    "narrow_data_2 = master.loc[(master[\"year\"]<2022) & (master[\"year\"]>=2017)]\n",
    "narrow_data_3 = narrow_data_2.loc[(narrow_data_2[\"suicides/100k pop\"]>0)]\n",
    "narrow_data_3\n",
    "narrow_data_4 = pd.DataFrame(narrow_data_3, columns=[\"country\", \"year\", \"age\", \"suicides/100k pop\"])\n",
    "\n",
    "#narrow_data_2.dropna()\n",
    "narrow_data_4"
   ]
  },
  {
   "cell_type": "code",
<<<<<<< HEAD
   "execution_count": 13,
=======
   "execution_count": 113,
>>>>>>> c1ce52453e2d534faaf972023b4d1c15c6847cff
   "id": "33a9c465",
   "metadata": {
    "scrolled": false
   },
   "outputs": [],
   "source": [
    "age_data = narrow_data_4.groupby([\"age\"])[\"suicides/100k pop\"].mean()\n"
   ]
  },
  {
   "cell_type": "code",
<<<<<<< HEAD
   "execution_count": 14,
=======
   "execution_count": 150,
>>>>>>> c1ce52453e2d534faaf972023b4d1c15c6847cff
   "id": "531f425a",
   "metadata": {
    "scrolled": false
   },
   "outputs": [
    {
     "data": {
      "text/html": [
       "<div>\n",
       "<style scoped>\n",
       "    .dataframe tbody tr th:only-of-type {\n",
       "        vertical-align: middle;\n",
       "    }\n",
       "\n",
       "    .dataframe tbody tr th {\n",
       "        vertical-align: top;\n",
       "    }\n",
       "\n",
       "    .dataframe thead th {\n",
       "        text-align: right;\n",
       "    }\n",
       "</style>\n",
       "<table border=\"1\" class=\"dataframe\">\n",
       "  <thead>\n",
       "    <tr style=\"text-align: right;\">\n",
       "      <th></th>\n",
       "      <th>suicides/100k pop</th>\n",
       "    </tr>\n",
       "    <tr>\n",
       "      <th>age</th>\n",
       "      <th></th>\n",
       "    </tr>\n",
       "  </thead>\n",
       "  <tbody>\n",
       "    <tr>\n",
       "      <th>15-24 years</th>\n",
       "      <td>2.985494</td>\n",
       "    </tr>\n",
       "    <tr>\n",
       "      <th>25-34 years</th>\n",
       "      <td>5.307064</td>\n",
       "    </tr>\n",
       "    <tr>\n",
       "      <th>35-54 years</th>\n",
       "      <td>11.460384</td>\n",
       "    </tr>\n",
       "    <tr>\n",
       "      <th>5-14 years</th>\n",
       "      <td>0.261727</td>\n",
       "    </tr>\n",
       "    <tr>\n",
       "      <th>55-74 years</th>\n",
       "      <td>9.988835</td>\n",
       "    </tr>\n",
       "    <tr>\n",
       "      <th>75+ years</th>\n",
       "      <td>6.799660</td>\n",
       "    </tr>\n",
       "  </tbody>\n",
       "</table>\n",
       "</div>"
      ],
      "text/plain": [
       "             suicides/100k pop\n",
       "age                           \n",
       "15-24 years           2.985494\n",
       "25-34 years           5.307064\n",
       "35-54 years          11.460384\n",
       "5-14 years            0.261727\n",
       "55-74 years           9.988835\n",
       "75+ years             6.799660"
      ]
     },
<<<<<<< HEAD
     "execution_count": 14,
=======
     "execution_count": 150,
>>>>>>> c1ce52453e2d534faaf972023b4d1c15c6847cff
     "metadata": {},
     "output_type": "execute_result"
    }
   ],
   "source": [
    "age_data_df = pd.DataFrame(age_data)\n",
    "age_data_df\n"
   ]
  },
  {
   "cell_type": "code",
<<<<<<< HEAD
   "execution_count": 15,
=======
   "execution_count": 127,
>>>>>>> c1ce52453e2d534faaf972023b4d1c15c6847cff
   "id": "3e923d60",
   "metadata": {},
   "outputs": [
    {
     "data": {
      "image/png": "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\n",
      "text/plain": [
       "<Figure size 640x480 with 1 Axes>"
      ]
     },
     "metadata": {},
     "output_type": "display_data"
    }
   ],
   "source": [
    "labels = [\"15-24 years\", \"25-34 years\", \"35-54 years\", \"5-14 years\", \"55-74 years\", \"75+ years\"]\n",
    "explode = (0, 0, 0.1, 0, 0, 0)\n",
    "sizes = [2.985494, 5.307064, 11.460384, 0.261727, 9.988835, 6.799660]\n",
    "colors = [\"red\", \"orange\", \"blue\", \"yellow\", \"green\", \"lightskyblue\"]\n",
    "plt.pie(sizes, explode = explode, labels = labels, colors = colors, autopct = \"%1.1f%%\", shadow = \"True\", startangle = 250)\n",
    "plt.title(\"Global Suicide Rate by Age Group (2016 to 2020)\")\n",
    "plt.axis(\"equal\")\n",
    "plt.savefig(\"Output/Fig3.png\")\n",
    "plt.show()"
   ]
  },
  {
   "cell_type": "code",
<<<<<<< HEAD
   "execution_count": 16,
   "id": "259eb607",
   "metadata": {},
   "outputs": [
    {
     "data": {
      "text/plain": [
       "SUBJECT\n",
       "MEN      17.700000\n",
       "WOMEN     4.640909\n",
       "Name: Value, dtype: float64"
      ]
     },
     "execution_count": 16,
     "metadata": {},
     "output_type": "execute_result"
    }
   ],
   "source": [
    "narrow_1_data = narrow_1.loc[narrow_1[\"TIME\"]==2016]\n",
    "narrow_1_1 = narrow_1_data.loc[narrow_1_data[\"SUBJECT\"]!=\"TOT\"]\n",
    "narrow_2016 = narrow_1_1.groupby([\"SUBJECT\"])[\"Value\"].mean()\n",
    "narrow_2016"
   ]
  },
  {
   "cell_type": "code",
   "execution_count": 17,
   "id": "d5669b8f",
   "metadata": {},
   "outputs": [
    {
     "data": {
      "text/plain": [
       "SUBJECT\n",
       "MEN      17.709756\n",
       "WOMEN     4.763415\n",
       "Name: Value, dtype: float64"
      ]
     },
     "execution_count": 17,
     "metadata": {},
     "output_type": "execute_result"
    }
   ],
   "source": [
    "narrow_2_data = narrow_1.loc[narrow_1[\"TIME\"]==2017]\n",
    "narrow_2_1 = narrow_2_data.loc[narrow_2_data[\"SUBJECT\"]!=\"TOT\"]\n",
    "narrow_2017 = narrow_2_1.groupby([\"SUBJECT\"])[\"Value\"].mean()\n",
    "narrow_2017"
   ]
  },
  {
   "cell_type": "code",
   "execution_count": 18,
   "id": "808b51d3",
   "metadata": {
    "scrolled": true
   },
   "outputs": [
    {
     "data": {
      "text/plain": [
       "SUBJECT\n",
       "MEN      17.366667\n",
       "WOMEN     4.674359\n",
       "Name: Value, dtype: float64"
      ]
     },
     "execution_count": 18,
     "metadata": {},
     "output_type": "execute_result"
    }
   ],
   "source": [
    "narrow_3_data = narrow_1.loc[narrow_1[\"TIME\"]==2018]\n",
    "narrow_3_1 = narrow_3_data.loc[narrow_3_data[\"SUBJECT\"]!=\"TOT\"]\n",
    "narrow_2018 = narrow_3_1.groupby([\"SUBJECT\"])[\"Value\"].mean()\n",
    "narrow_2018"
   ]
  },
  {
   "cell_type": "code",
   "execution_count": 19,
   "id": "ee04c064",
   "metadata": {
    "scrolled": true
   },
   "outputs": [
    {
     "data": {
      "text/plain": [
       "SUBJECT\n",
       "MEN      18.111765\n",
       "WOMEN     4.658824\n",
       "Name: Value, dtype: float64"
      ]
     },
     "execution_count": 19,
     "metadata": {},
     "output_type": "execute_result"
    }
   ],
   "source": [
    "narrow_4_data = narrow_1.loc[narrow_1[\"TIME\"]==2019]\n",
    "narrow_4_1 = narrow_4_data.loc[narrow_4_data[\"SUBJECT\"]!=\"TOT\"]\n",
    "narrow_2019 = narrow_4_1.groupby([\"SUBJECT\"])[\"Value\"].mean()\n",
    "narrow_2019"
   ]
  },
  {
   "cell_type": "code",
   "execution_count": 20,
   "id": "2b501d70",
   "metadata": {
    "scrolled": true
   },
   "outputs": [
    {
     "data": {
      "text/plain": [
       "SUBJECT\n",
       "MEN      19.682353\n",
       "WOMEN     5.464706\n",
       "Name: Value, dtype: float64"
      ]
     },
     "execution_count": 20,
     "metadata": {},
     "output_type": "execute_result"
    }
   ],
   "source": [
    "narrow_5_data = narrow_1.loc[narrow_1[\"TIME\"]==2020]\n",
    "narrow_5_1 = narrow_5_data.loc[narrow_5_data[\"SUBJECT\"]!=\"TOT\"]\n",
    "narrow_2020 = narrow_5_1.groupby([\"SUBJECT\"])[\"Value\"].mean()\n",
    "narrow_2020"
   ]
  },
  {
   "cell_type": "code",
   "execution_count": 21,
   "id": "6c6a8a5d",
   "metadata": {},
   "outputs": [
    {
     "data": {
      "text/html": [
       "<div>\n",
       "<style scoped>\n",
       "    .dataframe tbody tr th:only-of-type {\n",
       "        vertical-align: middle;\n",
       "    }\n",
       "\n",
       "    .dataframe tbody tr th {\n",
       "        vertical-align: top;\n",
       "    }\n",
       "\n",
       "    .dataframe thead th {\n",
       "        text-align: right;\n",
       "    }\n",
       "</style>\n",
       "<table border=\"1\" class=\"dataframe\">\n",
       "  <thead>\n",
       "    <tr style=\"text-align: right;\">\n",
       "      <th></th>\n",
       "      <th>data_2020</th>\n",
       "      <th>data_2019</th>\n",
       "      <th>data_2018</th>\n",
       "      <th>data_2017</th>\n",
       "      <th>data_2016</th>\n",
       "    </tr>\n",
       "    <tr>\n",
       "      <th>SUBJECT</th>\n",
       "      <th></th>\n",
       "      <th></th>\n",
       "      <th></th>\n",
       "      <th></th>\n",
       "      <th></th>\n",
       "    </tr>\n",
       "  </thead>\n",
       "  <tbody>\n",
       "    <tr>\n",
       "      <th>MEN</th>\n",
       "      <td>19.682353</td>\n",
       "      <td>18.111765</td>\n",
       "      <td>17.366667</td>\n",
       "      <td>17.709756</td>\n",
       "      <td>17.700000</td>\n",
       "    </tr>\n",
       "    <tr>\n",
       "      <th>WOMEN</th>\n",
       "      <td>5.464706</td>\n",
       "      <td>4.658824</td>\n",
       "      <td>4.674359</td>\n",
       "      <td>4.763415</td>\n",
       "      <td>4.640909</td>\n",
       "    </tr>\n",
       "  </tbody>\n",
       "</table>\n",
       "</div>"
      ],
      "text/plain": [
       "         data_2020  data_2019  data_2018  data_2017  data_2016\n",
       "SUBJECT                                                       \n",
       "MEN      19.682353  18.111765  17.366667  17.709756  17.700000\n",
       "WOMEN     5.464706   4.658824   4.674359   4.763415   4.640909"
      ]
     },
     "execution_count": 21,
     "metadata": {},
     "output_type": "execute_result"
    }
   ],
   "source": [
    "summary_df = pd.DataFrame({\"data_2020\": narrow_2020, \"data_2019\": narrow_2019, \"data_2018\": narrow_2018, \"data_2017\": narrow_2017, \"data_2016\": narrow_2016})\n",
    "\n",
    "\n",
    "summary_df"
   ]
  },
  {
   "cell_type": "code",
   "execution_count": 22,
   "id": "a4d4f392",
   "metadata": {},
   "outputs": [],
   "source": [
    "dataset = pd.DataFrame({'MEN': [19.682353, 18.111765, 17.366667, 17.709756, 17.700000], 'WOMEN': [5.464706, 4.658824, 4.674359, 4.763415, 4.640909]})\n",
    "dataset\n",
    "mean_men = dataset[\"MEN\"].mean()\n",
    "mean_women = dataset[\"WOMEN\"].mean()\n"
   ]
  },
  {
   "cell_type": "code",
   "execution_count": 23,
   "id": "b767fff4",
   "metadata": {
    "scrolled": true
   },
   "outputs": [
    {
     "data": {
      "image/png": "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\n",
      "text/plain": [
       "<Figure size 640x480 with 1 Axes>"
      ]
     },
     "metadata": {},
     "output_type": "display_data"
    }
   ],
   "source": [
    "summary_df.plot(kind = \"bar\")\n",
    "plt.title(\"Global Suicide Rate by Gender (2016 to 2020)\")\n",
    "plt.xlabel(\"Gender (Men/Women)\")\n",
    "plt.ylabel(\"Suicide Rate/100k of the Population\")\n",
    "plt.savefig(\"Output/Fig4.png\")"
   ]
  },
  {
   "cell_type": "code",
   "execution_count": 24,
=======
   "execution_count": 116,
>>>>>>> c1ce52453e2d534faaf972023b4d1c15c6847cff
   "id": "c2087760",
   "metadata": {},
   "outputs": [
    {
     "data": {
      "image/png": "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\n",
      "text/plain": [
       "<Figure size 640x480 with 1 Axes>"
      ]
     },
     "metadata": {},
     "output_type": "display_data"
    }
   ],
   "source": [
    "time = np.arange(2016, 2021, 1)\n",
    "men_data = [17.7, 17.7, 17.4, 18.1, 19.7]\n",
    "women_data = [4.6, 4.8, 4.7, 4.7, 5.5]\n",
    "\n",
    "Men, = plt.plot(time, men_data, color=\"red\", label=\"Men\")\n",
    "Women, = plt.plot(time, women_data, color=\"blue\", label=\"Women\")\n",
    "\n",
    "\n",
    "plt.title(\"Global Suicide Rate by Gender (2016 to 2020)\")\n",
    "plt.xlabel(\"Year\")\n",
    "plt.ylabel(\"Suicide Rate/100k Population\")\n",
    "plt.legend(handles=[Men, Women], loc=\"best\")\n",
    "plt.grid()"
   ]
  },
  {
   "cell_type": "code",
<<<<<<< HEAD
   "execution_count": 34,
   "id": "217f79c4",
=======
   "execution_count": 117,
   "id": "2ed0c651",
>>>>>>> c1ce52453e2d534faaf972023b4d1c15c6847cff
   "metadata": {
    "scrolled": false
   },
   "outputs": [
    {
     "data": {
      "text/plain": [
       "<matplotlib.legend.Legend at 0x26682b77fd0>"
      ]
     },
     "execution_count": 117,
     "metadata": {},
     "output_type": "execute_result"
    },
    {
     "data": {
      "image/png": "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\n",
      "text/plain": [
       "<Figure size 640x480 with 1 Axes>"
      ]
     },
     "metadata": {},
     "output_type": "display_data"
    }
   ],
   "source": [
    "Men=[]\n",
    "Women=[]\n",
    "narrow_1_Drop_TOT = narrow_1.loc[narrow_1[\"SUBJECT\"]!=\"TOT\"]\n",
    "narrow_Gender = narrow_1_Drop_TOT.groupby([\"TIME\",\"SUBJECT\"])[\"Value\"].mean()\n",
    "\n",
    "Men_DF = narrow_1_Drop_TOT.loc[narrow_1_Drop_TOT[\"SUBJECT\"]==\"MEN\"]\n",
    "women_DF =narrow_1_Drop_TOT.loc[narrow_1_Drop_TOT[\"SUBJECT\"]==\"WOMEN\"]\n",
    "\n",
    "Men = Men_DF.groupby([\"TIME\"])[\"Value\"].mean()\n",
    "Women = women_DF.groupby([\"TIME\"])[\"Value\"].mean()\n",
    "time = Men.index\n",
    "\n",
    "Gender = pd.DataFrame({'Men': Men,'Women': Women}, index=time)\n",
    "Gender.plot.bar(rot=0)\n",
    "\n",
    "plt.title(\"Global Suicide Rate by Gender\")\n",
    "plt.xlabel(\"Gender (Men/Women) /Year\")\n",
    "plt.ylabel(\"Suicide Rate\")\n",
    "plt.legend( loc =\"lower right\")\n",
    "\n",
    "\n",
    "\n"
   ]
  },
  {
   "cell_type": "code",
   "execution_count": 118,
   "id": "217f79c4",
   "metadata": {},
   "outputs": [
    {
     "name": "stdout",
     "output_type": "stream",
     "text": [
      "                                              Country               Income\n",
      "0                                               Aruba          High income\n",
      "1                         Africa Eastern and Southern           Aggregates\n",
      "2                                         Afghanistan           Low income\n",
      "3                                              Africa           Aggregates\n",
      "4                          Africa Western and Central           Aggregates\n",
      "5                                              Angola  Lower middle income\n",
      "6                                             Albania  Upper middle income\n",
      "7                                             Andorra          High income\n",
      "8                                          Arab World           Aggregates\n",
      "9                                United Arab Emirates          High income\n",
      "10                                          Argentina  Upper middle income\n",
      "11                                            Armenia  Upper middle income\n",
      "12                                     American Samoa  Upper middle income\n",
      "13                                Antigua and Barbuda          High income\n",
      "14                                          Australia          High income\n",
      "15                                            Austria          High income\n",
      "16                                         Azerbaijan  Upper middle income\n",
      "17                                            Burundi           Low income\n",
      "18          East Asia & Pacific (IBRD-only countries)           Aggregates\n",
      "19        Europe & Central Asia (IBRD-only countries)           Aggregates\n",
      "20                                            Belgium          High income\n",
      "21                                              Benin  Lower middle income\n",
      "22                                       Burkina Faso           Low income\n",
      "23                                         Bangladesh  Lower middle income\n",
      "24                                           Bulgaria  Upper middle income\n",
      "25           IBRD countries classified as high income           Aggregates\n",
      "26                                            Bahrain          High income\n",
      "27                                       Bahamas, The          High income\n",
      "28                             Bosnia and Herzegovina  Upper middle income\n",
      "29  Latin America & the Caribbean (IBRD-only count...           Aggregates\n",
      "30                                            Belarus  Upper middle income\n",
      "31                                             Belize  Upper middle income\n",
      "32   Middle East & North Africa (IBRD-only countries)           Aggregates\n",
      "33                                            Bermuda          High income\n",
      "34                                            Bolivia  Lower middle income\n",
      "35                                             Brazil  Upper middle income\n",
      "36                                           Barbados          High income\n",
      "37                                  Brunei Darussalam          High income\n",
      "38           Sub-Saharan Africa (IBRD-only countries)           Aggregates\n",
      "39                                             Bhutan  Lower middle income\n",
      "40                                           Botswana  Upper middle income\n",
      "41            Sub-Saharan Africa (IFC classification)           Aggregates\n",
      "42                           Central African Republic           Low income\n",
      "43                                             Canada          High income\n",
      "44     East Asia and the Pacific (IFC classification)           Aggregates\n",
      "45                     Central Europe and the Baltics           Aggregates\n",
      "46       Europe and Central Asia (IFC classification)           Aggregates\n",
      "47                                        Switzerland          High income\n",
      "48                                    Channel Islands          High income\n",
      "49                                              Chile          High income\n",
      "Number of countries in the list: 50\n"
     ]
    }
   ],
   "source": [
    "\n",
    "countries = []\n",
    "country_income=[]\n",
    "country_name =[]\n",
    "income_level = []\n",
    "\n",
    "\n",
    "# Show Record Count\n",
    "\n",
    "query_url = \"http://api.worldbank.org/v2/countries?format=json\"\n",
    "\n",
    "country_data = requests.get(query_url).json()\n",
    "countries = country_data[1]\n",
    "\n",
    "for  country in countries:\n",
    "        \n",
    "    try:\n",
    "        # Parse the JSON and retrieve data\n",
    "        country_name.append(country['name'])\n",
    "       \n",
    "        income_level.append(country['incomeLevel']['value'])\n",
    "        \n",
    "       \n",
    "    # If an error is experienced, skip the country\n",
    "    except:\n",
    "        print(\"country not found. Skipping...\")\n",
    "        pass\n",
    "    \n",
    "#creating a data frame with country and its income level              \n",
    "country_income_df = pd.DataFrame({\"Country\": country_name, \n",
    "                                  \"Income\": income_level})\n",
    "print(country_income_df)\n",
    "print(f\"Number of countries in the list: {len(countries)}\")\n"
   ]
  },
  {
   "cell_type": "code",
<<<<<<< HEAD
   "execution_count": 35,
   "id": "dabfd689",
   "metadata": {},
   "outputs": [
    {
     "data": {
      "text/html": [
       "<div>\n",
       "<style scoped>\n",
       "    .dataframe tbody tr th:only-of-type {\n",
       "        vertical-align: middle;\n",
       "    }\n",
       "\n",
       "    .dataframe tbody tr th {\n",
       "        vertical-align: top;\n",
       "    }\n",
       "\n",
       "    .dataframe thead th {\n",
       "        text-align: right;\n",
       "    }\n",
       "</style>\n",
       "<table border=\"1\" class=\"dataframe\">\n",
       "  <thead>\n",
       "    <tr style=\"text-align: right;\">\n",
       "      <th></th>\n",
       "      <th>country</th>\n",
       "      <th>year</th>\n",
       "      <th>age</th>\n",
       "      <th>suicides/100k pop</th>\n",
       "    </tr>\n",
       "  </thead>\n",
       "  <tbody>\n",
       "    <tr>\n",
       "      <th>27823</th>\n",
       "      <td>Australia</td>\n",
       "      <td>2020</td>\n",
       "      <td>5-14 years</td>\n",
       "      <td>0.058467</td>\n",
       "    </tr>\n",
       "    <tr>\n",
       "      <th>27824</th>\n",
       "      <td>Austria</td>\n",
       "      <td>2020</td>\n",
       "      <td>5-14 years</td>\n",
       "      <td>0.022429</td>\n",
       "    </tr>\n",
       "    <tr>\n",
       "      <th>27834</th>\n",
       "      <td>Costa Rica</td>\n",
       "      <td>2020</td>\n",
       "      <td>5-14 years</td>\n",
       "      <td>0.019519</td>\n",
       "    </tr>\n",
       "    <tr>\n",
       "      <th>27838</th>\n",
       "      <td>Czechia</td>\n",
       "      <td>2020</td>\n",
       "      <td>5-14 years</td>\n",
       "      <td>0.028043</td>\n",
       "    </tr>\n",
       "    <tr>\n",
       "      <th>27841</th>\n",
       "      <td>Ecuador</td>\n",
       "      <td>2020</td>\n",
       "      <td>5-14 years</td>\n",
       "      <td>0.250162</td>\n",
       "    </tr>\n",
       "    <tr>\n",
       "      <th>...</th>\n",
       "      <td>...</td>\n",
       "      <td>...</td>\n",
       "      <td>...</td>\n",
       "      <td>...</td>\n",
       "    </tr>\n",
       "    <tr>\n",
       "      <th>31751</th>\n",
       "      <td>Ukraine</td>\n",
       "      <td>2017</td>\n",
       "      <td>75+ years</td>\n",
       "      <td>0.571032</td>\n",
       "    </tr>\n",
       "    <tr>\n",
       "      <th>31752</th>\n",
       "      <td>United Kingdom</td>\n",
       "      <td>2017</td>\n",
       "      <td>75+ years</td>\n",
       "      <td>0.157435</td>\n",
       "    </tr>\n",
       "    <tr>\n",
       "      <th>31753</th>\n",
       "      <td>United States of America</td>\n",
       "      <td>2017</td>\n",
       "      <td>75+ years</td>\n",
       "      <td>0.154096</td>\n",
       "    </tr>\n",
       "    <tr>\n",
       "      <th>31754</th>\n",
       "      <td>Uruguay</td>\n",
       "      <td>2017</td>\n",
       "      <td>75+ years</td>\n",
       "      <td>0.409094</td>\n",
       "    </tr>\n",
       "    <tr>\n",
       "      <th>31755</th>\n",
       "      <td>Uzbekistan</td>\n",
       "      <td>2017</td>\n",
       "      <td>75+ years</td>\n",
       "      <td>0.009263</td>\n",
       "    </tr>\n",
       "  </tbody>\n",
       "</table>\n",
       "<p>2441 rows × 4 columns</p>\n",
       "</div>"
      ],
      "text/plain": [
       "                        country  year         age  suicides/100k pop\n",
       "27823                 Australia  2020  5-14 years           0.058467\n",
       "27824                   Austria  2020  5-14 years           0.022429\n",
       "27834                Costa Rica  2020  5-14 years           0.019519\n",
       "27838                   Czechia  2020  5-14 years           0.028043\n",
       "27841                   Ecuador  2020  5-14 years           0.250162\n",
       "...                         ...   ...         ...                ...\n",
       "31751                   Ukraine  2017   75+ years           0.571032\n",
       "31752            United Kingdom  2017   75+ years           0.157435\n",
       "31753  United States of America  2017   75+ years           0.154096\n",
       "31754                   Uruguay  2017   75+ years           0.409094\n",
       "31755                Uzbekistan  2017   75+ years           0.009263\n",
       "\n",
       "[2441 rows x 4 columns]"
      ]
     },
     "execution_count": 35,
     "metadata": {},
     "output_type": "execute_result"
    }
   ],
   "source": [
    "narrow_data_4"
   ]
  },
  {
   "cell_type": "code",
   "execution_count": 36,
   "id": "cb4ce9d2",
=======
   "execution_count": 119,
   "id": "f6172f98",
>>>>>>> c1ce52453e2d534faaf972023b4d1c15c6847cff
   "metadata": {},
   "outputs": [
    {
     "data": {
      "text/plain": [
       "incomeLevel\n",
       "High income            15.734920\n",
       "Lower middle income    11.072447\n",
       "Upper middle income    10.783168\n",
       "Name: Suicide mortality rate (per 100,000 population), dtype: float64"
      ]
     },
<<<<<<< HEAD
     "execution_count": 36,
=======
     "execution_count": 119,
>>>>>>> c1ce52453e2d534faaf972023b4d1c15c6847cff
     "metadata": {},
     "output_type": "execute_result"
    }
   ],
   "source": [
    "hom_gdp.head()\n",
    "\n",
    "hom_gdp_merged = pd.merge(hom_gdp, narrow_data_4, on=\"country\")\n",
    "hom_gdp_merged.head()\n",
<<<<<<< HEAD
    "hom_gdp_merged_2019 = hom_gdp_merged.loc[(hom_gdp_merged[\"year_y\"]==2019)]\n",
    "hom_gdp_merged_2019\n",
    "hom_gdp_merged_2019_1 = hom_gdp_merged_1.groupby([\"incomeLevel\"])[\"Suicide mortality rate (per 100,000 population)\"].mean()\n",
    "hom_gdp_merged_2019_1\n"
=======
    "hom_gdp_merged_1 = hom_gdp_merged.loc[(hom_gdp_merged[\"year_y\"]==2019)]\n",
    "hom_gdp_merged_1\n",
    "hom_gdp_merged_2 = hom_gdp_merged_1.groupby([\"incomeLevel\"])[\"Suicide mortality rate (per 100,000 population)\"].mean()\n",
    "hom_gdp_merged_2\n",
    "\n"
>>>>>>> c1ce52453e2d534faaf972023b4d1c15c6847cff
   ]
  },
  {
   "cell_type": "code",
<<<<<<< HEAD
   "execution_count": 39,
   "id": "a4f4f748",
   "metadata": {},
   "outputs": [
    {
     "data": {
      "text/plain": [
       "Series([], Name: Suicide mortality rate (per 100,000 population), dtype: float64)"
      ]
     },
     "execution_count": 39,
     "metadata": {},
     "output_type": "execute_result"
    }
   ],
   "source": [
    "hom_gdp_merged_2016 = hom_gdp_merged.loc[(hom_gdp_merged[\"year_y\"]==2016)]\n",
    "hom_gdp_merged_2016\n",
    "hom_gdp_merged_2016_1 = hom_gdp_merged_2016.groupby([\"incomeLevel\"])[\"Suicide mortality rate (per 100,000 population)\"].mean()\n",
    "hom_gdp_merged_2016_1"
   ]
  },
  {
   "cell_type": "code",
   "execution_count": 40,
   "id": "db0e59b0",
   "metadata": {
    "scrolled": true
   },
   "outputs": [
    {
     "data": {
      "text/plain": [
       "incomeLevel\n",
       "High income            14.408019\n",
       "Lower middle income     9.263406\n",
       "Upper middle income    11.010688\n",
       "Name: Suicide mortality rate (per 100,000 population), dtype: float64"
      ]
     },
     "execution_count": 40,
     "metadata": {},
     "output_type": "execute_result"
    }
   ],
   "source": [
    "hom_gdp_merged_2017 = hom_gdp_merged.loc[(hom_gdp_merged[\"year_y\"]==2017)]\n",
    "hom_gdp_merged_2017\n",
    "hom_gdp_merged_2017_1 = hom_gdp_merged_2017.groupby([\"incomeLevel\"])[\"Suicide mortality rate (per 100,000 population)\"].mean()\n",
    "hom_gdp_merged_2017_1"
   ]
  },
  {
   "cell_type": "code",
   "execution_count": 41,
   "id": "910fa61c",
   "metadata": {},
   "outputs": [
    {
     "data": {
      "text/plain": [
       "incomeLevel\n",
       "High income            14.445721\n",
       "Lower middle income    10.145085\n",
       "Upper middle income    11.952359\n",
       "Name: Suicide mortality rate (per 100,000 population), dtype: float64"
      ]
     },
     "execution_count": 41,
     "metadata": {},
     "output_type": "execute_result"
    }
   ],
   "source": [
    "hom_gdp_merged_2018 = hom_gdp_merged.loc[(hom_gdp_merged[\"year_y\"]==2018)]\n",
    "hom_gdp_merged_2018\n",
    "hom_gdp_merged_2018_1 = hom_gdp_merged_2018.groupby([\"incomeLevel\"])[\"Suicide mortality rate (per 100,000 population)\"].mean()\n",
    "hom_gdp_merged_2018_1"
   ]
  },
  {
   "cell_type": "code",
   "execution_count": 43,
   "id": "d35bd4d0",
=======
   "execution_count": 120,
   "id": "09103cef",
>>>>>>> c1ce52453e2d534faaf972023b4d1c15c6847cff
   "metadata": {},
   "outputs": [
    {
     "data": {
      "text/plain": [
       "incomeLevel\n",
       "High income            17.247381\n",
       "Upper middle income    11.498267\n",
       "Name: Suicide mortality rate (per 100,000 population), dtype: float64"
      ]
     },
<<<<<<< HEAD
     "execution_count": 43,
=======
     "execution_count": 120,
>>>>>>> c1ce52453e2d534faaf972023b4d1c15c6847cff
     "metadata": {},
     "output_type": "execute_result"
    }
   ],
   "source": [
    "hom_gdp_merged_2020 = hom_gdp_merged.loc[(hom_gdp_merged[\"year_y\"]==2020)]\n",
    "hom_gdp_merged_2020\n",
    "hom_gdp_merged_2020_1 = hom_gdp_merged_3.groupby([\"incomeLevel\"])[\"Suicide mortality rate (per 100,000 population)\"].mean()\n",
    "hom_gdp_merged_2020_1\n"
   ]
  },
  {
   "cell_type": "code",
<<<<<<< HEAD
   "execution_count": 52,
   "id": "82263080",
   "metadata": {},
   "outputs": [
    {
     "data": {
      "text/html": [
       "<div>\n",
       "<style scoped>\n",
       "    .dataframe tbody tr th:only-of-type {\n",
       "        vertical-align: middle;\n",
       "    }\n",
       "\n",
       "    .dataframe tbody tr th {\n",
       "        vertical-align: top;\n",
       "    }\n",
       "\n",
       "    .dataframe thead th {\n",
       "        text-align: right;\n",
       "    }\n",
       "</style>\n",
       "<table border=\"1\" class=\"dataframe\">\n",
       "  <thead>\n",
       "    <tr style=\"text-align: right;\">\n",
       "      <th></th>\n",
       "      <th>Income Level 2017</th>\n",
       "      <th>Income Level 2018</th>\n",
       "      <th>Income Level 2019</th>\n",
       "      <th>Income Level 2020</th>\n",
       "    </tr>\n",
       "    <tr>\n",
       "      <th>incomeLevel</th>\n",
       "      <th></th>\n",
       "      <th></th>\n",
       "      <th></th>\n",
       "      <th></th>\n",
       "    </tr>\n",
       "  </thead>\n",
       "  <tbody>\n",
       "    <tr>\n",
       "      <th>High income</th>\n",
       "      <td>14.408019</td>\n",
       "      <td>14.445721</td>\n",
       "      <td>15.734920</td>\n",
       "      <td>17.247381</td>\n",
       "    </tr>\n",
       "    <tr>\n",
       "      <th>Lower middle income</th>\n",
       "      <td>9.263406</td>\n",
       "      <td>10.145085</td>\n",
       "      <td>11.072447</td>\n",
       "      <td>NaN</td>\n",
       "    </tr>\n",
       "    <tr>\n",
       "      <th>Upper middle income</th>\n",
       "      <td>11.010688</td>\n",
       "      <td>11.952359</td>\n",
       "      <td>10.783168</td>\n",
       "      <td>11.498267</td>\n",
       "    </tr>\n",
       "  </tbody>\n",
       "</table>\n",
       "</div>"
      ],
      "text/plain": [
       "                     Income Level 2017  Income Level 2018  Income Level 2019  \\\n",
       "incomeLevel                                                                    \n",
       "High income                  14.408019          14.445721          15.734920   \n",
       "Lower middle income           9.263406          10.145085          11.072447   \n",
       "Upper middle income          11.010688          11.952359          10.783168   \n",
       "\n",
       "                     Income Level 2020  \n",
       "incomeLevel                             \n",
       "High income                  17.247381  \n",
       "Lower middle income                NaN  \n",
       "Upper middle income          11.498267  "
      ]
     },
     "execution_count": 52,
     "metadata": {},
     "output_type": "execute_result"
    }
   ],
   "source": [
    "summary_df_1 = pd.DataFrame({\"Income Level 2017\": hom_gdp_merged_2017_1, \"Income Level 2018\": hom_gdp_merged_2018_1, \"Income Level 2019\": hom_gdp_merged_2019_1, \"Income Level 2020\": hom_gdp_merged_2020_1})\n",
    "\n",
    "summary_df_1"
   ]
  },
  {
   "cell_type": "code",
   "execution_count": 56,
   "id": "04d76307",
   "metadata": {},
   "outputs": [
    {
     "data": {
      "image/png": "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\n",
      "text/plain": [
       "<Figure size 640x480 with 1 Axes>"
      ]
     },
     "metadata": {},
     "output_type": "display_data"
    }
   ],
   "source": [
    "summary_df_1.plot(kind = \"bar\")\n",
    "plt.title(\"Global Suicide Rate by Income Level (2017 to 2020)\")\n",
    "plt.xlabel(\"Income Level\")\n",
    "plt.ylabel(\"Suicide Rate/100k of the Population\")\n",
    "plt.savefig(\"Output/Fig10.png\")"
   ]
  },
  {
   "cell_type": "code",
   "execution_count": 45,
   "id": "f6172f98",
=======
   "execution_count": 130,
   "id": "d4739836",
>>>>>>> c1ce52453e2d534faaf972023b4d1c15c6847cff
   "metadata": {},
   "outputs": [
    {
     "data": {
      "text/html": [
       "<div>\n",
       "<style scoped>\n",
       "    .dataframe tbody tr th:only-of-type {\n",
       "        vertical-align: middle;\n",
       "    }\n",
       "\n",
       "    .dataframe tbody tr th {\n",
       "        vertical-align: top;\n",
       "    }\n",
       "\n",
       "    .dataframe thead th {\n",
       "        text-align: right;\n",
       "    }\n",
       "</style>\n",
       "<table border=\"1\" class=\"dataframe\">\n",
       "  <thead>\n",
       "    <tr style=\"text-align: right;\">\n",
       "      <th></th>\n",
       "      <th>YEAR</th>\n",
       "      <th>STATE</th>\n",
       "      <th>RATE</th>\n",
       "      <th>DEATHS</th>\n",
       "    </tr>\n",
       "  </thead>\n",
       "  <tbody>\n",
       "    <tr>\n",
       "      <th>0</th>\n",
       "      <td>2021</td>\n",
       "      <td>AL</td>\n",
       "      <td>15.8</td>\n",
       "      <td>827</td>\n",
       "    </tr>\n",
       "    <tr>\n",
       "      <th>1</th>\n",
       "      <td>2021</td>\n",
       "      <td>AK</td>\n",
       "      <td>30.8</td>\n",
       "      <td>220</td>\n",
       "    </tr>\n",
       "    <tr>\n",
       "      <th>2</th>\n",
       "      <td>2021</td>\n",
       "      <td>AZ</td>\n",
       "      <td>19.5</td>\n",
       "      <td>1475</td>\n",
       "    </tr>\n",
       "    <tr>\n",
       "      <th>3</th>\n",
       "      <td>2021</td>\n",
       "      <td>AR</td>\n",
       "      <td>20.6</td>\n",
       "      <td>618</td>\n",
       "    </tr>\n",
       "    <tr>\n",
       "      <th>4</th>\n",
       "      <td>2021</td>\n",
       "      <td>CA</td>\n",
       "      <td>10.1</td>\n",
       "      <td>4148</td>\n",
       "    </tr>\n",
       "  </tbody>\n",
       "</table>\n",
       "</div>"
      ],
      "text/plain": [
       "   YEAR STATE  RATE DEATHS\n",
       "0  2021    AL  15.8    827\n",
       "1  2021    AK  30.8    220\n",
       "2  2021    AZ  19.5   1475\n",
       "3  2021    AR  20.6    618\n",
       "4  2021    CA  10.1   4148"
      ]
     },
<<<<<<< HEAD
     "execution_count": 45,
     "metadata": {},
     "output_type": "execute_result"
    }
   ],
   "source": [
    "USA_data.head(30)\n",
    "\n"
   ]
  },
  {
   "cell_type": "code",
   "execution_count": 46,
   "id": "d4739836",
   "metadata": {},
   "outputs": [
    {
     "name": "stdout",
     "output_type": "stream",
     "text": [
      "YEAR\n",
      "2005    12.444\n",
      "2014    15.030\n",
      "2015    15.634\n",
      "2016    15.792\n",
      "2017    16.702\n",
      "2018    16.450\n",
      "2019    16.398\n",
      "2020    16.078\n",
      "2021    16.972\n",
      "Name: RATE, dtype: float64\n"
     ]
=======
     "execution_count": 130,
     "metadata": {},
     "output_type": "execute_result"
>>>>>>> c1ce52453e2d534faaf972023b4d1c15c6847cff
    },
    {
     "data": {
      "image/png": "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\n",
      "text/plain": [
       "<Figure size 640x480 with 1 Axes>"
      ]
     },
     "metadata": {},
     "output_type": "display_data"
    }
   ],
   "source": [
    "#creatind dataframe from the csv file\n",
    "\n",
    "USA_by_year_df = pd.DataFrame(USA_data, columns=[\"YEAR\",\"STATE\",\"RATE\",\"DEATHS\"])\n",
    "USA_by_year_df= USA_by_year_df.loc[(USA_by_year_df[\"YEAR\"]>=2016) & (USA_by_year_df[\"YEAR\"]<=2021)]\n",
    "state = USA_by_year_df.groupby([\"YEAR\"])[\"RATE\"].mean()\n",
    "state.plot.bar(y= \"RATE\")\n",
    "\n",
    "plt.title(\"United States Suicide Rate (2015 to 2021)\")\n",
    "plt.xlabel(\"Year\")\n",
    "plt.ylabel(\"Suicide Rate/100k Population\")\n",
    "USA_by_year_df.head()"
   ]
  },
  {
   "cell_type": "code",
<<<<<<< HEAD
   "execution_count": 47,
=======
   "execution_count": 155,
   "id": "5476c084",
   "metadata": {},
   "outputs": [
    {
     "data": {
      "image/png": "iVBORw0KGgoAAAANSUhEUgAAAh8AAAGdCAYAAACyzRGfAAAAOXRFWHRTb2Z0d2FyZQBNYXRwbG90bGliIHZlcnNpb24zLjQuMywgaHR0cHM6Ly9tYXRwbG90bGliLm9yZy/MnkTPAAAACXBIWXMAAA9hAAAPYQGoP6dpAABQM0lEQVR4nO3deXyT9eEH8E+StkmPNKVHekALBQqCIAIW5FBAkUMUGDpvVKabE48pHsCcP2FTAQ+mm9M5N8FjON0EPFAEhFIuuUrlktNSjra09EoPmqbJ8/vjS5KmSY+0yZOjn/fr9bzaPM/T5Ps8lOaT76mQJEkCERERkUyUvi4AERERdS4MH0RERCQrhg8iIiKSFcMHERERyYrhg4iIiGTF8EFERESyYvggIiIiWTF8EBERkaxCfF2ApiwWCwoKCqDVaqFQKHxdHCIiImoDSZJQVVWFlJQUKJUt1234XfgoKChAamqqr4tBRERE7XDmzBl069atxXP8LnxotVoAovDR0dE+Lg0RERG1hcFgQGpqqu19vCV+Fz6sTS3R0dEMH0RERAGmLV0m2OGUiIiIZMXwQURERLJi+CAiIiJZMXwQERGRrBg+iIiISFYMH0RERCQrhg8iIiKSFcMHERERycrvJhkjIiIi7zBbzMgpzkFJbQkSIhIwRD8EKqVK9nIwfBAREXUCG/I3YPGuxThfe962LzEiEfOGzcP47uNlLQubXYiIiILchvwNmJM1xyF4AEBxbTHmZM3BhvwNspaH4YOIiCiImS1mLN61GBIkp2PWfUt2LYHZYpatTAwfREREQSynOMdW45FYZsKDXxXjqf8U2o5LkFBUW4Sc4hzZysQ+H0REREGstPwcJv1QgelbKzDiUDWUEmBSKfCvKQmo0NpjQEltiWxlYvggIiIKNpIE7NkDLFuG8Ss+xqTKKtuh3X0jsPqaLriodmz8SIhIkK14DB9ERETB4vx54OOPgWXLgEOHAIg3+vPxGqwaGY0vRutwVq92+BEFFEiMSMQQ/RDZisnwQUREFMjq64E1a4Dly8VX86WOoxoNMGMGMGsWDvSy4O3spy/9gL3jqQIKAMDcYXNlne+D4YOIiCgQ7d8vajg+/hi4cMG+/+qrgVmzgNtuA2JiAADjASxVLnU5z8fcYXNln+eD4YOIiChQlJUBK1aI0JHTaHRKUhJw773A/fcD/fq5/NHx3cdjXOo4znBKRERErWhoANatE4Hjyy9FMwsAhIYCU6eKWo6JE4GQ1t/SVUoVMpMyvVzg1jF8EBER+aOjR0Xg+OgjoKDAvn/wYBE47roLiIvzXfk6gOGDiIjIX1RWAp99JkLHjh32/fHxwN13i9AxaJDvyuchDB9ERES+ZLEAmzaJwLFyJXDxotivUgGTJ4vAcdNNQFiYb8vpQQwfREREvpCXJ4bHfvABkJ9v39+/vwgc99wjOpIGIYYPIiIiudTUAP/7nwgdWVn2/TodcOedInRkZgIKha9KKAuGDyIiIm+SJGDbNtGs8tlnQHW12K9QAOPHi8AxfToQHu7TYsqJ4YOIiMgbzp4FPvxQ1HIcP27f36uXCBz33gukpvqseL7E8EFE1AKzxewXkzJRgKirA774QtRyrF8vOpMCQGSkmHF01ixg9Oigb1ZpDcMHEVEzNuRvcDkd9bxh82Sfjpr8WKMVZPHJJ0BFhf3YtdeKwHHrrUBUlM+K6G8YPoiIXNiQvwFzsuZAarQIFwAU1xZjTtYcLB27lAGks3OxgiwAIC0NuO8+sfXq5bvy+TGlOycvWrQImZmZ0Gq10Ov1mD59Oo4ePWo7bjKZMHfuXAwcOBCRkZFISUnBvffei4LGM7MREfk5s8WMV3a8jOhqE7oV16P32TqE14mVQq1hZMmuJTBbzL4sJvlCfT2wejUwbRrQtSvw9NMieGg0YsbR9evFENo//pHBowVu1Xxs3rwZjzzyCDIzM9HQ0IDnnnsOEyZMwOHDhxEZGYna2lrk5OTg+eefx6BBg1BeXo4nnngCU6dOxZ49e7x1DUREjoxGMVOkdTMYHB+3tBkMQEU51l2sc3raswmhON5Ng+NdNTjerRyH9f/FwJG3iDU2KLhZV5D997+BkhL7/uHDRbPK7bfbVpCl1ikkSZJaP821kpIS6PV6bN68Gddee63Lc3bv3o1hw4YhPz8faWlprT6nwWCATqdDZWUloqOj21s0oqAWtJ0gJUnM7tjWsNDceUajx4pUG6aAKVQJXU0ztRyhocBllwEDB4ptwADxNS2t03cqDHgdWEG2M3Ln/btDfT4qKysBALGxsS2eo1AoENNMIjQajTA2+kNhMBg6UiSioOe3nSAlSUyg5G5QaHqOyeS5Mmm1YvKm6GjxtS1bdDT21+dj9p75qNGo0BAiAoSuugEZZ43IOFuHjLN16H3WiCuKFFBV1wAHDoit6Wtbg0jjUBKgC4F1Gh5cQZaa1+6aD0mSMG3aNJSXl2PLli0uz6mrq8Po0aNx2WWX4eOPP3Z5zoIFC7Bw4UKn/az5IHLWXCdIBcQbZLs7QVosQFVV+5oqrOcZDIDZQ30gFIrWA0Nrx7VasTZGO5gtZkz8fCKKa4ud7jUg7ndiRCLWzvgWqrPngIMH7QHkwAHgyJHmQ1RysmMYGThQfHqOiGhXWclDmltB9sor7SvIxsf7rHiBwJ2aj3aHj0ceeQRr1qzB1q1b0a1bN6fjJpMJv/zlL3H69GlkZWU1WxBXNR+pqakMH0RNWN8QG9d4AIDKLCGyzgJtrQXdpRi8nbkIqqpq92ofqqpEzYUnqFRtDwjNhYmoKEDpVn94j7MGPQAOAaRNQc9kAo4dE0GkcTDJy3N9vkIB9O7tHEp69253gKI2MBiATz91XkE2Lk6sq3L//SJ8UJt4PXw89thjWL16NbKzs5Genu503GQy4bbbbsPPP/+MjRs3Is6Nakb2+SBybXfRbvzqu18BADLO1GHWNyUYm1sF7UWL514kNNS9kOBqi4gImr4Orpq4kiKSMHfY3PbVMFVVAYcP28OINZg07sDYmEYjakWaNt2kpATNPZZdJ1xBVi5eCx+SJOGxxx7DqlWrkJWVhYyMDKdzrMHj+PHj2LRpExISErxWeKLO5JuTa/DZvx7Dr9aU4Nr91U7H60IVqA5XQROXiKi45PbVOGg0fFNrQpbOvefPO9eSHDoE1Na6Pr9LF+dakgEDxL8hudbcCrL9+tlXkE1O9lnxgoHXwsfs2bOxYsUKfPHFF+jbt69tv06nQ3h4OBoaGnDLLbcgJycHX3/9NRITE23nxMbGIqwNSZLhg6gJiwX48ktUv/g8ovYeBACYFcCGq6Lx0YR4nE4MQ1WEEg0hopni/YnvIzMp05clJk+wWMQbZtNakmPHmu9bk5rqHEouuwxQq+Utu7+oqQE+/1zUcrhaQfb++4Fhwxi4PcRr4UPRzD/QsmXLcP/99+PUqVMum2EAYNOmTRg7dmyrr8HwQXRJfb2YU+CVV0QHRgD1oUqsHhWD5ZPjcCbR8Q3F1gnylrXBMeyWXKurE50jG3dwPXgQOHPG9fkqFdCnj3PTTXq6z/vVeAVXkPUZWTqcegvDB3V6VVXAe+8BS5cC586JfTodMHs2sn9xJR49/CKAdnSCpOBWUSFCSNORN43XGWksMhK4/HLnpptGNdYBpaUVZO+/X8zL0Ya5pqj9GD6IAlFxMfCXvwB/+5v9DSM5GXjySeChh0TfDHihEyQFL0kSw0abNt0cPtz8RGwJCc5NN5df7p+LorW2guz99wPXXMNmFZkwfBAFkp9/Bl57TfwBrbs0pXefPsAzzwAzZ7psrw/aGU5JHg0NwIkTjrUkBw+Kfc29JaSnOzfd9Okj/9TyXEHWbzF8EAWC3FxgyRLRLm39xDZsGDB3rli0ivM7kNxqa+1DgRsHk6Ii1+c3nVreGkzaMbV8q4G6uRVkU1PF6rH338+F3HyM4YPIX0mSmGNgyRIxhbPVxInAvHnAmDGsIib/c+GCcy3JwYOif5Ir0dEihDRuuhk4EGhmKY7mlgyYf+VTuP6QUQSONWvso3w0GuAXvxC1HNddx6DuJxg+iPyN2SyW4V6yBNi9W+xTKsVKmM8+y1kUKfBIkpgvw9XU8g0Nrn/GOrV8o6abjVFFeOKH+Q4dqPucqcP0LeWYsqMCsVWNhhVzBVm/xvBB5C+MRtED/9VX7T3wNRrggQeAp54S7ehEwaS+3vXU8qdOuTzdrADO6MNwvJsGZxLDcPWhavTPr7MdL40JQ5cHH4Ny1q+A/v1lughqD9lWtSWiZlRWAu++C7zxBlBYKPZ16QI88gjw2GOAXu/T4hF5TViYvcmlsaoq0VejUdON6cd9CC2rQI/z9ehxvt52qkmlQNaVWqy+JgbbBmrx3o23IzOJwSOYMHwQeVJhIfDmm8A774hFqwCga1dRy/Hgg2KlVaLOSKsFrr5abJesP7kGr3z9FDLOGZFxtg49Co042VWDb67WoUJrf3sqqW1m7RsKWAwfRJ5w/LhoWvngA1HtDIg1I559VizFzUWqiJwkROpRGhOK0phQ/HB580NjEyLcWyOM/B/DB1FH7NkjOpF+/rl9foSRI8Vw2ZtuCs7pq4k8ZIh+CBIjElFcW+zQ4dTKumTAEP0QH5SOvIl/GYncJUliNsXx44HMTOB//xP7pkwBtmwR60pMncrgQdQKlVKFecPmAbAvEWBlfTx32FxOoBeE+NeRqK0aGoBPPwWGDgUmTAC+/17MLzBzJrB/P/D118Do0b4uJVFAGd99PJaOXQp9hGMn7MSIRK5VFMTY7ELUmosXRV+OV18VU6EDQESE6EA6Zw7Qvbtvy0cU4MZ3H49xqeO4ZEAnwvBB1JyKCuDtt8XoleJisS8uTgyVffRR8T0ReYRKqUJmUqavi0EyYfggaurcOeDPfxbzdFRXi31paWK47AMPiBUziYio3Rg+iKyOHBFNKx99BJhMYt+AAWLkyu23y796JxFRkGL4IPrhBzFc9osv7MNlr7lGLPQ2eTIXeiMi8jCGD+qcJAlYu1aEjs2b7funTRM1HSNG+K5sRERBjuGDOhfrcNlXXhHDYwHRnHL33cAzz3DhKiIiGTB8UOdQWwu8/z7w+uv21TWjooDf/AZ48kmgWzefFo+IqDNh+KDgVloK/O1vwF//Cly4IPYlJAC/+x0we7ZYaZaIiGTF8EHB6cwZYOlS4L33gJoasS89HXj6aWDWLCA83LflIyLqxBg+KLgcOiT6c6xYIfp3AMCgQWLkyq23AiH8lSci8jX+JabgsG2bGLny1Vf2fePGiZErEyZwuCwRkR9h+KDAZbEAa9aI0LFtm9inUAC/+IUIHcOG+bZ8RETkEsMHBR6TCfjkE9G8cuiQ2BcWBtx7r+jT0bevb8tHREQtYvigwFFdDfzzn6Ij6ZkzYp9WCzz8sBi9kpLi2/IREVGbMHyQ/yspEUNl33oLKC8X+xITgSeeAH77WyAmxpelIyIiN3Wa8GG2mJFTnIOS2hIkRCRgiH4IVEqVr4tFLTl1SkwK9q9/ARcvin29e4uZSO+9F9BofFo8IiJqn04RPjbkb8DiXYtxvva8bV9iRCLmDZuH8d3H+7Bk5NL+/aIT6aefAmaz2Dd0qOhEOmMGoGJoJCIKZEpfF8DbNuRvwJysOQ7BAwCKa4sxJ2sONuRv8FHJyIEkiQXebrxRzMuxYoUIHuPHAxs2ALt3A7/8JYMHEVEQCOrwYbaYsXjXYkgQy6QPPFmLnufqoC83QVPXAEgSluxaArPF7OOSdmIWC7BqlVhFduxY4NtvAaUSuO02YM8eYP164PrrOU8HEVEQCepml5ziHFuNh9IiYcWffnY4blYANeGH0TAnFarYBECna36Ljna9X6sVb5bkHqMR+Pe/gVdfBY4cEfvUajH1+VNPib4dREQUlII6fJTUlti+1xgtOJsQiqhaC6IumhFiAVQSEF1rAWoLgbOF7XsRhUIEkJYCSmtBJjo6aKb9brVjr8EA/OMfwJ//DBQUiH06nVjk7Xe/E6NYiIgoqAXHO14zEiISbN/Xhqsw+dVLk09JEjT1EqIumqGttWDxoPnoH9IVqKx03gwG1/srK4H6etFXwWAQW0dERra9tqW5c8LCOlaGDmqxY69mIPCXv4gVZisrxcGUFLGc/W9+I66DiIg6haAOH0P0Q5AYkYji2mJbvw8AgEKBOrUCRrUKISmJ6DvpXqA9w27r6toeVJoLNdYhpDU1YrPWBrSHRuN+s1HTTa1uV/8Ka8deh/sMIOzUGZS9czvM26qgqjeJnX37iuGy99wjXo+IiDqVoA4fKqUK84bNw5ysOVBA4fDGqIB4g507bG775/vQaMTWkaaC+vrWQ0trx61LxtfVie38+ZZfsyWhoW43HZm1UVix83nEK+pRHaHCxTAFLjtdh1+tuYAJuyuhunTbpWGZUMybD0ybxn4yRESdmEKSJKn10+RjMBig0+lQWVmJaA9VxbtqDkiKSMLcYXODY56PhgZ7QGlP7Yv1e08VRwmEWOyPtw6Mwr9ujMfs332KzGQu9kZEFIzcef8O6poPq/Hdx2Nc6rjgneE0JASIjRVbe1ksQFVVu2pfakuL0FB+AZEXLVBJIng0KIHvhunw/o3xOJYWDgAouXjBQxdMRESBrFOED0A0wWQmZfq6GP5LqbQ3qbjpUNFu/Oq7XwGShIg6C6LqLKgLVcAQ5fjr1bgDMBERdV6dJnyQ9zTu2FsbrkBtuGONkgIKJEYkYoh+iI9KSERE/oS9/qjDrB17AXtHXiuPdOwlIqKg4lb4WLRoETIzM6HVaqHX6zF9+nQcPXrU4RxJkrBgwQKkpKQgPDwcY8eOxaFDhzxaaPI/47uPx9KxS6GP0DvsT4xIxNKxS4OjYy8REXmEW6NdJk2ahDvuuAOZmZloaGjAc889hwMHDuDw4cOIjIwEACxZsgQvvfQSli9fjj59+uDFF19EdnY2jh49Cq1W2+preGO0C8mn1RlOiYgoKLnz/t2hobYlJSXQ6/XYvHkzrr32WkiShJSUFDzxxBOYO3cuAMBoNCIxMRFLlizBQw895NHCExERkX9w5/27Q30+Ki9Nkx17aYhnXl4eioqKMGHCBNs5arUaY8aMwfbt210+h9FohMFgcNiIiIgoeLU7fEiShDlz5mD06NEYMGAAAKCoqAgAkNhkxs/ExETbsaYWLVoEnU5n21JTU9tbJCIiIgoA7Q4fjz76KPbv349PPvnE6ZiiydogkiQ57bOaP38+KisrbduZM2faWyQiIiIKAO2a5+Oxxx7Dl19+iezsbHTr1s22PykpCYCoAUlOTrbtLy4udqoNsVKr1VBzcTEiIqJOw62aD0mS8Oijj2LlypXYuHEj0tPTHY6np6cjKSkJ69evt+2rr6/H5s2bMXLkSM+UmIiIiAKaWzUfjzzyCFasWIEvvvgCWq3W1o9Dp9MhPDwcCoUCTzzxBF5++WVkZGQgIyMDL7/8MiIiInDXXXd55QKIiIgosLgVPt555x0AwNixYx32L1u2DPfffz8A4Nlnn8XFixcxe/ZslJeXY/jw4Vi3bl2b5vggIiKi4NeheT68gfN8EBERBR7Z5vkgIiIichdXtSUiIuosLGYgfztQfR6ISgS6jwR8sAQGwwcREVFncPhLYO1cwFBg3xedAkxaAvSfKmtR2OxCREQU7A5/CXx2r2PwAABDodh/+EtZi8PwQUREFMwsZlHjgUvjSywSUGW5dPDSvrXzxHkyYfggIiIKZvnbRY2HJAFHTcA7NcCnF8VjAIAEGM6J82TCPh9ERETBrPo8UGAG1tcBpy7VboQrgHIJiFU4nicThg8iIqJglZ8PPP8P4Isa8VgF4OowYLQa0DRZ8DXK9Rps3sDwQUREFGwqKoBFi4A33wSMRrHvilBgnBqIadrjQiFGvXSXbw02hg+iQOQnY/WJyM/U1wN//zvwxz8CpaVi37hxwMM3AYf+eOmkxhObX6r9mLRY1r8hDB9EgcaPxuoTkZ+QJGDlSmDePODECbGvXz/g1VeBG28EFArg8t7N/O1YLPvfDq7tQhRIrGP10fS/7aVPL7d9yABC1Nns2AE8/TSw/dJolcREYOFC4IEHgJAmdQxerDV15/2bNR9EgaLpWH0AaJCAEMWlfQoxVv+yKWyCIeoMTp4E5s8H/vtf8Tg8XISQZ54BmltJXqkC0q+Rr4zNYPggChT524Gyc0C+GTjeILYyCxChAOKUQKwSiP0ZCHsRGD0N6N0biIrydamJyNNKS4EXXwT+9jfAZBJNKrNmiX4eXbv6unRtwvBB5O/OnAG+/Rb45D1gWxVganK8VgJqzcCZS+P3Ny0AsEB8n5wMZGQAffqIr9atVy/xKYmIAkddHfDWW8BLL4nRLAAwcSLwyivAFVf4tGjuYvgg8jcNDcAPPwBr1gDffAPs3+94PEoB9A4B+oQA3VRAtQSUWkQtSKkFUPUBTheJT0eFhWLLznZ8DoUCSE21h5HG4SQ9HQgLk+96iahlFgvw6afA738PnDol9l1xhehMOmGCT4vWXgwfRP6gpARYu1aEje++A8rL7ccUCuDqq4HJk4DyZYC2zNa/FACgBZCsgm2s/hM/inbdsjLg+HHH7dgx8dVgAE6fFtv33zuWRaUCevRwrCmxhpPu3cVxIpJHdrbox7F7t3ickiKaXO69N6D/L3K0C5EvWCzAvn0ibKxZA+za1WidBQBdugCTJokhcpMmAfHxYr9ttAvgcqx+W0a7SJIIO43DSOOttrb5nw0NBXr2dG7G6dNHtDUruVwUkUccPQrMnQt88YV4HBUlHj/5JBAZ6duyNcOd92+GDyK5GAzA+vUibHz7LVBU5Hh80CARNqZMAYYPdx4iZ+Vyno+unhmrL0lAQYFzTcnx46JnvXWmRFc0GtHJ1VUwSUwUNThE1LLiYjFM9t13AbNZ1G78+tfAggXi/5EfY/gg8geSBBw5Yu+7sWWL6M9hFRkJ3HCDCByTJwPdurX9uX0xw6nZLDq/umrGyctzvLamoqJc9y/JyADi4hhMiGprgTfeABYvBqqqxL6bbwaWLBGThQUAhg8iX7l4EcjKsgeOvDzH4xkZombjxhuBa68F1GqfFNPjTCaxgFXTZpxjx8T+lv7MdOniun9JRgag08l3DUS+YLEAH30E/OEPwNmzYt/QocBrrwFjx/q0aO5i+CCSU36+PWxs3CgCiFVYmPgDcuONYsvI8FkxfcZoBH7+2XUfE+sf2+YkJLhuxund22/bvYnabMMGMSFYbq54nJYGvPwycOedAdl/iuGDyJtMJmDbNntn0cOHHY9362bvu3HddZzoqyW1tWIdClfB5Pz5ln82JcW5pqRPH9EhVqPxXBm5iB952sGDwLPPir5fABAdDTz3HPD445793ZUZwweRpxUViaGwa9YA69aJzqNWSiUwcqS9OWXgQPZh8ASDwXX/kuPHxTDi5igU4hOkq/4l6elixE5bcRE/8qTCQuD//g94/33R3BISAsyeDTz/vH1EWwBj+CDqKIsF2LPH3pyyZ4/j8fh40Un0xhvFDINduvimnJ2VdQ4TV31MrJ31XFGpRABx1b8kLc1x3gQu4keeUl0t+nC8+qp9KPsttwCLFgVVUyzDB1F7VFSICb6++UZUh5aUOB4fOtTenHLVVQE9wU/QkiQxVLG5OUwa98dpKixMTDufkQH07gWcXgFEVIl1c7SKJrVZ1gndDrAJhppnNgPLlomaDevQ+uHDgddfB0aN8m3ZvICr2hK1hSSJtldr343t28UfCyutVkxdPGWKmOgrOdl3ZaW2USjEXAiJicDo0Y7HLJaW5zCprwd++klsTYUCSA8B+l2a1j5CCRjOib4gfrBCKPkZSRLNtM88Axw6JPb17CmG0d56K5tlwfBBnU1NjRiRYm1OOXPG8Xi/fva+G6NGcY2TYKJUis7A3boB48Y5HjObxVTz1jCy4xtg5zqxXk65RSzmd6xBbAoAPVRAv1Dgmp8YPshRbq6YDt26bEGXLqLmY/bs4Bla7wFsdqHgd/KkPWxkZTnO0qnRiBEp1qGw6ek+Kyb5kbwtwAc3ie/NElBiAY40AEdMwHmL47kjRgAzZoitZ0/5y0r+4cwZMVfHRx+Jmo+wMOCxx8Qolk7SJ4x9Pqhzq68Xs4muWSO2Y8ccj3fvLmo3pkwRc3BERPikmOTHLGbgjQGAoRBOHU7LLMBPDcBxBZDfpA/JoEH2IHL55axe7wwMBjEL6dKlYsl7ALjjDjFfRyf7MMPwQZ1PQYGo2fjmG7F+SnW1/VhIiGj/tzan9OvHNwVqXVsW8dMNBVavBlauBDZvduwzlJFhDyKZmfydCzYmE/Dee2LNFWvn9GuuEaNahg3zadF8heGDgp/ZDOzcae8sap0h0Cox0d6UcsMNnKab2sedRfwuXAC++gpYtUrMBdO4ea9bN+AXvxBBZPTo5hcNJP8nScCXX4pJwqy1qn36AK+8Akyd2qlDJsMHBafSUjEUds0a0ZO88URTCoX4tGEdCjt4cEBOT0x+qD0znFZVieHaK1eK39fGNXHx8cC0aSKIXH89OyEGkl27RGfSLVvE4/h4sQLtr3/t3uR1QYrhg4KDJAE//mjvLPrDD2K4pFVMjJjga8oU8VWv91lRiZpVVyfW8Fi5EvjiC8fQrNUCN90kgsikSZyK31/l5QG//z3wn/+IxxoN8OSTwNy5rFVthOGDAldVlfhDbe2/UVDgeHzgQHvfjREjWH1NgaWhAcjOFkFk1SrH32+NRoToGTNEIImN9V05SSgvB156CfjrX0VHdoUCmDkTePFFIDXV16XzOwwf5DvuVlFLkmg3tfbdyM4WHbmsIiKA8ePt/Tf4H56ChcUiqvFXrgQ+/1ys/GsVEiLmIpkxQzTRcII7edXXA2+/DfzxjyKAAGJI/muviSZdconhg3yjrYtw1dWJkQHW5pSTJx2fp1cv+1DYa68N6FUeidpEkoADB0QQWblSfG+lUIiFC2fMEJ1WO9nwTVlJEvC//wHz5tnDYP/+Yk2WyZM7dWfStmD4IPm1tgjX6NeBkw0icHz/vX1xJUB01Bozxt6c0qePXKUm8k/Hj4tmmZUrxaiuxq68UgSRW27hsHFP2r4deOop0bcMAJKSRM3HrFls3m0jhg+Sl21CpkY1HhYJOGMGjjeIrbjJrJApKfaRKddfLzreEZGzs2cd5xJp3Om6Tx/7XCJXXcUg0h4nToiajs8/F48jIsSaLE8/zQ7AbmL4IPmYTMCW/wL/ehAotYitzAIUmIG6RucpAAwZCMy4QwSOK67gH0oid124IOaYWLlSTKZXX28/lprqOJcIV11u2YULwJ/+JPp2NDSIofm/+pUYOpuS4uvSBSSGD/Iss1msW9B0ifJjx4BTp8R/XFfCFUDvECAjBOilAmYuAwbeKmvRiYKWwSD6TK1aJZoza2rsxxIS7HOJXHcd5xJprK4O+MtfxPTnlZVi3+TJYpKwAQN8W7YA59XwkZ2djVdffRV79+5FYWEhVq1ahenTp9uOV1dXY968eVi9ejVKS0vRo0cPPP7443j44Yc9XnjyIEkCzp1zDheNlxtvjkYN6ExArFJscUpArwKSlYCyUe3GfV9zBVAib7h40XEuEesIDQCIjnacSyQy0nfl9CWLBfjkEzFfx+nTYt+gQWIEy/jxvi1bkHDn/dvtXjQ1NTUYNGgQZs2ahVtuucXp+JNPPolNmzbh448/Ro8ePbBu3TrMnj0bKSkpmDZtmrsvR54kSUBxseuAceKEYyfQpsLCxCiUjAyx9elj/z4pEfjLFa4X4QIAKMSol+4jvXVlRJ1beDhw881iM5kc5xIpLARWrBCbRiMCiHUukU6y2iqyskQfjr17xeOuXcX8Hffcw+YpH+lQs4tCoXCq+RgwYABuv/12PP/887Z9Q4cOxY033og//elPrT4naz48oKzMOVxYN4Oh+Z9TqcQwvqbhIiMDSEtr+T9pWxbharoWBhF5l8UiRstY5xLJy7MfCwkRTTLWuUSSknxXTm/56ScxC+lXX4nHWq3oXPrEE1zN2gtk6/PhKnz89re/xd69e7F69WqkpKQgKysLU6dOxbfffovRo0c7PYfRaISx0QJMBoMBqampDB+tqapyHS6OHXOcvrkphUIEiabhok8foEePjq1P4M4iXEQkL0kC9u+3zyVy8KD9mEIBjBpln0ukRw+fFdMjzp8Xq82+957os6ZSAQ89BLzwApdh8CKfho/6+nr8+te/xocffoiQkBAolUr885//xMyZM10+x4IFC7Bw4UKn/QwfEM0gJ0+6Dhjnz7f8sykprgNGz57enbSrPYtwEZH8jh2zzyWya5fjsSFD7EN4+/XzTfnao7YWWLoUWLLEvpjf1Kni8WWX+bZsnYBPw8drr72G9957D6+99hq6d++O7OxszJ8/H6tWrcJ4F516On3Nh9EoZtJz1Q/j7NmWf1avdw4XGRlA796dt1MZEbnvzBn7XCLZ2Y5ziVx2mT2IDBnin0PkzWbgww+BP/zBvl7OVVeJzqRjxvi2bJ2Iz8LHxYsXodPpsGrVKkyZMsV23oMPPoizZ89i7dq1Hi18wGhoEENSXfXDyM93/I/eVEyMPVQ0rcngaopE5GklJfa5RDZscBzplpZmn0tk1Cj/6Ky5bp2YFGz/fvG4e3dg0SLg9tvF3B0kG6+OdmmJyWSCyWSCssk/uEqlgqWlN1g5eLs5wGIRnx5c9cP4+efm58IAxCx6rkaRZGQAcXH++UmDiIJTQgLwwANiq6wUc4msXCm+nj4NvPmm2BISgOnT7XOJhIXJW879+4FnnwW++0481ulEzcejj3I9qADgdviorq7GiRMnbI/z8vKQm5uL2NhYpKWlYcyYMXjmmWcQHh6O7t27Y/Pmzfjwww+xdOlSjxbcLW1d8Kw1kiSGrbkKGCdOiCaU5mg0ojnEVT+MxEQGDCLyPzodcOedYrt4UdQyrFwpRo+UlIgOne+9J86zziUycaJ3m30LCoDnnweWLRN/k0NDgUceEcEjLs57r0se5XazS1ZWFsaNG+e0/7777sPy5ctRVFSE+fPnY926dSgrK0P37t3xm9/8Bk8++SQUbXiD9XizS2sLnjUdAipJYtpdV508T5xwnEWwqdBQ0aHTVcDo2pVVgEQUHEwmsc6MdS6RoiL7sfBwx7lEYmI885pVVWJ12ddft89JdOutoomld2/PvAZ1CKdXt3K14JnVRUmsQVKrA3o/AJxoNKrEOuWuK0qlGIbWOGBYv09L4+qHRNS5WCxiJVjrXCKnTtmPhYSIhSOtc4kkJrbwPM00jTc0AO+/D/zf/9lH+Y0YITqTjuTEhf6E4cMqbwvwwU3i+4sS8F2dfeGz2lYuOy3N9UiS9HT52zaJiAKBJAE//mifS+TQIfsxhUIseGedS6R7d/sxV03j2mQg4jbgr/8Tk4UBYpblJUvEc7Cp2u8wfFgd+B/w+QPi+wYJeKnK8XiUQqxDMmQMcPVEe9Do1UtUHRIRUfsdPWqfS2T3bsdjQ4eKEHFFDLDn93BoGi80A+vqgFNm8Tg2VkwQ9tvf8sOfH2P4sGpc8wEAO41AlNK+AJr6UnLmgmdERN51+rR9LpEtWxynGIhXAv1CgPQQINcE7DeJ/SoA18QCnx8DYtmZ1N8xfFjZ+ny0suDZEwc4CycRkVyKi8VcIh//E9iyE3A1E8PAEOA6DRCj5AfEAOGzeT78jlIlhtN+di/E6BYXC55NWszgQUQkJ70eePBBYHgM8O9fAccbgJ9MopklSQmM1wApjf4uV7eynAQFnOAOH4AYRnvbh83M88EFz4iIfCYqEdAogIGhYmvpPAoqwR8+ABEwLpvCBc+IiPxJ95Hig2BrTePdOaQ22HSO8AGIoME2QyIi/8Gm8U6LU24SEZHvWJvGo5Md90enOM9ATUGj89R8EBGRf2LTeKfD8EFERL7HpvFOhc0uREREJCuGDyIiIpIVwwcRERHJiuGDiIiIZMXwQURERLJi+CAiIiJZMXwQERGRrBg+iIiISFYMH0RERCQrhg8iIiKSFcMHERERyYrhg4iIiGTF8EFERESyYvggIiIiWTF8EBERkawYPoiIiEhWDB9EREQkK4YPIiIikhXDBxEREcmK4YOIiIhkxfBBREREsmL4ICIiIlkxfBAREZGsGD6IiIhIVgwfREREJCuGDyIiIpIVwwcRERHJiuGDiIiIZMXwQURERLJi+CAiIiJZMXwQERGRrNwOH9nZ2bj55puRkpIChUKB1atXO53z008/YerUqdDpdNBqtbj66qtx+vRpT5SXiIiIApzb4aOmpgaDBg3CW2+95fL4yZMnMXr0aFx22WXIysrCjz/+iOeffx4ajabDhSUiIqLAp5AkSWr3DysUWLVqFaZPn27bd8cddyA0NBQfffRRu57TYDBAp9OhsrIS0dHR7S0aERERycid92+P9vmwWCxYs2YN+vTpg4kTJ0Kv12P48OEum2asjEYjDAaDw0ZERETBy6Pho7i4GNXV1Vi8eDEmTZqEdevW4Re/+AVmzJiBzZs3u/yZRYsWQafT2bbU1FRPFomIiIj8jEebXQoKCtC1a1fceeedWLFihe28qVOnIjIyEp988onTcxiNRhiNRttjg8GA1NRUNrsQEREFEHeaXUI8+cLx8fEICQlB//79Hfb369cPW7dudfkzarUaarXak8UgIiIiP+bRZpewsDBkZmbi6NGjDvuPHTuG7t27e/KliIiIKEC5XfNRXV2NEydO2B7n5eUhNzcXsbGxSEtLwzPPPIPbb78d1157LcaNG4e1a9fiq6++QlZWlifLTURERAHK7T4fWVlZGDdunNP+++67D8uXLwcAvP/++1i0aBHOnj2Lvn37YuHChZg2bVqbnp9DbYmIiAKPO+/fHepw6g0MH0RERIHHZ/N8EBEREbWG4YOIiIhkxfBBREREsmL4ICIiIlkxfBAREZGsGD6IiIhIVgwfREREJCuGDyIiIpIVwwcRERHJiuGDiIiIZMXwQURERLJi+CAiIiJZMXwQERGRrBg+iIiISFYMH0RERCQrhg8iIiKSFcMHERERyYrhg4iIiGTF8EFERESyYvggIiIiWTF8EBERkawYPoiIiEhWDB9EREQkK4YPIiIikhXDBxEREcmK4YOIiIhkxfBBREREsmL4ICIiIlkxfBAREZGsGD6IiIhIVgwfREREJCuGDyIiIpIVwwcRERHJiuGDiIiIZMXwQURERLIK8XUBiIiISB5mi4RdeWUorqqDXqvBsPRYqJQK2cvB8EFERNQJrD1YiIVfHUZhZZ1tX7JOgxdu7o9JA5JlLQubXYiIiILc2oOFePjjHIfgAQBFlXV4+OMcrD1YKGt5GD6IiIiCmNkiYeFXhyE13imJR9Z9C786DLNFavqjXsNmFyIioiC2K68MxeU1uLLoBEbm/4hR+bkINxkxY+brAEQAKaysw668MozoFSdLmRg+iIiIgo0kAYcPA99/jx4r12Dfjq2Irq91OCW2thJlETrb4+KquqbP4jVuN7tkZ2fj5ptvRkpKChQKBVavXt3suQ899BAUCgXeeOONDhSRiIiIWpWfD7z/PnD33UBKCjBgAPC73yF58zpE19eiUh2JtX1G4PkbfovrH3wHZeHRDj+u12pkK6rbNR81NTUYNGgQZs2ahVtuuaXZ81avXo2dO3ciJSWlQwUkIiIiFy5cADZuBL7/XmwnTzoeDw8HRo+G5brr8MCZaGRHdoNZqXJ6GgWAJJ0YdisXt8PH5MmTMXny5BbPOXfuHB599FF89913mDJlSrsLR0RERJdUVwPZ2faw8eOPjsdVKmDYMOD668U2YgSgVkMJ4PaDhcj6OAcKwKHjqXWGjxdu7i/rfB8e7/NhsVgwc+ZMPPPMM7j88stbPd9oNMJoNNoeGwwGTxeJiIgo8NTXAzt32sPGDz8ADQ2O5wwcaA8b114LREe7fKpJA5Lxzj1DnOb5SPLRPB8eDx9LlixBSEgIHn/88Tadv2jRIixcuNDTxSAiIgosFouozbCGjS1bgJoax3N69LCHjeuuAxIT2/z0kwYk44b+ScE3w+nevXvx5ptvIicnBwpF2y5m/vz5mDNnju2xwWBAamqqJ4tFRETkfyQJOHHCHjY2bQJKSx3PSUgQIcMaOHr27NBLqpQK2YbTtsSj4WPLli0oLi5GWlqabZ/ZbMZTTz2FN954A6dOnXL6GbVaDbVa7cliEBER+afCQsdOoqdPOx6PigLGjLGHjQEDAGXwzQfq0fAxc+ZMjB8/3mHfxIkTMXPmTMyaNcuTL0XUqfnL4lBE1IqKCmDzZnvYOHzY8XhoKDBypD1sZGaKfUHO7fBRXV2NEydO2B7n5eUhNzcXsbGxSEtLQ1ycY3VOaGgokpKS0Ldv346Xloj8anEoImqirg7Yts0eNvbsEX05rBQKYPBgETTGjwdGjwYiInxXXh9xO3zs2bMH48aNsz229te47777sHz5co8VjIicWReHaroCg3VxqHfuGcIAQiSnhgZg71572Ni2DWg0ghMA0KePvWZj3DggVr75NPyV2+Fj7NixkKS2Lz7jqp8HEbnP5eJQl0gQ4/UXfnUYN/RPYhMMkbdIEvDTTyJobNggmlQqKx3PSUmxh43rrwe6dfNNWf0Y13Yh8mcNDWIWw+JiHN13HMO270B8bSXiayoQV1uBKGMtKsKjURIZg9IIHUojYnDkPzW4fHAGoNcDXboEZWc1IlmdPm2v2di4UXQabSwmRtRoWMNG376ieYWaxfBBJLfqaqC4WGznz7f8fWmpbenr/gDebMvzf9no+5AQMVRPrxfzATT+2vR7vR7gyDMiEfg3bbIHjkb9HAEAGo3oqzF+vAgbgweL2UWpzRg+iDrKbBYhoS1horgYqK1t/TkbUyqB+HjUxsQhxxiG0ghRy3EhMgbVYeHocrEKcbWViKutQHxNBa4IMyK8vBQoLxc1J4WFzp/UmqPTtRxQGgcYnY6f7ig4VFeLCb2sYSM31/G4SiVGoTSetlwj3yJswYjhg8iV2tq2105cuODYm70twsNbr4mwfh8XB6hUUFskPLNkI4oq61z2+7AuDrV17nWAUiGmZi4paVsgKi4GTCbRdl1ZCRw/3vo1hIa2rfzWrRMMH6QAUV8P7Nol+mx8/72YwtxkcjxnwAB72Bgzptlpy6l9GD7Io/x2/gmLBSgra3ugqK527/kVChES2vpmHBXl9iWolAq8cHN/PNzWxaHCwoCuXcXWGkkS8xG0JaicPw8YDOKP9blzYmuLLl3a1vyTmAhotX5Tq+K3v9PUdhYLsH+/vWYjO9uj05aT+xSSO0NXZGAwGKDT6VBZWYloJs2AIvv8E3V1jp/cXb1ZWr+WlIjmEXeo1W2vnYiPF/0rZOAX83zU1TnWqrQUVNp779sa5BISvHbv/eJek/skSSwv33ja8gsXHM/x8LTl5N77N8MHeURz809YPx+2af6Jlj59u9rXnhWQY2Nd919w9abmR5++mwqoT+MWi+h/0tZ/V3drnQBR69SWoJKYCERGtunf1SO/0ySfoiJ72OjE05b7EsMHycpskTB6yUaHT4dWoWYT4mor0VdxEe/f2B2qkhZqKkpKnNtdWxMa6l7tRFiYh66avKZxf5vWgkp7+9u08vtijk/AzZ8ew5GGMFiUzqMYGvev8dvQF2DcDtSVlUBWVsvTlo8YYQ8bw4ax35GXufP+zT4f1GG78spwoawKV57/GUPPHkbmucPIuHAG8TXl0Bkbtav+rY1PGBPTtk+wej1HXASjiAjR/t6jR+vnNh5p1FrT2/nzwMWLYsvPF1szVAC+AWCBAmUR0SiN0OFiqBr1qlAYVWGoDwmFURWKsh/eQUJctBj5oFa3/rUt52g0IiR3ok/lbWreqqsDtm+3h43du5uftvz668VQ2MhIma+E2oo1H9Q+lZXAjh3A1q24sPZ7RP64D+ENRpenmpQqlEbooOmajJge3VoOEwkJnGuCvKe1OVYufTUWFCG0ohxKl+OKZBIW5l5g8ca5arXX+zI117ylspgxsOgEXom9gD4Hd4lpy+ua1K42nrZ87FjR/EY+w5oP8rzTp4GtW8W2bRtw4IBt8qv4S6eUhUdjb9d+2N2tPw4k9UZxVCwuRMSgUhMFKBT45NdXY0Qv/nEgH4qKElsrnQtzTpbinne3IbbWgLjaCsTWVkLTUA91Qz3CzCaoG0wIM5vwYGYKekSpxFoedXWuv7Z0rOnXxurrxVZV5cUb0gYqldcCkDk0DN99dRRXGyUYVWGQFApcUXQco/J/xNWnDyDa2GRESuNpy6+7DkhN9c09oQ5j+CBnZrMIF9agsXUrcPas83m9ewOjR8MyYiTu+ikEO8MSILloArG2jw9L52JKFBiGpcdC3yUSRUoVSqK6OB23/k4vtM6p4gmSJPo8tRZQ3Akz7Tmnrs6xOcNsFv1w3J0crw1UAP7cwvFKdSR+SBuIPndOR/odU4HLLmMza5Bg+CAx3n3nTnvQ2LHD+dNWSAgwZAgwapRoSx01yjYOXgng/oOF2NnW+SeI/Jzbc6p4gkIhmlr8oVN0Q4Msgae0rAoFReW22qRQcwN+ju2K7T0GYVv3QTiY2AsWpQpv/uJKpPdrw3w1FDAYPjqjoiJ70Ni2DcjJcZ6HITpa9BQfPVpsw4aJjoDNmDQgGe/cM8Sp01gS50SgANWpf6dDQsTm5Q6bx06W4s73fmj1PL2WU5kHG4aPYCdJwJEjjk0oJ086n5eaaq/RGD1ajIF3c6GkSQOScUP/pMCZf4KoFfyd9q5h6bFI1mlaXTKATbbBh+Ej2BiNwJ49jjUbZWWO5ygUwBVXODahpKV55OVVSgU7lVJQ4e+09/ikeYv8AsNHoCsrE2PfrSNR9uxx7jUfHg4MH24PGiNGiPkxiIh8rFM3b3ViDB+BRJKAvDzHJpSms/oBYr6Mxk0ogwdzZj8i8lts3up8GD78WUMDkJtrDxpbt4rOok1ddpk9aIweDfTqxeFoRBRQ2LzVuTB8+JOqKuCHH+xBY+dO52WfQ0OBq66y12yMHClmBSUiIgoQDB++dPasY8fQH390XiQrJkaEDGvNxlVXiT4cREREAYrhQy4WC3DokGN/DVcLW6WnO45C6d+/Uy0wRUREwY/hw1suXgR27XKcNbSiwvEcpRK48kp70Bg1CujKWfyIiCi4MXx4SkmJYxPK3r1inYbGIiPFMFdrzcbw4YBW65vyEhER+QjDR3tIEnD8uGMTyrFjzuclJ9tHoIwaBQwa5PXlqYmIiPxdp3knNFuk9o8hr68X6580rtkoKXE+7/LLHefX6NGDQ16JiIia6BThY+3BQqfZ85Jbmj2vokL00bAGjZ07xWqMjanVQGamvWZjxAgglusPEBERtSbow8fag4V4+OMcp0WLiirr8PDHOXjn7sGYFG1ybEI5eFA0rTQWF+c4CmXoUBFAiIiIyC1BHT7MFgkLvzrsEDyUFjP6lZzC0LOHkXn2MIa88xNguOD8w717Ozah9O3LJhQiIiIPCOrwsSuvzNbUoq8qxWvfvIHBBUegrb/ocJ4lJATKwYPtTSgjRwJJSb4oMhERUdAL6vBRXGXvp1ERHo3hZw5CbTahKiwcOV37YU/XftjT7XLc/fituGlEhg9LSkRE1HkEdfjQazW27+tDQvHETU/hVGwKjsZ3h0Wpsh17XM+OokRERHIJ6vAxLD0WyToNiirrIAH49rLRDscVAJJ0YtgtERERySOoFw1RKRV44eb+AETQaMz6+IWb+7d9vg8iIiLqsKAOHwAwaUAy3rlnCJJ0Gof9SToN3rlniOt5PoiIiMhrgrrZxWrSgGTc0D+p/TOcEhERkcd0ivABiCaYEb3ifF0MIiKiTi/om12IiIjIvzB8EBERkawYPoiIiEhWDB9EREQkK4YPIiIikpXb4SM7Oxs333wzUlJSoFAosHr1atsxk8mEuXPnYuDAgYiMjERKSgruvfdeFBQUeLLMREREFMDcDh81NTUYNGgQ3nrrLadjtbW1yMnJwfPPP4+cnBysXLkSx44dw9SpUz1SWCIiIgp8CkmSpHb/sEKBVatWYfr06c2es3v3bgwbNgz5+flIS0tr9TkNBgN0Oh0qKysRHR3d3qIRERGRjNx5//b6JGOVlZVQKBSIiYlxedxoNMJoNNoeGwwGbxeJiIiIfMirHU7r6uowb9483HXXXc2moEWLFkGn09m21NRUbxaJiIiIfMxr4cNkMuGOO+6AxWLB22+/3ex58+fPR2VlpW07c+aMt4pEREREfsArzS4mkwm33XYb8vLysHHjxhbbftRqNdRqtTeKQURERH7I4+HDGjyOHz+OTZs2IS6Oi7kRERGRndvho7q6GidOnLA9zsvLQ25uLmJjY5GSkoJbb70VOTk5+Prrr2E2m1FUVAQAiI2NRVhYmOdKTkRERAHJ7aG2WVlZGDdunNP+++67DwsWLEB6errLn9u0aRPGjh3b6vNzqC0REVHg8epQ27Fjx6KlvNKBaUOIiIioE+DaLkRERCQrhg8iIiKSFcMHERERyYrhg4iIiGTF8EFERESyYvggIiIiWTF8EBERkawYPoiIiEhWDB9EREQkK4YPIiIikhXDBxEREcmK4YOIiIhkxfBBREREsmL4ICIiIlkxfBAREZGsGD6IiIhIVgwfREREJKsQXxeAiNxnsUgoPF6BGoMRkdFqJGfEQKlU+LpYRERtwvBBFGBO7ivGlk+Po6bCaNsXGaPGNbdnoNdgvQ9LRkTUNmx2IQogJ/cVY+27Bx2CBwDUVBix9t2DOLmv2EclIyJqO4YPogBhsUjY8ulx8UCyIKKmFLGlP0NrKIS6zgCFxYytnx2HxSL5tqBERK1gswuRP6qqAs6cAU6ftm11B09g/O4j0FYXI6q6BCpLg9OPmUI0kP4VA8TFADpdy1t0tOv9YWGyXy4RdS4MH0Rya2gACgocgkXToIGKCqcfi7i0WVkUShjVWoQ01CG0QTTDhDbUASVFYmsvjabtQaW58zQaQBEcHWDZuZfI8xg+iDxJkoDycteBwrrv3DnAYmn9uWJigLQ0saWmojI8ATtzG1AdpUdVlB61EXGwqMR/YaXZhLD6WoTV12DiL7tB30UCKisBg0F8bW0zGIDqavG6dXViO3++/fchNLR9tS6Nt4gInwcYdu4l8g6GDyJ3GI3A2bMt11rU1LT+PKGhQGqq2KwBo1HQQGqqeINuRGuRUPD77U6dTQHAogpFXbgOISl6xE8fCbTnk7nZ3HpYae14VZUIYCYTcOGC2NpLpWp7jUtzgSYqClC2r2ubtXNvU9bOvZMeGsAAQtRODB9EVpIEFBc3X2tx+nTbawMSEpwDRePHiYluvykqlQpcc3uGyzdEq9G3ZbS/SUClArp0EVt7WSyiBqWttS3NHbNYRBgqLxdbeykUzqGkDYHGoo3Gvn8ch9oYivrQCEhKldNTb/3sONIHJbAJhqgdGD6o86ipab4pxPrV6Fyr4CQ8vPlQkZYGdOsmzvGCXoP1mPTQAKemgKguaoy+zQ+aApRK8eYeHS3uTXtIkvi3amttS3PnmEziuayP3bkMALc2emwMi0RZlx4oTuiD4oS+KEnogwpLNxQer0DXvh0Ia0SdlEKSJL8al2cwGKDT6VBZWYnoJtXOHcFOY/Lw2X02m4HCwuabQk6fBsrKWn8ehQJISWm+OSQtDYiL83lfBP4+t0KSRL8Vd5uNLm0NpRVAZSVCzPXNvkR9aDgaBgxCxHWjgKuuEluvXj7/3SDyFXfevztF+GCnMXl47T5bP7021xRy5ozoh2E2t/5c0dHNh4q0NBE8ONS00zt3tByr/7zvUkfeGoTXVSD+wknoS45CX3IUCRdOiJFFTcXEAEOHiiCSmSm+pqUxkFCnwPDRSHOdxqzYacwzOnSf6+vFCJCWOnFWVbVeiJAQ0eTRXHNIaqpo0ydqhcUi4cNmOvcCgMJiRldLEW4eZYZy7x5gzx4gN9d1s118vL1mxBpKUlK8ewFEPsDwcUlrf0AA0VY+86WRrLLugBbvsyRBU1cJvbIcU26OhfKsi9qLoiJRu9Ga+PiWm0OSkkSnSSIPcDtQm0zAoUMiiOzZA+zeDezfL+Z1aSo52TGQXHUVoOeHIApsDB+XWKtOAUBpbsDEDQtdnpfcKwbhUaEdeq3O7GK1CYUnKxz2hZrqEFVdDG11cYvt5jZqdcvNIampYt4HIhm5akp0q3NvXR1w4IBjIDl0yPU8L2lpjmFk6FAgNtaDV0PkXe68fwf1aJcaQ+NP4hJ6ntru+sRTcpQmeIUD6NnKOTURcVD27I7wfr1c117Ex7NdnPxOr8F6pA9KaH/nXo1GNLNkZtr31daKJhprINmzBzhyxF4TuHKl/dyePR37jwwZ4jT/C1Eg6jQ1HwqLGf2OrnV53pXjU9ElKbJDr9WZlRfVIHfDGYd9DaowVEfpUR2VgOrIeFhUYZj+5GAOSyRypaoKyMlxDCQnTrg+t29fx/4jV14JRPLvF/keaz4uSc6IQWSMGjUVRkhKFQ73m+J0TlQXNcY8184ZIQkAoLNIyK9pvW9NckaMfIUiCiRaLTBmjNisystFINm92x5I8vOBo0fF9u9/i/OUSqB/f8cmm0GDRK0LkZ8K6poPgKNd5ML7TCSDkhJg717HQFJQ4HxeSAgwcKBjIBkwgMPIyavY4bSJDncaozbhfSbygYICEUisHVr37BEhpSm1WtSINA4k/fqJoELkAQwfLnBGSHnwPhP5mCSJeXIa9x/Zs8f1Gjnh4cDgwfYOrVddBfTp0+7F+KhzY/ggIiI7SQJ+/tkxjOzd63ryPq1WjKpp3Km1Z0+ORgsS3vyAyPBBREQts1iAY8ccA0lODnDxovO5MTHOk6Jx2viA4+2lRhg+iIjIfQ0NYs6Rxh1ac3PFEghNJSQ4B5IOTBvPJlvvkmNQgFfDR3Z2Nl599VXs3bsXhYWFWLVqFaZPn247LkkSFi5ciH/84x8oLy/H8OHD8be//Q2XX365xwtPREReVl8vZmVtHEgOHGh52vjGfUgSElp9CS7+6SUWC2A0wnKxDv/9vy0wltdAZa6HylwPhcWMCwl9bKd6YqkRr4aPb7/9Ftu2bcOQIUNwyy23OIWPJUuW4KWXXsLy5cvRp08fvPjii8jOzsbRo0eh1Wo9WngiIvKBujqxbk3jETaHD7c8bbw1kAwdCnSxTzYYlMP0GxrEIoN1dS1/bcs5HTnXZGq2iKYQDf7xwBqHfR2dCNKrk4xNnjwZkydPdnlMkiS88cYbeO655zBjxgwAwAcffIDExESsWLECDz30kLsvR0RE/kajAYYNE5tVTY3jtPG7d4vJ0FxNG9+rF3DVVbAMHYpj+8IRqukOU5jrWVq3fnYc6YMSWv9ELkmilkaON/XWzjGbO36PPUyCAmZVKBpUYbCoQmEKcZ6EznFJEu/y6ADvvLw8FBUVYcKECbZ9arUaY8aMwfbt212GD6PRCGOjZagNBoMni0RERHKIjARGjRKblcHgOG387t1i1M3Jk8DJk1B++ikmQ7wxlsekoiQ+A6awCKjMpkvNA+Jr/WYNNCpz62/8/kilEmFNrXb+6mqfF849d6oWq9862GoH4chotUw3xcPho6ioCACQmJjosD8xMRH5+fkuf2bRokVYuND1arNERBTAoqOBsWPFZlVWZpsUrWr9VmD3HmirixFbcRqxFaddP08zu1sUFua1N/M2n6tW+8UkbsmXRyGyi8avlsDwyl1RNElXkiQ57bOaP38+5syZY3tsMBiQmprqjWIREZGvxcYCN9wA3HADDDPE4p/htWXQXziO+AsnoLSYbc0DZlUoLKpQXHlTH8Smx7b9jT8sjBOlNaJUKnDN7Rkt9q0ZfVuGrKOLPBo+kpKSAIgakOTkZNv+4uJip9oQK7VaDbVavqoeIiLyD7bFPxGL/LThyE8b7nROVBc1xs7h4p8d1WuwHpMeGuA3S2B4NHykp6cjKSkJ69evx+DBgwEA9fX12Lx5M5YsWeLJlyIiogDnj5/Ig1mvwXqkD0rwi/lU3A4f1dXVOHHihO1xXl4ecnNzERsbi7S0NDzxxBN4+eWXkZGRgYyMDLz88suIiIjAXXfd5dGCExFR4PO3T+TBTqlUdGg4rae4HT727NmDcePG2R5b+2vcd999WL58OZ599llcvHgRs2fPtk0ytm7dujbN8UFERJ2PP30iJ3lwenUiIiLqMHfev9kdmIiIiGTF8EFERESyYvggIiIiWTF8EBERkawYPoiIiEhWDB9EREQkK4YPIiIikhXDBxEREcmK4YOIiIhk5dGF5TzBOuGqwWDwcUmIiIiorazv222ZON3vwkdVVRUAIDU11cclISIiIndVVVVBp9O1eI7fre1isVhQUFAArVYLhcKziwoZDAakpqbizJkzXDfGi3if5cH7LB/ea3nwPsvDW/dZkiRUVVUhJSUFSmXLvTr8ruZDqVSiW7duXn2N6Oho/mLLgPdZHrzP8uG9lgfvszy8cZ9bq/GwYodTIiIikhXDBxEREcmqU4UPtVqNF154AWq12tdFCWq8z/LgfZYP77U8eJ/l4Q/32e86nBIREVFw61Q1H0REROR7DB9EREQkK4YPIiIikhXDBxEREckqoMLHokWLkJmZCa1WC71ej+nTp+Po0aMO50iShAULFiAlJQXh4eEYO3YsDh065HDOP/7xD4wdOxbR0dFQKBSoqKhw+Xpr1qzB8OHDER4ejvj4eMyYMcNbl+ZX5LrPWVlZUCgULrfdu3d7+zL9gpy/08eOHcO0adMQHx+P6OhojBo1Cps2bfLm5fkNOe9zTk4ObrjhBsTExCAuLg6/+c1vUF1d7c3L8xueuM9lZWV47LHH0LdvX0RERCAtLQ2PP/44KisrHZ6nvLwcM2fOhE6ng06nw8yZM5v9Wx5s5LzPL730EkaOHImIiAjExMR47BoCKnxs3rwZjzzyCH744QesX78eDQ0NmDBhAmpqamznvPLKK1i6dCneeust7N69G0lJSbjhhhtsa8YAQG1tLSZNmoTf//73zb7W559/jpkzZ2LWrFn48ccfsW3bNtx1111evT5/Idd9HjlyJAoLCx22Bx98ED169MBVV13l9ev0B3L+Tk+ZMgUNDQ3YuHEj9u7diyuvvBI33XQTioqKvHqN/kCu+1xQUIDx48ejd+/e2LlzJ9auXYtDhw7h/vvv9/Yl+gVP3OeCggIUFBTgtddew4EDB7B8+XKsXbsWDzzwgMNr3XXXXcjNzcXatWuxdu1a5ObmYubMmbJer6/IeZ/r6+vxy1/+Eg8//LBnL0IKYMXFxRIAafPmzZIkSZLFYpGSkpKkxYsX286pq6uTdDqd9Pe//93p5zdt2iQBkMrLyx32m0wmqWvXrtI///lPr5Y/UHjrPjdVX18v6fV66Y9//KNHyx9IvHWvS0pKJABSdna2bZ/BYJAASBs2bPDOxfgxb93nd999V9Lr9ZLZbLbt27dvnwRAOn78uHcuxo919D5bffbZZ1JYWJhkMpkkSZKkw4cPSwCkH374wXbOjh07JADSkSNHvHQ1/stb97mxZcuWSTqdzmNlDqiaj6as1UOxsbEAgLy8PBQVFWHChAm2c9RqNcaMGYPt27e3+XlzcnJw7tw5KJVKDB48GMnJyZg8ebJTFWxn4a373NSXX36JCxcudJpPia54617HxcWhX79++PDDD1FTU4OGhga8++67SExMxNChQz17EQHAW/fZaDQiLCzMYVGt8PBwAMDWrVs9UfSA4qn7XFlZiejoaISEiOXIduzYAZ1Oh+HDh9vOufrqq6HT6Tr0NyhQees+e1PAhg9JkjBnzhyMHj0aAwYMAABb9XFiYqLDuYmJiW5VLf/8888AgAULFuAPf/gDvv76a3Tp0gVjxoxBWVmZh64gMHjzPjf1r3/9CxMnTkRqamr7CxzAvHmvFQoF1q9fj3379kGr1UKj0eDPf/4z1q5d69F23EDgzft83XXXoaioCK+++irq6+tRXl5ua6IpLCz00BUEBk/d59LSUvzpT3/CQw89ZNtXVFQEvV7vdK5er+8UzYiNefM+e1PAho9HH30U+/fvxyeffOJ0TKFQODyWJMlpX0ssFgsA4LnnnsMtt9yCoUOHYtmyZVAoFPjvf//bsYIHGG/e58bOnj2L7777zqm9sTPx5r2WJAmzZ8+GXq/Hli1bsGvXLkybNg033XRTp3tT9OZ9vvzyy/HBBx/g9ddfR0REBJKSktCzZ08kJiZCpVJ1uOyBxBP32WAwYMqUKejfvz9eeOGFFp+jpecJZt6+z94SkOHjsccew5dffolNmzahW7dutv1JSUkA4JTsiouLnRJgS5KTkwEA/fv3t+1Tq9Xo2bMnTp8+3ZGiBxRv3+fGli1bhri4OEydOrX9BQ5g3r7XGzduxNdff43//Oc/GDVqFIYMGYK3334b4eHh+OCDDzxzEQFAjt/pu+66C0VFRTh37hxKS0uxYMEClJSUID09veMXECA8cZ+rqqowadIkREVFYdWqVQgNDXV4nvPnzzu9bklJSbv/BgUib99nbwqo8CFJEh599FGsXLkSGzdudPrPnJ6ejqSkJKxfv962r76+Hps3b8bIkSPb/DpDhw6FWq12GLpkMplw6tQpdO/eveMX4ufkus+NX2/ZsmW49957ZfvF9xdy3eva2loAcOiLYH1srekLZnL/TgOiijsqKgqffvopNBoNbrjhhg5dQyDw1H02GAyYMGECwsLC8OWXX0Kj0Tg8z4gRI1BZWYldu3bZ9u3cuROVlZXt/vcKJHLdZ6/yWNdVGTz88MOSTqeTsrKypMLCQttWW1trO2fx4sWSTqeTVq5cKR04cEC68847peTkZMlgMNjOKSwslPbt2ye99957thEA+/btk0pLS23n/O53v5O6du0qfffdd9KRI0ekBx54QNLr9VJZWZms1+wLct5nSZKkDRs2SACkw4cPy3aN/kKue11SUiLFxcVJM2bMkHJzc6WjR49KTz/9tBQaGirl5ubKft1yk/N3+q9//au0d+9e6ejRo9Jbb70lhYeHS2+++aas1+srnrjPBoNBGj58uDRw4EDpxIkTDs/T0NBge55JkyZJV1xxhbRjxw5px44d0sCBA6WbbrpJ9mv2BTnvc35+vrRv3z5p4cKFUlRUlLRv3z5p3759UlVVVYeuIaDCBwCX27Jly2znWCwW6YUXXpCSkpIktVotXXvttdKBAwccnueFF15o9Xnq6+ulp556StLr9ZJWq5XGjx8vHTx4UKYr9S0577MkSdKdd94pjRw5UoYr8z9y3uvdu3dLEyZMkGJjYyWtVitdffXV0jfffCPTlfqWnPd55syZUmxsrBQWFiZdccUV0ocffijTVfqeJ+6zdRizqy0vL892XmlpqXT33XdLWq1W0mq10t13393qcP5gIed9vu+++1yes2nTpg5dg+LShRARERHJIqD6fBAREVHgY/ggIiIiWTF8EBERkawYPoiIiEhWDB9EREQkK4YPIiIikhXDBxEREcmK4YOIiIhkxfBBREREsmL4ICIiIlkxfBAREZGsGD6IiIhIVv8Phcmi5Um9KLYAAAAASUVORK5CYII=\n",
      "text/plain": [
       "<Figure size 640x480 with 1 Axes>"
      ]
     },
     "metadata": {},
     "output_type": "display_data"
    }
   ],
   "source": [
    "#Texas\n",
    "USA_by_year_TX = USA_by_year_df.loc[USA_by_year_df[\"STATE\"]==\"TX\"]\n",
    "x=USA_by_year_TX[\"YEAR\"]\n",
    "\n",
    "y=USA_by_year_TX[\"RATE\"]\n",
    "\n",
    "correlation = st.pearsonr(x,y)\n",
    "(slope, intercept, rvalue, pvalue, stderr) = linregress(x, y)\n",
    "regress_values = x * slope + intercept\n",
    "line_equation = \"y = \" + str(round(slope,2)) + \"x + \" + str(round(intercept,2))\n",
    "plt.scatter(x, y,c=\"#1f77b4\")#blue\n",
    "plt.plot(x, y, \"r-\")\n",
    "\n",
    "##1f77b4', '#ff7f0e', '#2ca02c', '#d62728', '#9467bd'\n",
    "#Florida\n",
    "USA_by_year_NY = USA_by_year_df.loc[USA_by_year_df[\"STATE\"]==\"AZ\"]\n",
    "#USA_by_year_FL.plot.scatter(x=\"YEAR\",y=\"RATE\")\n",
    "\n",
    "x=USA_by_year_NY[\"YEAR\"]\n",
    "y=USA_by_year_NY[\"RATE\"]\n",
    "\n",
    "correlation = st.pearsonr(x,y)\n",
    "(slope, intercept, rvalue, pvalue, stderr) = linregress(x, y)\n",
    "regress_values = x * slope + intercept\n",
    "line_equation = \"y = \" + str(round(slope,2)) + \"x + \" + str(round(intercept,2))\n",
    "plt.scatter(x, y,c=\"#ff7f0e\")#orange\n",
    "plt.plot(x, y, \"r-\")\n",
    "\n",
    "#colorodo\n",
    "USA_by_year_CO = USA_by_year_df.loc[USA_by_year_df[\"STATE\"]==\"CO\"]\n",
    "#USA_by_year_FL.plot.scatter(x=\"YEAR\",y=\"RATE\")#\n",
    "x=USA_by_year_CO[\"YEAR\"]\n",
    "y=USA_by_year_CO[\"RATE\"]\n",
    "\n",
    "correlation = st.pearsonr(x,y)\n",
    "(slope, intercept, rvalue, pvalue, stderr) = linregress(x, y)\n",
    "regress_values = x * slope + intercept\n",
    "line_equation = \"y = \" + str(round(slope,2)) + \"x + \" + str(round(intercept,2))\n",
    "plt.scatter(x,y,c=\"#2ca02c\")#green\n",
    "plt.plot(x, y, \"r-\")\n",
    "\n",
    "#California\n",
    "USA_by_year_CA = USA_by_year_df.loc[USA_by_year_df[\"STATE\"]==\"CA\"]\n",
    "#USA_by_year_CA.plot.scatter(x=\"YEAR\",y=\"RATE\")\n",
    "x=USA_by_year_CA[\"YEAR\"]\n",
    "y=USA_by_year_CA[\"RATE\"]\n",
    "correlation = st.pearsonr(x,y)\n",
    "(slope, intercept, rvalue, pvalue, stderr) = linregress(x, y)\n",
    "regress_values = x * slope + intercept\n",
    "line_equation = \"y = \" + str(round(slope,2)) + \"x + \" + str(round(intercept,2))\n",
    "plt.scatter(x,y,c=\"#9467bd\")#Purple\n",
    "plt.plot(x, y, \"r-\")\n",
    "\n",
    "plt.show()\n",
    "\n"
   ]
  },
  {
   "cell_type": "code",
   "execution_count": 122,
>>>>>>> c1ce52453e2d534faaf972023b4d1c15c6847cff
   "id": "0f5f6bc9",
   "metadata": {},
   "outputs": [
    {
     "name": "stdout",
     "output_type": "stream",
     "text": [
      "Correlation coefficient between YEAR and RATE: 0.0400514509671687\n"
     ]
    }
   ],
   "source": [
    "# Calculate correlation between YEAR and RATE\n",
    "correlation = USA_by_year_df['YEAR'].corr(USA_by_year_df['RATE'])\n",
    "\n",
    "# Print the correlation coefficient\n",
    "print(\"Correlation coefficient between YEAR and RATE:\", correlation)"
   ]
  },
  {
   "cell_type": "code",
<<<<<<< HEAD
   "execution_count": 48,
=======
   "execution_count": 144,
>>>>>>> c1ce52453e2d534faaf972023b4d1c15c6847cff
   "id": "6bcee0c6",
   "metadata": {},
   "outputs": [
    {
     "data": {
      "image/png": "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\n",
      "text/plain": [
       "<Figure size 640x480 with 1 Axes>"
      ]
     },
     "metadata": {},
     "output_type": "display_data"
    }
   ],
   "source": [
    "\n",
    "# Group data by year and calculate mean rate\n",
    "state_means = USA_by_year_df.groupby([\"YEAR\"])[\"RATE\"].mean()\n",
    "\n",
    "# Create a scatterplot of the data\n",
    "plt.scatter(x=state_means.index, y=state_means.values)\n",
    "\n",
    "\n",
    "# Set axis labels and title\n",
    "plt.xlabel('Year')\n",
    "plt.ylabel('Mean Suicide Rate')\n",
    "plt.title('Mean Suicide Rate by Year ')\n",
    "\n",
    "# Display the plot\n",
    "plt.show()"
   ]
  },
  {
   "cell_type": "code",
<<<<<<< HEAD
   "execution_count": 49,
=======
   "execution_count": null,
>>>>>>> c1ce52453e2d534faaf972023b4d1c15c6847cff
   "id": "392c6b29",
   "metadata": {},
   "outputs": [],
   "source": []
  },
  {
   "cell_type": "code",
<<<<<<< HEAD
   "execution_count": 50,
=======
   "execution_count": 153,
>>>>>>> c1ce52453e2d534faaf972023b4d1c15c6847cff
   "id": "71268c77",
   "metadata": {},
   "outputs": [
    {
     "name": "stdout",
     "output_type": "stream",
     "text": [
      "Correlation coefficient between pre-COVID and COVID mean rates: 1.0\n"
     ]
    }
   ],
   "source": [
    "\n",
    "# Calculate correlation between state_means and state_means1\n",
    "correlation = state_means.corr(state_means1)\n",
    "\n",
    "# Print the correlation coefficient\n",
    "print(\"Correlation coefficient between pre-COVID and COVID mean rates:\", correlation)"
   ]
  },
  {
   "cell_type": "code",
<<<<<<< HEAD
   "execution_count": 51,
=======
   "execution_count": 154,
>>>>>>> c1ce52453e2d534faaf972023b4d1c15c6847cff
   "id": "0b060adb",
   "metadata": {},
   "outputs": [
    {
<<<<<<< HEAD
     "ename": "ValueError",
     "evalue": "x and y must have the same length.",
     "output_type": "error",
     "traceback": [
      "\u001b[0;31m---------------------------------------------------------------------------\u001b[0m",
      "\u001b[0;31mValueError\u001b[0m                                Traceback (most recent call last)",
      "Cell \u001b[0;32mIn[51], line 1\u001b[0m\n\u001b[0;32m----> 1\u001b[0m correlation \u001b[38;5;241m=\u001b[39m \u001b[43mst\u001b[49m\u001b[38;5;241;43m.\u001b[39;49m\u001b[43mpearsonr\u001b[49m\u001b[43m(\u001b[49m\u001b[43mstate_means\u001b[49m\u001b[43m,\u001b[49m\u001b[43mstate_means1\u001b[49m\u001b[43m)\u001b[49m\n\u001b[1;32m      2\u001b[0m \u001b[38;5;28mprint\u001b[39m(\u001b[38;5;124mf\u001b[39m\u001b[38;5;124m\"\u001b[39m\u001b[38;5;124mThe correlation between both factors is \u001b[39m\u001b[38;5;132;01m{\u001b[39;00m\u001b[38;5;28mround\u001b[39m(correlation[\u001b[38;5;241m0\u001b[39m],\u001b[38;5;241m2\u001b[39m)\u001b[38;5;132;01m}\u001b[39;00m\u001b[38;5;124m\"\u001b[39m)\n",
      "File \u001b[0;32m/opt/anaconda3/lib/python3.9/site-packages/scipy/stats/_stats_py.py:4408\u001b[0m, in \u001b[0;36mpearsonr\u001b[0;34m(x, y, alternative)\u001b[0m\n\u001b[1;32m   4406\u001b[0m n \u001b[38;5;241m=\u001b[39m \u001b[38;5;28mlen\u001b[39m(x)\n\u001b[1;32m   4407\u001b[0m \u001b[38;5;28;01mif\u001b[39;00m n \u001b[38;5;241m!=\u001b[39m \u001b[38;5;28mlen\u001b[39m(y):\n\u001b[0;32m-> 4408\u001b[0m     \u001b[38;5;28;01mraise\u001b[39;00m \u001b[38;5;167;01mValueError\u001b[39;00m(\u001b[38;5;124m'\u001b[39m\u001b[38;5;124mx and y must have the same length.\u001b[39m\u001b[38;5;124m'\u001b[39m)\n\u001b[1;32m   4410\u001b[0m \u001b[38;5;28;01mif\u001b[39;00m n \u001b[38;5;241m<\u001b[39m \u001b[38;5;241m2\u001b[39m:\n\u001b[1;32m   4411\u001b[0m     \u001b[38;5;28;01mraise\u001b[39;00m \u001b[38;5;167;01mValueError\u001b[39;00m(\u001b[38;5;124m'\u001b[39m\u001b[38;5;124mx and y must have length at least 2.\u001b[39m\u001b[38;5;124m'\u001b[39m)\n",
      "\u001b[0;31mValueError\u001b[0m: x and y must have the same length."
=======
     "name": "stdout",
     "output_type": "stream",
     "text": [
      "The correlation between both factors is 1.0\n"
>>>>>>> c1ce52453e2d534faaf972023b4d1c15c6847cff
     ]
    }
   ],
   "source": [
    "correlation = st.pearsonr(state_means,state_means1)\n",
    "print(f\"The correlation between both factors is {round(correlation[0],2)}\")"
   ]
  },
  {
   "cell_type": "code",
   "execution_count": null,
   "id": "60223264",
   "metadata": {},
   "outputs": [],
   "source": []
  },
  {
   "cell_type": "code",
   "execution_count": null,
   "id": "1fc678e9",
   "metadata": {},
   "outputs": [],
   "source": []
  },
  {
   "cell_type": "code",
   "execution_count": null,
   "id": "5148a067",
   "metadata": {},
   "outputs": [],
   "source": []
  }
 ],
 "metadata": {
  "kernelspec": {
   "display_name": "Python 3 (ipykernel)",
   "language": "python",
   "name": "python3"
  },
  "language_info": {
   "codemirror_mode": {
    "name": "ipython",
    "version": 3
   },
   "file_extension": ".py",
   "mimetype": "text/x-python",
   "name": "python",
   "nbconvert_exporter": "python",
   "pygments_lexer": "ipython3",
   "version": "3.10.9"
  }
 },
 "nbformat": 4,
 "nbformat_minor": 5
}
