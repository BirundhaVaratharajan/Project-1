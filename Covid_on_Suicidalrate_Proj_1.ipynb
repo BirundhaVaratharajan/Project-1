{
 "cells": [
  {
   "cell_type": "markdown",
   "id": "59cbb5cb",
   "metadata": {},
   "source": [
    "# Impact of Covid19 on the Suicidal Rate\n",
    "\n",
    "________________________________________________________________________________________________________"
   ]
  },
  {
   "cell_type": "code",
   "execution_count": 1,
   "id": "a26626fb",
   "metadata": {},
   "outputs": [],
   "source": [
    "# Mute the warnings\n",
    "#import shutup; shutup.please()\n",
    "\n",
    "# Dependencies and Setup\n",
    "import matplotlib.pyplot as plt\n",
    "import pandas as pd\n",
    "import scipy.stats as st\n",
    "import numpy as np\n",
    "from scipy.stats import linregress\n",
    "import requests\n",
    "from pprint import pprint\n",
    "import urllib\n",
    "import json\n",
    "from pandas import json_normalize\n",
    "import scipy.stats as stats\n",
    "\n",
    "\n",
    "#from api_keys import api_key"
   ]
  },
  {
   "cell_type": "code",
   "execution_count": 2,
   "id": "e82a8b13",
   "metadata": {},
   "outputs": [],
   "source": [
    "# Study data files\n",
    "#gdp_usd_path = \"world_country_gdp_usd.csv\"\n",
    "csv_path = \"csv_file.csv\"\n",
    "master_path = \"master.csv\"\n",
    "USA_Rate = \"Suicide_rate_USA.csv\"\n"
   ]
  },
  {
   "cell_type": "code",
   "execution_count": 3,
   "id": "3571353f",
   "metadata": {},
   "outputs": [],
   "source": [
    "# Read the data and the study results\n",
    "#gdp_usd = pd.read_csv(gdp_usd_path)\n",
    "csv_file = pd.read_csv(csv_path)\n",
    "master = pd.read_csv(master_path)\n",
    "USA_data = pd.read_csv(USA_Rate)"
   ]
  },
  {
   "cell_type": "code",
   "execution_count": 4,
   "id": "b56caf12",
   "metadata": {
    "scrolled": true
   },
   "outputs": [
    {
     "data": {
      "text/html": [
       "<div>\n",
       "<style scoped>\n",
       "    .dataframe tbody tr th:only-of-type {\n",
       "        vertical-align: middle;\n",
       "    }\n",
       "\n",
       "    .dataframe tbody tr th {\n",
       "        vertical-align: top;\n",
       "    }\n",
       "\n",
       "    .dataframe thead th {\n",
       "        text-align: right;\n",
       "    }\n",
       "</style>\n",
       "<table border=\"1\" class=\"dataframe\">\n",
       "  <thead>\n",
       "    <tr style=\"text-align: right;\">\n",
       "      <th></th>\n",
       "      <th>LOCATION</th>\n",
       "      <th>INDICATOR</th>\n",
       "      <th>SUBJECT</th>\n",
       "      <th>MEASURE</th>\n",
       "      <th>FREQUENCY</th>\n",
       "      <th>TIME</th>\n",
       "      <th>Value</th>\n",
       "      <th>Flag Codes</th>\n",
       "    </tr>\n",
       "  </thead>\n",
       "  <tbody>\n",
       "    <tr>\n",
       "      <th>0</th>\n",
       "      <td>AUS</td>\n",
       "      <td>SUICIDE</td>\n",
       "      <td>TOT</td>\n",
       "      <td>100000PER</td>\n",
       "      <td>A</td>\n",
       "      <td>1960</td>\n",
       "      <td>13.6</td>\n",
       "      <td>NaN</td>\n",
       "    </tr>\n",
       "    <tr>\n",
       "      <th>1</th>\n",
       "      <td>AUS</td>\n",
       "      <td>SUICIDE</td>\n",
       "      <td>TOT</td>\n",
       "      <td>100000PER</td>\n",
       "      <td>A</td>\n",
       "      <td>1961</td>\n",
       "      <td>15.0</td>\n",
       "      <td>NaN</td>\n",
       "    </tr>\n",
       "    <tr>\n",
       "      <th>2</th>\n",
       "      <td>AUS</td>\n",
       "      <td>SUICIDE</td>\n",
       "      <td>TOT</td>\n",
       "      <td>100000PER</td>\n",
       "      <td>A</td>\n",
       "      <td>1962</td>\n",
       "      <td>17.4</td>\n",
       "      <td>NaN</td>\n",
       "    </tr>\n",
       "    <tr>\n",
       "      <th>3</th>\n",
       "      <td>AUS</td>\n",
       "      <td>SUICIDE</td>\n",
       "      <td>TOT</td>\n",
       "      <td>100000PER</td>\n",
       "      <td>A</td>\n",
       "      <td>1963</td>\n",
       "      <td>19.8</td>\n",
       "      <td>NaN</td>\n",
       "    </tr>\n",
       "    <tr>\n",
       "      <th>4</th>\n",
       "      <td>AUS</td>\n",
       "      <td>SUICIDE</td>\n",
       "      <td>TOT</td>\n",
       "      <td>100000PER</td>\n",
       "      <td>A</td>\n",
       "      <td>1964</td>\n",
       "      <td>18.4</td>\n",
       "      <td>NaN</td>\n",
       "    </tr>\n",
       "    <tr>\n",
       "      <th>...</th>\n",
       "      <td>...</td>\n",
       "      <td>...</td>\n",
       "      <td>...</td>\n",
       "      <td>...</td>\n",
       "      <td>...</td>\n",
       "      <td>...</td>\n",
       "      <td>...</td>\n",
       "      <td>...</td>\n",
       "    </tr>\n",
       "    <tr>\n",
       "      <th>6748</th>\n",
       "      <td>ROU</td>\n",
       "      <td>SUICIDE</td>\n",
       "      <td>WOMEN</td>\n",
       "      <td>100000PER</td>\n",
       "      <td>A</td>\n",
       "      <td>2015</td>\n",
       "      <td>3.1</td>\n",
       "      <td>NaN</td>\n",
       "    </tr>\n",
       "    <tr>\n",
       "      <th>6749</th>\n",
       "      <td>ROU</td>\n",
       "      <td>SUICIDE</td>\n",
       "      <td>WOMEN</td>\n",
       "      <td>100000PER</td>\n",
       "      <td>A</td>\n",
       "      <td>2016</td>\n",
       "      <td>2.9</td>\n",
       "      <td>NaN</td>\n",
       "    </tr>\n",
       "    <tr>\n",
       "      <th>6750</th>\n",
       "      <td>ROU</td>\n",
       "      <td>SUICIDE</td>\n",
       "      <td>WOMEN</td>\n",
       "      <td>100000PER</td>\n",
       "      <td>A</td>\n",
       "      <td>2017</td>\n",
       "      <td>3.0</td>\n",
       "      <td>NaN</td>\n",
       "    </tr>\n",
       "    <tr>\n",
       "      <th>6751</th>\n",
       "      <td>ROU</td>\n",
       "      <td>SUICIDE</td>\n",
       "      <td>WOMEN</td>\n",
       "      <td>100000PER</td>\n",
       "      <td>A</td>\n",
       "      <td>2018</td>\n",
       "      <td>3.0</td>\n",
       "      <td>NaN</td>\n",
       "    </tr>\n",
       "    <tr>\n",
       "      <th>6752</th>\n",
       "      <td>ROU</td>\n",
       "      <td>SUICIDE</td>\n",
       "      <td>WOMEN</td>\n",
       "      <td>100000PER</td>\n",
       "      <td>A</td>\n",
       "      <td>2019</td>\n",
       "      <td>2.2</td>\n",
       "      <td>NaN</td>\n",
       "    </tr>\n",
       "  </tbody>\n",
       "</table>\n",
       "<p>6753 rows × 8 columns</p>\n",
       "</div>"
      ],
      "text/plain": [
       "     LOCATION INDICATOR SUBJECT    MEASURE FREQUENCY  TIME  Value Flag Codes\n",
       "0         AUS   SUICIDE     TOT  100000PER         A  1960   13.6        NaN\n",
       "1         AUS   SUICIDE     TOT  100000PER         A  1961   15.0        NaN\n",
       "2         AUS   SUICIDE     TOT  100000PER         A  1962   17.4        NaN\n",
       "3         AUS   SUICIDE     TOT  100000PER         A  1963   19.8        NaN\n",
       "4         AUS   SUICIDE     TOT  100000PER         A  1964   18.4        NaN\n",
       "...       ...       ...     ...        ...       ...   ...    ...        ...\n",
       "6748      ROU   SUICIDE   WOMEN  100000PER         A  2015    3.1        NaN\n",
       "6749      ROU   SUICIDE   WOMEN  100000PER         A  2016    2.9        NaN\n",
       "6750      ROU   SUICIDE   WOMEN  100000PER         A  2017    3.0        NaN\n",
       "6751      ROU   SUICIDE   WOMEN  100000PER         A  2018    3.0        NaN\n",
       "6752      ROU   SUICIDE   WOMEN  100000PER         A  2019    2.2        NaN\n",
       "\n",
       "[6753 rows x 8 columns]"
      ]
     },
     "execution_count": 4,
     "metadata": {},
     "output_type": "execute_result"
    }
   ],
   "source": [
    "csv_file"
   ]
  },
  {
   "cell_type": "code",
   "execution_count": 5,
   "id": "2aaab1f0",
   "metadata": {},
   "outputs": [
    {
     "data": {
      "text/html": [
       "<div>\n",
       "<style scoped>\n",
       "    .dataframe tbody tr th:only-of-type {\n",
       "        vertical-align: middle;\n",
       "    }\n",
       "\n",
       "    .dataframe tbody tr th {\n",
       "        vertical-align: top;\n",
       "    }\n",
       "\n",
       "    .dataframe thead th {\n",
       "        text-align: right;\n",
       "    }\n",
       "</style>\n",
       "<table border=\"1\" class=\"dataframe\">\n",
       "  <thead>\n",
       "    <tr style=\"text-align: right;\">\n",
       "      <th></th>\n",
       "      <th>LOCATION</th>\n",
       "      <th>TIME</th>\n",
       "      <th>INDICATOR</th>\n",
       "      <th>Value</th>\n",
       "      <th>SUBJECT</th>\n",
       "    </tr>\n",
       "  </thead>\n",
       "  <tbody>\n",
       "    <tr>\n",
       "      <th>55</th>\n",
       "      <td>AUS</td>\n",
       "      <td>2016</td>\n",
       "      <td>SUICIDE</td>\n",
       "      <td>12.2</td>\n",
       "      <td>TOT</td>\n",
       "    </tr>\n",
       "    <tr>\n",
       "      <th>56</th>\n",
       "      <td>AUS</td>\n",
       "      <td>2017</td>\n",
       "      <td>SUICIDE</td>\n",
       "      <td>13.6</td>\n",
       "      <td>TOT</td>\n",
       "    </tr>\n",
       "    <tr>\n",
       "      <th>57</th>\n",
       "      <td>AUS</td>\n",
       "      <td>2018</td>\n",
       "      <td>SUICIDE</td>\n",
       "      <td>13.0</td>\n",
       "      <td>TOT</td>\n",
       "    </tr>\n",
       "    <tr>\n",
       "      <th>58</th>\n",
       "      <td>AUS</td>\n",
       "      <td>2019</td>\n",
       "      <td>SUICIDE</td>\n",
       "      <td>13.3</td>\n",
       "      <td>TOT</td>\n",
       "    </tr>\n",
       "    <tr>\n",
       "      <th>59</th>\n",
       "      <td>AUS</td>\n",
       "      <td>2020</td>\n",
       "      <td>SUICIDE</td>\n",
       "      <td>12.4</td>\n",
       "      <td>TOT</td>\n",
       "    </tr>\n",
       "    <tr>\n",
       "      <th>...</th>\n",
       "      <td>...</td>\n",
       "      <td>...</td>\n",
       "      <td>...</td>\n",
       "      <td>...</td>\n",
       "      <td>...</td>\n",
       "    </tr>\n",
       "    <tr>\n",
       "      <th>6721</th>\n",
       "      <td>ROU</td>\n",
       "      <td>2019</td>\n",
       "      <td>SUICIDE</td>\n",
       "      <td>8.6</td>\n",
       "      <td>TOT</td>\n",
       "    </tr>\n",
       "    <tr>\n",
       "      <th>6749</th>\n",
       "      <td>ROU</td>\n",
       "      <td>2016</td>\n",
       "      <td>SUICIDE</td>\n",
       "      <td>2.9</td>\n",
       "      <td>WOMEN</td>\n",
       "    </tr>\n",
       "    <tr>\n",
       "      <th>6750</th>\n",
       "      <td>ROU</td>\n",
       "      <td>2017</td>\n",
       "      <td>SUICIDE</td>\n",
       "      <td>3.0</td>\n",
       "      <td>WOMEN</td>\n",
       "    </tr>\n",
       "    <tr>\n",
       "      <th>6751</th>\n",
       "      <td>ROU</td>\n",
       "      <td>2018</td>\n",
       "      <td>SUICIDE</td>\n",
       "      <td>3.0</td>\n",
       "      <td>WOMEN</td>\n",
       "    </tr>\n",
       "    <tr>\n",
       "      <th>6752</th>\n",
       "      <td>ROU</td>\n",
       "      <td>2019</td>\n",
       "      <td>SUICIDE</td>\n",
       "      <td>2.2</td>\n",
       "      <td>WOMEN</td>\n",
       "    </tr>\n",
       "  </tbody>\n",
       "</table>\n",
       "<p>525 rows × 5 columns</p>\n",
       "</div>"
      ],
      "text/plain": [
       "     LOCATION  TIME INDICATOR  Value SUBJECT\n",
       "55        AUS  2016   SUICIDE   12.2     TOT\n",
       "56        AUS  2017   SUICIDE   13.6     TOT\n",
       "57        AUS  2018   SUICIDE   13.0     TOT\n",
       "58        AUS  2019   SUICIDE   13.3     TOT\n",
       "59        AUS  2020   SUICIDE   12.4     TOT\n",
       "...       ...   ...       ...    ...     ...\n",
       "6721      ROU  2019   SUICIDE    8.6     TOT\n",
       "6749      ROU  2016   SUICIDE    2.9   WOMEN\n",
       "6750      ROU  2017   SUICIDE    3.0   WOMEN\n",
       "6751      ROU  2018   SUICIDE    3.0   WOMEN\n",
       "6752      ROU  2019   SUICIDE    2.2   WOMEN\n",
       "\n",
       "[525 rows x 5 columns]"
      ]
     },
     "execution_count": 5,
     "metadata": {},
     "output_type": "execute_result"
    }
   ],
   "source": [
    "narrow_data = csv_file.loc[(csv_file[\"TIME\"]<2021) & (csv_file[\"TIME\"]>=2016)]\n",
    "#narrow_data\n",
    "narrow_1 = pd.DataFrame(narrow_data, columns=[\"LOCATION\", \"TIME\", \"INDICATOR\", \"Value\", \"SUBJECT\"])\n",
    "narrow_1\n"
   ]
  },
  {
   "cell_type": "code",
   "execution_count": 6,
   "id": "3f3f2857",
   "metadata": {
    "scrolled": true
   },
   "outputs": [
    {
     "data": {
      "text/plain": [
       "TIME\n",
       "2016    11.030303\n",
       "2017    11.102439\n",
       "2018    10.888034\n",
       "2019    11.244118\n",
       "2020    12.415686\n",
       "Name: Value, dtype: float64"
      ]
     },
     "execution_count": 6,
     "metadata": {},
     "output_type": "execute_result"
    }
   ],
   "source": [
    "group_by_1 = narrow_1.groupby([\"TIME\"])[\"Value\"].mean()\n",
    "group_by_1"
   ]
  },
  {
   "cell_type": "code",
   "execution_count": 7,
   "id": "10dff2df",
   "metadata": {
    "scrolled": true
   },
   "outputs": [
    {
     "data": {
      "text/html": [
       "<div>\n",
       "<style scoped>\n",
       "    .dataframe tbody tr th:only-of-type {\n",
       "        vertical-align: middle;\n",
       "    }\n",
       "\n",
       "    .dataframe tbody tr th {\n",
       "        vertical-align: top;\n",
       "    }\n",
       "\n",
       "    .dataframe thead th {\n",
       "        text-align: right;\n",
       "    }\n",
       "</style>\n",
       "<table border=\"1\" class=\"dataframe\">\n",
       "  <thead>\n",
       "    <tr style=\"text-align: right;\">\n",
       "      <th></th>\n",
       "      <th>Value</th>\n",
       "    </tr>\n",
       "    <tr>\n",
       "      <th>TIME</th>\n",
       "      <th></th>\n",
       "    </tr>\n",
       "  </thead>\n",
       "  <tbody>\n",
       "    <tr>\n",
       "      <th>2016</th>\n",
       "      <td>11.030303</td>\n",
       "    </tr>\n",
       "    <tr>\n",
       "      <th>2017</th>\n",
       "      <td>11.102439</td>\n",
       "    </tr>\n",
       "    <tr>\n",
       "      <th>2018</th>\n",
       "      <td>10.888034</td>\n",
       "    </tr>\n",
       "    <tr>\n",
       "      <th>2019</th>\n",
       "      <td>11.244118</td>\n",
       "    </tr>\n",
       "    <tr>\n",
       "      <th>2020</th>\n",
       "      <td>12.415686</td>\n",
       "    </tr>\n",
       "  </tbody>\n",
       "</table>\n",
       "</div>"
      ],
      "text/plain": [
       "          Value\n",
       "TIME           \n",
       "2016  11.030303\n",
       "2017  11.102439\n",
       "2018  10.888034\n",
       "2019  11.244118\n",
       "2020  12.415686"
      ]
     },
     "execution_count": 7,
     "metadata": {},
     "output_type": "execute_result"
    }
   ],
   "source": [
    "group_by_df = pd.DataFrame(group_by_1)\n",
    "group_by_df"
   ]
  },
  {
   "cell_type": "code",
   "execution_count": 8,
   "id": "319dd94b",
   "metadata": {},
   "outputs": [
    {
     "data": {
      "text/html": [
       "<div>\n",
       "<style scoped>\n",
       "    .dataframe tbody tr th:only-of-type {\n",
       "        vertical-align: middle;\n",
       "    }\n",
       "\n",
       "    .dataframe tbody tr th {\n",
       "        vertical-align: top;\n",
       "    }\n",
       "\n",
       "    .dataframe thead th {\n",
       "        text-align: right;\n",
       "    }\n",
       "</style>\n",
       "<table border=\"1\" class=\"dataframe\">\n",
       "  <thead>\n",
       "    <tr style=\"text-align: right;\">\n",
       "      <th></th>\n",
       "      <th>TIME</th>\n",
       "      <th>Value</th>\n",
       "    </tr>\n",
       "  </thead>\n",
       "  <tbody>\n",
       "    <tr>\n",
       "      <th>0</th>\n",
       "      <td>2016</td>\n",
       "      <td>11.030303</td>\n",
       "    </tr>\n",
       "    <tr>\n",
       "      <th>1</th>\n",
       "      <td>2017</td>\n",
       "      <td>11.102439</td>\n",
       "    </tr>\n",
       "    <tr>\n",
       "      <th>2</th>\n",
       "      <td>2018</td>\n",
       "      <td>10.888034</td>\n",
       "    </tr>\n",
       "    <tr>\n",
       "      <th>3</th>\n",
       "      <td>2019</td>\n",
       "      <td>11.244118</td>\n",
       "    </tr>\n",
       "    <tr>\n",
       "      <th>4</th>\n",
       "      <td>2020</td>\n",
       "      <td>12.415686</td>\n",
       "    </tr>\n",
       "  </tbody>\n",
       "</table>\n",
       "</div>"
      ],
      "text/plain": [
       "   TIME      Value\n",
       "0  2016  11.030303\n",
       "1  2017  11.102439\n",
       "2  2018  10.888034\n",
       "3  2019  11.244118\n",
       "4  2020  12.415686"
      ]
     },
     "execution_count": 8,
     "metadata": {},
     "output_type": "execute_result"
    }
   ],
   "source": [
    "df2=group_by_df.reset_index()\n",
    "df2"
   ]
  },
  {
   "cell_type": "code",
   "execution_count": 9,
   "id": "836d20ef",
   "metadata": {
    "scrolled": true
   },
   "outputs": [
    {
     "data": {
      "text/plain": [
       "<Axes: title={'center': 'Global Suicide Rate by Year (2016 to 2020)'}, xlabel='Year', ylabel='Suicide/100k of the Population'>"
      ]
     },
     "execution_count": 9,
     "metadata": {},
     "output_type": "execute_result"
    },
    {
     "data": {
      "image/png": "[encoded data removed]",
      "text/plain": [
       "<Figure size 640x480 with 1 Axes>"
      ]
     },
     "metadata": {},
     "output_type": "display_data"
    }
   ],
   "source": [
    "\n",
    "plot = group_by_1.plot(kind=\"bar\", align = \"center\")\n",
    "plt.xlabel(\"Year\")\n",
    "plt.ylabel(\"Suicide/100k of the Population\")\n",
    "plt.title(\"Global Suicide Rate by Year (2016 to 2020)\")\n",
    "\n",
    "plot"
   ]
  },
  {
   "cell_type": "code",
   "execution_count": 10,
   "id": "e1f976a7",
   "metadata": {
    "scrolled": true
   },
   "outputs": [
    {
     "data": {
      "text/plain": [
       "F_onewayResult(statistic=0.3595877465732043, pvalue=0.8373673134546857)"
      ]
     },
     "execution_count": 10,
     "metadata": {},
     "output_type": "execute_result"
    },
    {
     "data": {
      "image/png": "[encoded data removed]",
      "text/plain": [
       "<Figure size 640x480 with 1 Axes>"
      ]
     },
     "metadata": {},
     "output_type": "display_data"
    }
   ],
   "source": [
    "\n",
    "\n",
    "plt.plot(group_by_df, color = \"b\")\n",
    "plt.xlabel(\"Year\")\n",
    "plt.ylabel(\"Suicide Rate/100k of the Population\")\n",
    "plt.title(\"Global Suicide Rate by Year (2016 to 2020)\")\n",
    "\n",
    "group0 = narrow_1[narrow_1[\"TIME\"] == 2016][\"Value\"]\n",
    "group1 = narrow_1[narrow_1[\"TIME\"] == 2017][\"Value\"]\n",
    "group2 = narrow_1[narrow_1[\"TIME\"] == 2018][\"Value\"]\n",
    "group3 = narrow_1[narrow_1[\"TIME\"] == 2019][\"Value\"]\n",
    "group4 = narrow_1[narrow_1[\"TIME\"] == 2020][\"Value\"]\n",
    "stats.f_oneway(group0, group1, group2, group3, group4)\n",
    "\n"
   ]
  },
  {
   "cell_type": "code",
   "execution_count": 11,
   "id": "0acb772b",
   "metadata": {
    "scrolled": false
   },
   "outputs": [
    {
     "data": {
      "text/html": [
       "<div>\n",
       "<style scoped>\n",
       "    .dataframe tbody tr th:only-of-type {\n",
       "        vertical-align: middle;\n",
       "    }\n",
       "\n",
       "    .dataframe tbody tr th {\n",
       "        vertical-align: top;\n",
       "    }\n",
       "\n",
       "    .dataframe thead th {\n",
       "        text-align: right;\n",
       "    }\n",
       "</style>\n",
       "<table border=\"1\" class=\"dataframe\">\n",
       "  <thead>\n",
       "    <tr style=\"text-align: right;\">\n",
       "      <th></th>\n",
       "      <th>country</th>\n",
       "      <th>year</th>\n",
       "      <th>sex</th>\n",
       "      <th>age</th>\n",
       "      <th>suicides_no</th>\n",
       "      <th>population</th>\n",
       "      <th>suicides/100k pop</th>\n",
       "      <th>country-year</th>\n",
       "      <th>HDI for year</th>\n",
       "      <th>gdp_for_year ($)</th>\n",
       "      <th>gdp_per_capita ($)</th>\n",
       "      <th>generation</th>\n",
       "    </tr>\n",
       "  </thead>\n",
       "  <tbody>\n",
       "    <tr>\n",
       "      <th>0</th>\n",
       "      <td>Albania</td>\n",
       "      <td>1987</td>\n",
       "      <td>male</td>\n",
       "      <td>15-24 years</td>\n",
       "      <td>21.0</td>\n",
       "      <td>312900</td>\n",
       "      <td>6.71</td>\n",
       "      <td>Albania1987</td>\n",
       "      <td>NaN</td>\n",
       "      <td>2,15,66,24,900</td>\n",
       "      <td>796.0</td>\n",
       "      <td>Generation X</td>\n",
       "    </tr>\n",
       "    <tr>\n",
       "      <th>1</th>\n",
       "      <td>Albania</td>\n",
       "      <td>1987</td>\n",
       "      <td>male</td>\n",
       "      <td>35-54 years</td>\n",
       "      <td>16.0</td>\n",
       "      <td>308000</td>\n",
       "      <td>5.19</td>\n",
       "      <td>Albania1987</td>\n",
       "      <td>NaN</td>\n",
       "      <td>2,15,66,24,900</td>\n",
       "      <td>796.0</td>\n",
       "      <td>Silent</td>\n",
       "    </tr>\n",
       "    <tr>\n",
       "      <th>2</th>\n",
       "      <td>Albania</td>\n",
       "      <td>1987</td>\n",
       "      <td>female</td>\n",
       "      <td>15-24 years</td>\n",
       "      <td>14.0</td>\n",
       "      <td>289700</td>\n",
       "      <td>4.83</td>\n",
       "      <td>Albania1987</td>\n",
       "      <td>NaN</td>\n",
       "      <td>2,15,66,24,900</td>\n",
       "      <td>796.0</td>\n",
       "      <td>Generation X</td>\n",
       "    </tr>\n",
       "    <tr>\n",
       "      <th>3</th>\n",
       "      <td>Albania</td>\n",
       "      <td>1987</td>\n",
       "      <td>male</td>\n",
       "      <td>75+ years</td>\n",
       "      <td>1.0</td>\n",
       "      <td>21800</td>\n",
       "      <td>4.59</td>\n",
       "      <td>Albania1987</td>\n",
       "      <td>NaN</td>\n",
       "      <td>2,15,66,24,900</td>\n",
       "      <td>796.0</td>\n",
       "      <td>G.I. Generation</td>\n",
       "    </tr>\n",
       "    <tr>\n",
       "      <th>4</th>\n",
       "      <td>Albania</td>\n",
       "      <td>1987</td>\n",
       "      <td>male</td>\n",
       "      <td>25-34 years</td>\n",
       "      <td>9.0</td>\n",
       "      <td>274300</td>\n",
       "      <td>3.28</td>\n",
       "      <td>Albania1987</td>\n",
       "      <td>NaN</td>\n",
       "      <td>2,15,66,24,900</td>\n",
       "      <td>796.0</td>\n",
       "      <td>Boomers</td>\n",
       "    </tr>\n",
       "  </tbody>\n",
       "</table>\n",
       "</div>"
      ],
      "text/plain": [
       "   country  year     sex          age  suicides_no  population  \\\n",
       "0  Albania  1987    male  15-24 years         21.0      312900   \n",
       "1  Albania  1987    male  35-54 years         16.0      308000   \n",
       "2  Albania  1987  female  15-24 years         14.0      289700   \n",
       "3  Albania  1987    male    75+ years          1.0       21800   \n",
       "4  Albania  1987    male  25-34 years          9.0      274300   \n",
       "\n",
       "   suicides/100k pop country-year  HDI for year  gdp_for_year ($)   \\\n",
       "0               6.71  Albania1987           NaN     2,15,66,24,900   \n",
       "1               5.19  Albania1987           NaN     2,15,66,24,900   \n",
       "2               4.83  Albania1987           NaN     2,15,66,24,900   \n",
       "3               4.59  Albania1987           NaN     2,15,66,24,900   \n",
       "4               3.28  Albania1987           NaN     2,15,66,24,900   \n",
       "\n",
       "   gdp_per_capita ($)       generation  \n",
       "0               796.0     Generation X  \n",
       "1               796.0           Silent  \n",
       "2               796.0     Generation X  \n",
       "3               796.0  G.I. Generation  \n",
       "4               796.0          Boomers  "
      ]
     },
     "execution_count": 11,
     "metadata": {},
     "output_type": "execute_result"
    }
   ],
   "source": [
    "master.head()"
   ]
  },
  {
   "cell_type": "code",
   "execution_count": 12,
   "id": "f7a63f47",
   "metadata": {
    "scrolled": true
   },
   "outputs": [
    {
     "data": {
      "text/html": [
       "<div>\n",
       "<style scoped>\n",
       "    .dataframe tbody tr th:only-of-type {\n",
       "        vertical-align: middle;\n",
       "    }\n",
       "\n",
       "    .dataframe tbody tr th {\n",
       "        vertical-align: top;\n",
       "    }\n",
       "\n",
       "    .dataframe thead th {\n",
       "        text-align: right;\n",
       "    }\n",
       "</style>\n",
       "<table border=\"1\" class=\"dataframe\">\n",
       "  <thead>\n",
       "    <tr style=\"text-align: right;\">\n",
       "      <th></th>\n",
       "      <th>country</th>\n",
       "      <th>year</th>\n",
       "      <th>age</th>\n",
       "      <th>suicides/100k pop</th>\n",
       "    </tr>\n",
       "  </thead>\n",
       "  <tbody>\n",
       "    <tr>\n",
       "      <th>27823</th>\n",
       "      <td>Australia</td>\n",
       "      <td>2020</td>\n",
       "      <td>5-14 years</td>\n",
       "      <td>0.058467</td>\n",
       "    </tr>\n",
       "    <tr>\n",
       "      <th>27824</th>\n",
       "      <td>Austria</td>\n",
       "      <td>2020</td>\n",
       "      <td>5-14 years</td>\n",
       "      <td>0.022429</td>\n",
       "    </tr>\n",
       "    <tr>\n",
       "      <th>27834</th>\n",
       "      <td>Costa Rica</td>\n",
       "      <td>2020</td>\n",
       "      <td>5-14 years</td>\n",
       "      <td>0.019519</td>\n",
       "    </tr>\n",
       "    <tr>\n",
       "      <th>27838</th>\n",
       "      <td>Czechia</td>\n",
       "      <td>2020</td>\n",
       "      <td>5-14 years</td>\n",
       "      <td>0.028043</td>\n",
       "    </tr>\n",
       "    <tr>\n",
       "      <th>27841</th>\n",
       "      <td>Ecuador</td>\n",
       "      <td>2020</td>\n",
       "      <td>5-14 years</td>\n",
       "      <td>0.250162</td>\n",
       "    </tr>\n",
       "    <tr>\n",
       "      <th>...</th>\n",
       "      <td>...</td>\n",
       "      <td>...</td>\n",
       "      <td>...</td>\n",
       "      <td>...</td>\n",
       "    </tr>\n",
       "    <tr>\n",
       "      <th>31751</th>\n",
       "      <td>Ukraine</td>\n",
       "      <td>2017</td>\n",
       "      <td>75+ years</td>\n",
       "      <td>0.571032</td>\n",
       "    </tr>\n",
       "    <tr>\n",
       "      <th>31752</th>\n",
       "      <td>United Kingdom</td>\n",
       "      <td>2017</td>\n",
       "      <td>75+ years</td>\n",
       "      <td>0.157435</td>\n",
       "    </tr>\n",
       "    <tr>\n",
       "      <th>31753</th>\n",
       "      <td>United States of America</td>\n",
       "      <td>2017</td>\n",
       "      <td>75+ years</td>\n",
       "      <td>0.154096</td>\n",
       "    </tr>\n",
       "    <tr>\n",
       "      <th>31754</th>\n",
       "      <td>Uruguay</td>\n",
       "      <td>2017</td>\n",
       "      <td>75+ years</td>\n",
       "      <td>0.409094</td>\n",
       "    </tr>\n",
       "    <tr>\n",
       "      <th>31755</th>\n",
       "      <td>Uzbekistan</td>\n",
       "      <td>2017</td>\n",
       "      <td>75+ years</td>\n",
       "      <td>0.009263</td>\n",
       "    </tr>\n",
       "  </tbody>\n",
       "</table>\n",
       "<p>2441 rows × 4 columns</p>\n",
       "</div>"
      ],
      "text/plain": [
       "                        country  year         age  suicides/100k pop\n",
       "27823                 Australia  2020  5-14 years           0.058467\n",
       "27824                   Austria  2020  5-14 years           0.022429\n",
       "27834                Costa Rica  2020  5-14 years           0.019519\n",
       "27838                   Czechia  2020  5-14 years           0.028043\n",
       "27841                   Ecuador  2020  5-14 years           0.250162\n",
       "...                         ...   ...         ...                ...\n",
       "31751                   Ukraine  2017   75+ years           0.571032\n",
       "31752            United Kingdom  2017   75+ years           0.157435\n",
       "31753  United States of America  2017   75+ years           0.154096\n",
       "31754                   Uruguay  2017   75+ years           0.409094\n",
       "31755                Uzbekistan  2017   75+ years           0.009263\n",
       "\n",
       "[2441 rows x 4 columns]"
      ]
     },
     "execution_count": 12,
     "metadata": {},
     "output_type": "execute_result"
    }
   ],
   "source": [
    "narrow_data_2 = master.loc[(master[\"year\"]<2022) & (master[\"year\"]>=2017)]\n",
    "narrow_data_3 = narrow_data_2.loc[(narrow_data_2[\"suicides/100k pop\"]>0)]\n",
    "narrow_data_3\n",
    "narrow_data_4 = pd.DataFrame(narrow_data_3, columns=[\"country\", \"year\", \"age\", \"suicides/100k pop\"])\n",
    "\n",
    "#narrow_data_2.dropna()\n",
    "narrow_data_4"
   ]
  },
  {
   "cell_type": "code",
   "execution_count": 13,
   "id": "33a9c465",
   "metadata": {
    "scrolled": false
   },
   "outputs": [],
   "source": [
    "age_data = narrow_data_4.groupby([\"age\"])[\"suicides/100k pop\"].mean()\n"
   ]
  },
  {
   "cell_type": "code",
   "execution_count": 14,
   "id": "531f425a",
   "metadata": {
    "scrolled": false
   },
   "outputs": [
    {
     "data": {
      "text/html": [
       "<div>\n",
       "<style scoped>\n",
       "    .dataframe tbody tr th:only-of-type {\n",
       "        vertical-align: middle;\n",
       "    }\n",
       "\n",
       "    .dataframe tbody tr th {\n",
       "        vertical-align: top;\n",
       "    }\n",
       "\n",
       "    .dataframe thead th {\n",
       "        text-align: right;\n",
       "    }\n",
       "</style>\n",
       "<table border=\"1\" class=\"dataframe\">\n",
       "  <thead>\n",
       "    <tr style=\"text-align: right;\">\n",
       "      <th></th>\n",
       "      <th>suicides/100k pop</th>\n",
       "    </tr>\n",
       "    <tr>\n",
       "      <th>age</th>\n",
       "      <th></th>\n",
       "    </tr>\n",
       "  </thead>\n",
       "  <tbody>\n",
       "    <tr>\n",
       "      <th>15-24 years</th>\n",
       "      <td>2.985494</td>\n",
       "    </tr>\n",
       "    <tr>\n",
       "      <th>25-34 years</th>\n",
       "      <td>5.307064</td>\n",
       "    </tr>\n",
       "    <tr>\n",
       "      <th>35-54 years</th>\n",
       "      <td>11.460384</td>\n",
       "    </tr>\n",
       "    <tr>\n",
       "      <th>5-14 years</th>\n",
       "      <td>0.261727</td>\n",
       "    </tr>\n",
       "    <tr>\n",
       "      <th>55-74 years</th>\n",
       "      <td>9.988835</td>\n",
       "    </tr>\n",
       "    <tr>\n",
       "      <th>75+ years</th>\n",
       "      <td>6.799660</td>\n",
       "    </tr>\n",
       "  </tbody>\n",
       "</table>\n",
       "</div>"
      ],
      "text/plain": [
       "             suicides/100k pop\n",
       "age                           \n",
       "15-24 years           2.985494\n",
       "25-34 years           5.307064\n",
       "35-54 years          11.460384\n",
       "5-14 years            0.261727\n",
       "55-74 years           9.988835\n",
       "75+ years             6.799660"
      ]
     },
     "execution_count": 14,
     "metadata": {},
     "output_type": "execute_result"
    }
   ],
   "source": [
    "age_data_df = pd.DataFrame(age_data)\n",
    "age_data_df"
   ]
  },
  {
   "cell_type": "code",
   "execution_count": 15,
   "id": "3e923d60",
   "metadata": {},
   "outputs": [
    {
     "data": {
      "image/png": "[encoded data removed]",
      "text/plain": [
       "<Figure size 640x480 with 1 Axes>"
      ]
     },
     "metadata": {},
     "output_type": "display_data"
    }
   ],
   "source": [
    "labels = [\"15-24 years\", \"25-34 years\", \"35-54 years\", \"5-14 years\", \"55-74 years\", \"75+ years\"]\n",
    "explode = (0, 0, 0.1, 0, 0, 0)\n",
    "sizes = [2.985494, 5.307064, 11.460384, 0.261727, 9.988835, 6.799660]\n",
    "colors = [\"red\", \"orange\", \"blue\", \"yellow\", \"green\", \"lightskyblue\"]\n",
    "plt.pie(sizes, explode = explode, labels = labels, colors = colors, autopct = \"%1.1f%%\", shadow = \"True\", startangle = 250)\n",
    "plt.title(\"Global Suicide Rate by Age Group (2016 to 2020)\")\n",
    "plt.axis(\"equal\")\n",
    "plt.show()"
   ]
  },
  {
   "cell_type": "code",
   "execution_count": 16,
   "id": "259eb607",
   "metadata": {},
   "outputs": [
    {
     "data": {
      "text/plain": [
       "SUBJECT\n",
       "MEN      17.700000\n",
       "WOMEN     4.640909\n",
       "Name: Value, dtype: float64"
      ]
     },
     "execution_count": 16,
     "metadata": {},
     "output_type": "execute_result"
    }
   ],
   "source": [
    "narrow_1_data = narrow_1.loc[narrow_1[\"TIME\"]==2016]\n",
    "narrow_1_1 = narrow_1_data.loc[narrow_1_data[\"SUBJECT\"]!=\"TOT\"]\n",
    "narrow_2016 = narrow_1_1.groupby([\"SUBJECT\"])[\"Value\"].mean()\n",
    "narrow_2016"
   ]
  },
  {
   "cell_type": "code",
   "execution_count": 17,
   "id": "d5669b8f",
   "metadata": {},
   "outputs": [
    {
     "data": {
      "text/plain": [
       "SUBJECT\n",
       "MEN      17.709756\n",
       "WOMEN     4.763415\n",
       "Name: Value, dtype: float64"
      ]
     },
     "execution_count": 17,
     "metadata": {},
     "output_type": "execute_result"
    }
   ],
   "source": [
    "narrow_2_data = narrow_1.loc[narrow_1[\"TIME\"]==2017]\n",
    "narrow_2_1 = narrow_2_data.loc[narrow_2_data[\"SUBJECT\"]!=\"TOT\"]\n",
    "narrow_2017 = narrow_2_1.groupby([\"SUBJECT\"])[\"Value\"].mean()\n",
    "narrow_2017"
   ]
  },
  {
   "cell_type": "code",
   "execution_count": 18,
   "id": "808b51d3",
   "metadata": {
    "scrolled": true
   },
   "outputs": [
    {
     "data": {
      "text/plain": [
       "SUBJECT\n",
       "MEN      17.366667\n",
       "WOMEN     4.674359\n",
       "Name: Value, dtype: float64"
      ]
     },
     "execution_count": 18,
     "metadata": {},
     "output_type": "execute_result"
    }
   ],
   "source": [
    "narrow_3_data = narrow_1.loc[narrow_1[\"TIME\"]==2018]\n",
    "narrow_3_1 = narrow_3_data.loc[narrow_3_data[\"SUBJECT\"]!=\"TOT\"]\n",
    "narrow_2018 = narrow_3_1.groupby([\"SUBJECT\"])[\"Value\"].mean()\n",
    "narrow_2018"
   ]
  },
  {
   "cell_type": "code",
   "execution_count": 19,
   "id": "ee04c064",
   "metadata": {
    "scrolled": true
   },
   "outputs": [
    {
     "data": {
      "text/plain": [
       "SUBJECT\n",
       "MEN      18.111765\n",
       "WOMEN     4.658824\n",
       "Name: Value, dtype: float64"
      ]
     },
     "execution_count": 19,
     "metadata": {},
     "output_type": "execute_result"
    }
   ],
   "source": [
    "narrow_4_data = narrow_1.loc[narrow_1[\"TIME\"]==2019]\n",
    "narrow_4_1 = narrow_4_data.loc[narrow_4_data[\"SUBJECT\"]!=\"TOT\"]\n",
    "narrow_2019 = narrow_4_1.groupby([\"SUBJECT\"])[\"Value\"].mean()\n",
    "narrow_2019"
   ]
  },
  {
   "cell_type": "code",
   "execution_count": 20,
   "id": "2b501d70",
   "metadata": {
    "scrolled": true
   },
   "outputs": [
    {
     "data": {
      "text/plain": [
       "SUBJECT\n",
       "MEN      19.682353\n",
       "WOMEN     5.464706\n",
       "Name: Value, dtype: float64"
      ]
     },
     "execution_count": 20,
     "metadata": {},
     "output_type": "execute_result"
    }
   ],
   "source": [
    "narrow_5_data = narrow_1.loc[narrow_1[\"TIME\"]==2020]\n",
    "narrow_5_1 = narrow_5_data.loc[narrow_5_data[\"SUBJECT\"]!=\"TOT\"]\n",
    "narrow_2020 = narrow_5_1.groupby([\"SUBJECT\"])[\"Value\"].mean()\n",
    "narrow_2020"
   ]
  },
  {
   "cell_type": "code",
   "execution_count": 21,
   "id": "6c6a8a5d",
   "metadata": {},
   "outputs": [
    {
     "data": {
      "text/html": [
       "<div>\n",
       "<style scoped>\n",
       "    .dataframe tbody tr th:only-of-type {\n",
       "        vertical-align: middle;\n",
       "    }\n",
       "\n",
       "    .dataframe tbody tr th {\n",
       "        vertical-align: top;\n",
       "    }\n",
       "\n",
       "    .dataframe thead th {\n",
       "        text-align: right;\n",
       "    }\n",
       "</style>\n",
       "<table border=\"1\" class=\"dataframe\">\n",
       "  <thead>\n",
       "    <tr style=\"text-align: right;\">\n",
       "      <th></th>\n",
       "      <th>data_2020</th>\n",
       "      <th>data_2019</th>\n",
       "      <th>data_2018</th>\n",
       "      <th>data_2017</th>\n",
       "      <th>data_2016</th>\n",
       "    </tr>\n",
       "    <tr>\n",
       "      <th>SUBJECT</th>\n",
       "      <th></th>\n",
       "      <th></th>\n",
       "      <th></th>\n",
       "      <th></th>\n",
       "      <th></th>\n",
       "    </tr>\n",
       "  </thead>\n",
       "  <tbody>\n",
       "    <tr>\n",
       "      <th>MEN</th>\n",
       "      <td>19.682353</td>\n",
       "      <td>18.111765</td>\n",
       "      <td>17.366667</td>\n",
       "      <td>17.709756</td>\n",
       "      <td>17.700000</td>\n",
       "    </tr>\n",
       "    <tr>\n",
       "      <th>WOMEN</th>\n",
       "      <td>5.464706</td>\n",
       "      <td>4.658824</td>\n",
       "      <td>4.674359</td>\n",
       "      <td>4.763415</td>\n",
       "      <td>4.640909</td>\n",
       "    </tr>\n",
       "  </tbody>\n",
       "</table>\n",
       "</div>"
      ],
      "text/plain": [
       "         data_2020  data_2019  data_2018  data_2017  data_2016\n",
       "SUBJECT                                                       \n",
       "MEN      19.682353  18.111765  17.366667  17.709756  17.700000\n",
       "WOMEN     5.464706   4.658824   4.674359   4.763415   4.640909"
      ]
     },
     "execution_count": 21,
     "metadata": {},
     "output_type": "execute_result"
    }
   ],
   "source": [
    "summary_df = pd.DataFrame({\"data_2020\": narrow_2020, \"data_2019\": narrow_2019, \"data_2018\": narrow_2018, \"data_2017\": narrow_2017, \"data_2016\": narrow_2016})\n",
    "\n",
    "\n",
    "summary_df"
   ]
  },
  {
   "cell_type": "code",
   "execution_count": 22,
   "id": "a4d4f392",
   "metadata": {},
   "outputs": [],
   "source": [
    "dataset = pd.DataFrame({'MEN': [19.682353, 18.111765, 17.366667, 17.709756, 17.700000], 'WOMEN': [5.464706, 4.658824, 4.674359, 4.763415, 4.640909]})\n",
    "dataset\n",
    "mean_men = dataset[\"MEN\"].mean()\n",
    "mean_women = dataset[\"WOMEN\"].mean()\n"
   ]
  },
  {
   "cell_type": "code",
   "execution_count": 23,
   "id": "b767fff4",
   "metadata": {
    "scrolled": true
   },
   "outputs": [
    {
     "data": {
      "text/plain": [
       "Text(0, 0.5, 'Suicide Rate/100k of the Population')"
      ]
     },
     "execution_count": 23,
     "metadata": {},
     "output_type": "execute_result"
    },
    {
     "data": {
      "image/png": "[encoded data removed]",
      "text/plain": [
       "<Figure size 640x480 with 1 Axes>"
      ]
     },
     "metadata": {},
     "output_type": "display_data"
    }
   ],
   "source": [
    "summary_df.plot(kind = \"bar\")\n",
    "plt.title(\"Global Suicide Rate by Gender (2016 to 2020)\")\n",
    "plt.xlabel(\"Gender (Men/Women)\")\n",
    "plt.ylabel(\"Suicide Rate/100k of the Population\")"
   ]
  },
  {
   "cell_type": "code",
   "execution_count": 24,
   "id": "c2087760",
   "metadata": {},
   "outputs": [
    {
     "data": {
      "image/png": "[encoded data removed]",
      "text/plain": [
       "<Figure size 640x480 with 1 Axes>"
      ]
     },
     "metadata": {},
     "output_type": "display_data"
    }
   ],
   "source": [
    "time = np.arange(2016, 2021, 1)\n",
    "men_data = [17.7, 17.7, 17.4, 18.1, 19.7]\n",
    "women_data = [4.6, 4.8, 4.7, 4.7, 5.5]\n",
    "\n",
    "Men, = plt.plot(time, men_data, color=\"red\", label=\"Men\")\n",
    "Women, = plt.plot(time, women_data, color=\"blue\", label=\"Women\")\n",
    "\n",
    "\n",
    "plt.title(\"Global Suicide Rate by Sex (2016 to 2020)\")\n",
    "plt.xlabel(\"Year\")\n",
    "plt.ylabel(\"Suicide Rate/100k Population\")\n",
    "plt.legend(handles=[Men, Women], loc=\"best\")\n",
    "plt.grid()"
   ]
  },
  {
   "cell_type": "code",
   "execution_count": null,
   "id": "8a4d6925",
   "metadata": {},
   "outputs": [],
   "source": []
  },
  {
   "cell_type": "code",
   "execution_count": null,
   "id": "2ed0c651",
   "metadata": {
    "scrolled": true
   },
   "outputs": [],
   "source": [
    "\n",
    "\n"
   ]
  },
  {
   "cell_type": "code",
   "execution_count": 25,
   "id": "217f79c4",
   "metadata": {},
   "outputs": [
    {
     "name": "stdout",
     "output_type": "stream",
     "text": [
      "                                              Country               Income\n",
      "0                                               Aruba          High income\n",
      "1                         Africa Eastern and Southern           Aggregates\n",
      "2                                         Afghanistan           Low income\n",
      "3                                              Africa           Aggregates\n",
      "4                          Africa Western and Central           Aggregates\n",
      "5                                              Angola  Lower middle income\n",
      "6                                             Albania  Upper middle income\n",
      "7                                             Andorra          High income\n",
      "8                                          Arab World           Aggregates\n",
      "9                                United Arab Emirates          High income\n",
      "10                                          Argentina  Upper middle income\n",
      "11                                            Armenia  Upper middle income\n",
      "12                                     American Samoa  Upper middle income\n",
      "13                                Antigua and Barbuda          High income\n",
      "14                                          Australia          High income\n",
      "15                                            Austria          High income\n",
      "16                                         Azerbaijan  Upper middle income\n",
      "17                                            Burundi           Low income\n",
      "18          East Asia & Pacific (IBRD-only countries)           Aggregates\n",
      "19        Europe & Central Asia (IBRD-only countries)           Aggregates\n",
      "20                                            Belgium          High income\n",
      "21                                              Benin  Lower middle income\n",
      "22                                       Burkina Faso           Low income\n",
      "23                                         Bangladesh  Lower middle income\n",
      "24                                           Bulgaria  Upper middle income\n",
      "25           IBRD countries classified as high income           Aggregates\n",
      "26                                            Bahrain          High income\n",
      "27                                       Bahamas, The          High income\n",
      "28                             Bosnia and Herzegovina  Upper middle income\n",
      "29  Latin America & the Caribbean (IBRD-only count...           Aggregates\n",
      "30                                            Belarus  Upper middle income\n",
      "31                                             Belize  Upper middle income\n",
      "32   Middle East & North Africa (IBRD-only countries)           Aggregates\n",
      "33                                            Bermuda          High income\n",
      "34                                            Bolivia  Lower middle income\n",
      "35                                             Brazil  Upper middle income\n",
      "36                                           Barbados          High income\n",
      "37                                  Brunei Darussalam          High income\n",
      "38           Sub-Saharan Africa (IBRD-only countries)           Aggregates\n",
      "39                                             Bhutan  Lower middle income\n",
      "40                                           Botswana  Upper middle income\n",
      "41            Sub-Saharan Africa (IFC classification)           Aggregates\n",
      "42                           Central African Republic           Low income\n",
      "43                                             Canada          High income\n",
      "44     East Asia and the Pacific (IFC classification)           Aggregates\n",
      "45                     Central Europe and the Baltics           Aggregates\n",
      "46       Europe and Central Asia (IFC classification)           Aggregates\n",
      "47                                        Switzerland          High income\n",
      "48                                    Channel Islands          High income\n",
      "49                                              Chile          High income\n",
      "Number of countries in the list: 50\n"
     ]
    }
   ],
   "source": [
    "\n",
    "countries = []\n",
    "country_income=[]\n",
    "country_name =[]\n",
    "income_level = []\n",
    "\n",
    "\n",
    "# Show Record Count\n",
    "\n",
    "query_url = \"http://api.worldbank.org/v2/countries?format=json\"\n",
    "\n",
    "country_data = requests.get(query_url).json()\n",
    "countries = country_data[1]\n",
    "\n",
    "for  country in countries:\n",
    "        \n",
    "    try:\n",
    "        # Parse the JSON and retrieve data\n",
    "        country_name.append(country['name'])\n",
    "       \n",
    "        income_level.append(country['incomeLevel']['value'])\n",
    "        \n",
    "       \n",
    "    # If an error is experienced, skip the country\n",
    "    except:\n",
    "        print(\"country not found. Skipping...\")\n",
    "        pass\n",
    "    \n",
    "#creating a data frame with country and its income level              \n",
    "country_income_df = pd.DataFrame({\"Country\": country_name, \n",
    "                                  \"Income\": income_level})\n",
    "print(country_income_df)\n",
    "print(f\"Number of countries in the list: {len(countries)}\")\n",
    "#if (response_1.status_code != 204 and response.headers[\"content-type\"].strip().startswith(\"application/json\")):\n",
    "    #try:\n",
    "        #return response_1.json()\n",
    "    #except ValueError:\n",
    "\n",
    "#pprint(country_data)"
   ]
  },
  {
   "cell_type": "code",
   "execution_count": 26,
   "id": "f6172f98",
   "metadata": {},
   "outputs": [
    {
     "data": {
      "text/html": [
       "<div>\n",
       "<style scoped>\n",
       "    .dataframe tbody tr th:only-of-type {\n",
       "        vertical-align: middle;\n",
       "    }\n",
       "\n",
       "    .dataframe tbody tr th {\n",
       "        vertical-align: top;\n",
       "    }\n",
       "\n",
       "    .dataframe thead th {\n",
       "        text-align: right;\n",
       "    }\n",
       "</style>\n",
       "<table border=\"1\" class=\"dataframe\">\n",
       "  <thead>\n",
       "    <tr style=\"text-align: right;\">\n",
       "      <th></th>\n",
       "      <th>YEAR</th>\n",
       "      <th>STATE</th>\n",
       "      <th>RATE</th>\n",
       "      <th>DEATHS</th>\n",
       "      <th>URL</th>\n",
       "    </tr>\n",
       "  </thead>\n",
       "  <tbody>\n",
       "    <tr>\n",
       "      <th>0</th>\n",
       "      <td>2021</td>\n",
       "      <td>AL</td>\n",
       "      <td>15.8</td>\n",
       "      <td>827</td>\n",
       "      <td>/nchs/pressroom/states/alabama/al.htm</td>\n",
       "    </tr>\n",
       "    <tr>\n",
       "      <th>1</th>\n",
       "      <td>2021</td>\n",
       "      <td>AK</td>\n",
       "      <td>30.8</td>\n",
       "      <td>220</td>\n",
       "      <td>/nchs/pressroom/states/alaska/ak.htm</td>\n",
       "    </tr>\n",
       "    <tr>\n",
       "      <th>2</th>\n",
       "      <td>2021</td>\n",
       "      <td>AZ</td>\n",
       "      <td>19.5</td>\n",
       "      <td>1475</td>\n",
       "      <td>/nchs/pressroom/states/arizona/az.htm</td>\n",
       "    </tr>\n",
       "    <tr>\n",
       "      <th>3</th>\n",
       "      <td>2021</td>\n",
       "      <td>AR</td>\n",
       "      <td>20.6</td>\n",
       "      <td>618</td>\n",
       "      <td>/nchs/pressroom/states/arkansas/ar.htm</td>\n",
       "    </tr>\n",
       "    <tr>\n",
       "      <th>4</th>\n",
       "      <td>2021</td>\n",
       "      <td>CA</td>\n",
       "      <td>10.1</td>\n",
       "      <td>4148</td>\n",
       "      <td>/nchs/pressroom/states/california/ca.htm</td>\n",
       "    </tr>\n",
       "    <tr>\n",
       "      <th>5</th>\n",
       "      <td>2021</td>\n",
       "      <td>CO</td>\n",
       "      <td>22.8</td>\n",
       "      <td>1384</td>\n",
       "      <td>/nchs/pressroom/states/colorado/co.htm</td>\n",
       "    </tr>\n",
       "    <tr>\n",
       "      <th>6</th>\n",
       "      <td>2021</td>\n",
       "      <td>CT</td>\n",
       "      <td>10.0</td>\n",
       "      <td>401</td>\n",
       "      <td>/nchs/pressroom/states/connecticut/ct.htm</td>\n",
       "    </tr>\n",
       "    <tr>\n",
       "      <th>7</th>\n",
       "      <td>2021</td>\n",
       "      <td>DE</td>\n",
       "      <td>13.6</td>\n",
       "      <td>137</td>\n",
       "      <td>/nchs/pressroom/states/delaware/de.htm</td>\n",
       "    </tr>\n",
       "    <tr>\n",
       "      <th>8</th>\n",
       "      <td>2021</td>\n",
       "      <td>FL</td>\n",
       "      <td>14.0</td>\n",
       "      <td>3351</td>\n",
       "      <td>/nchs/pressroom/states/florida/fl.htm</td>\n",
       "    </tr>\n",
       "    <tr>\n",
       "      <th>9</th>\n",
       "      <td>2021</td>\n",
       "      <td>GA</td>\n",
       "      <td>15.3</td>\n",
       "      <td>1676</td>\n",
       "      <td>/nchs/pressroom/states/georgia/ga.htm</td>\n",
       "    </tr>\n",
       "    <tr>\n",
       "      <th>10</th>\n",
       "      <td>2021</td>\n",
       "      <td>HI</td>\n",
       "      <td>13.7</td>\n",
       "      <td>202</td>\n",
       "      <td>/nchs/pressroom/states/hawaii/hi.htm</td>\n",
       "    </tr>\n",
       "    <tr>\n",
       "      <th>11</th>\n",
       "      <td>2021</td>\n",
       "      <td>ID</td>\n",
       "      <td>20.5</td>\n",
       "      <td>387</td>\n",
       "      <td>/nchs/pressroom/states/idaho/id.htm</td>\n",
       "    </tr>\n",
       "    <tr>\n",
       "      <th>12</th>\n",
       "      <td>2021</td>\n",
       "      <td>IL</td>\n",
       "      <td>11.1</td>\n",
       "      <td>1454</td>\n",
       "      <td>/nchs/pressroom/states/illinois/il.htm</td>\n",
       "    </tr>\n",
       "    <tr>\n",
       "      <th>13</th>\n",
       "      <td>2021</td>\n",
       "      <td>IN</td>\n",
       "      <td>16.4</td>\n",
       "      <td>1129</td>\n",
       "      <td>/nchs/pressroom/states/indiana/in.htm</td>\n",
       "    </tr>\n",
       "    <tr>\n",
       "      <th>14</th>\n",
       "      <td>2021</td>\n",
       "      <td>IA</td>\n",
       "      <td>17.5</td>\n",
       "      <td>549</td>\n",
       "      <td>/nchs/pressroom/states/iowa/ia.htm</td>\n",
       "    </tr>\n",
       "    <tr>\n",
       "      <th>15</th>\n",
       "      <td>2021</td>\n",
       "      <td>KS</td>\n",
       "      <td>19.4</td>\n",
       "      <td>560</td>\n",
       "      <td>/nchs/pressroom/states/kansas/ks.htm</td>\n",
       "    </tr>\n",
       "    <tr>\n",
       "      <th>16</th>\n",
       "      <td>2021</td>\n",
       "      <td>KY</td>\n",
       "      <td>17.9</td>\n",
       "      <td>816</td>\n",
       "      <td>/nchs/pressroom/states/kentucky/ky.htm</td>\n",
       "    </tr>\n",
       "    <tr>\n",
       "      <th>17</th>\n",
       "      <td>2021</td>\n",
       "      <td>LA</td>\n",
       "      <td>14.8</td>\n",
       "      <td>689</td>\n",
       "      <td>/nchs/pressroom/states/louisiana/la.htm</td>\n",
       "    </tr>\n",
       "    <tr>\n",
       "      <th>18</th>\n",
       "      <td>2021</td>\n",
       "      <td>ME</td>\n",
       "      <td>19.5</td>\n",
       "      <td>277</td>\n",
       "      <td>/nchs/pressroom/states/maine/me.htm</td>\n",
       "    </tr>\n",
       "    <tr>\n",
       "      <th>19</th>\n",
       "      <td>2021</td>\n",
       "      <td>MD</td>\n",
       "      <td>9.7</td>\n",
       "      <td>620</td>\n",
       "      <td>/nchs/pressroom/states/maryland/md.htm</td>\n",
       "    </tr>\n",
       "    <tr>\n",
       "      <th>20</th>\n",
       "      <td>2021</td>\n",
       "      <td>MA</td>\n",
       "      <td>8.0</td>\n",
       "      <td>604</td>\n",
       "      <td>/nchs/pressroom/states/massachusetts/ma.htm</td>\n",
       "    </tr>\n",
       "    <tr>\n",
       "      <th>21</th>\n",
       "      <td>2021</td>\n",
       "      <td>MI</td>\n",
       "      <td>14.3</td>\n",
       "      <td>1485</td>\n",
       "      <td>/nchs/pressroom/states/michigan/mi.htm</td>\n",
       "    </tr>\n",
       "    <tr>\n",
       "      <th>22</th>\n",
       "      <td>2021</td>\n",
       "      <td>MN</td>\n",
       "      <td>13.9</td>\n",
       "      <td>808</td>\n",
       "      <td>/nchs/pressroom/states/minnesota/mn.htm</td>\n",
       "    </tr>\n",
       "    <tr>\n",
       "      <th>23</th>\n",
       "      <td>2021</td>\n",
       "      <td>MS</td>\n",
       "      <td>16.2</td>\n",
       "      <td>480</td>\n",
       "      <td>/nchs/pressroom/states/mississippi/ms.htm</td>\n",
       "    </tr>\n",
       "    <tr>\n",
       "      <th>24</th>\n",
       "      <td>2021</td>\n",
       "      <td>MO</td>\n",
       "      <td>18.7</td>\n",
       "      <td>1177</td>\n",
       "      <td>/nchs/pressroom/states/missouri/mo.htm</td>\n",
       "    </tr>\n",
       "    <tr>\n",
       "      <th>25</th>\n",
       "      <td>2021</td>\n",
       "      <td>MT</td>\n",
       "      <td>32.0</td>\n",
       "      <td>350</td>\n",
       "      <td>/nchs/pressroom/states/montana/mt.htm</td>\n",
       "    </tr>\n",
       "    <tr>\n",
       "      <th>26</th>\n",
       "      <td>2021</td>\n",
       "      <td>NE</td>\n",
       "      <td>15.0</td>\n",
       "      <td>288</td>\n",
       "      <td>/nchs/pressroom/states/nebraska/ne.htm</td>\n",
       "    </tr>\n",
       "    <tr>\n",
       "      <th>27</th>\n",
       "      <td>2021</td>\n",
       "      <td>NV</td>\n",
       "      <td>21.5</td>\n",
       "      <td>691</td>\n",
       "      <td>/nchs/pressroom/states/nevada/nv.htm</td>\n",
       "    </tr>\n",
       "    <tr>\n",
       "      <th>28</th>\n",
       "      <td>2021</td>\n",
       "      <td>NH</td>\n",
       "      <td>15.1</td>\n",
       "      <td>223</td>\n",
       "      <td>/nchs/pressroom/states/newhampshire/nh.htm</td>\n",
       "    </tr>\n",
       "    <tr>\n",
       "      <th>29</th>\n",
       "      <td>2021</td>\n",
       "      <td>NJ</td>\n",
       "      <td>7.1</td>\n",
       "      <td>688</td>\n",
       "      <td>/nchs/pressroom/states/newjersey/nj.htm</td>\n",
       "    </tr>\n",
       "  </tbody>\n",
       "</table>\n",
       "</div>"
      ],
      "text/plain": [
       "    YEAR STATE  RATE DEATHS                                          URL\n",
       "0   2021    AL  15.8    827        /nchs/pressroom/states/alabama/al.htm\n",
       "1   2021    AK  30.8    220         /nchs/pressroom/states/alaska/ak.htm\n",
       "2   2021    AZ  19.5   1475        /nchs/pressroom/states/arizona/az.htm\n",
       "3   2021    AR  20.6    618       /nchs/pressroom/states/arkansas/ar.htm\n",
       "4   2021    CA  10.1   4148     /nchs/pressroom/states/california/ca.htm\n",
       "5   2021    CO  22.8   1384       /nchs/pressroom/states/colorado/co.htm\n",
       "6   2021    CT  10.0    401    /nchs/pressroom/states/connecticut/ct.htm\n",
       "7   2021    DE  13.6    137       /nchs/pressroom/states/delaware/de.htm\n",
       "8   2021    FL  14.0   3351        /nchs/pressroom/states/florida/fl.htm\n",
       "9   2021    GA  15.3   1676        /nchs/pressroom/states/georgia/ga.htm\n",
       "10  2021    HI  13.7    202         /nchs/pressroom/states/hawaii/hi.htm\n",
       "11  2021    ID  20.5    387          /nchs/pressroom/states/idaho/id.htm\n",
       "12  2021    IL  11.1   1454       /nchs/pressroom/states/illinois/il.htm\n",
       "13  2021    IN  16.4   1129        /nchs/pressroom/states/indiana/in.htm\n",
       "14  2021    IA  17.5    549           /nchs/pressroom/states/iowa/ia.htm\n",
       "15  2021    KS  19.4    560         /nchs/pressroom/states/kansas/ks.htm\n",
       "16  2021    KY  17.9    816       /nchs/pressroom/states/kentucky/ky.htm\n",
       "17  2021    LA  14.8    689      /nchs/pressroom/states/louisiana/la.htm\n",
       "18  2021    ME  19.5    277          /nchs/pressroom/states/maine/me.htm\n",
       "19  2021    MD   9.7    620       /nchs/pressroom/states/maryland/md.htm\n",
       "20  2021    MA   8.0    604  /nchs/pressroom/states/massachusetts/ma.htm\n",
       "21  2021    MI  14.3   1485       /nchs/pressroom/states/michigan/mi.htm\n",
       "22  2021    MN  13.9    808      /nchs/pressroom/states/minnesota/mn.htm\n",
       "23  2021    MS  16.2    480    /nchs/pressroom/states/mississippi/ms.htm\n",
       "24  2021    MO  18.7   1177       /nchs/pressroom/states/missouri/mo.htm\n",
       "25  2021    MT  32.0    350        /nchs/pressroom/states/montana/mt.htm\n",
       "26  2021    NE  15.0    288       /nchs/pressroom/states/nebraska/ne.htm\n",
       "27  2021    NV  21.5    691         /nchs/pressroom/states/nevada/nv.htm\n",
       "28  2021    NH  15.1    223   /nchs/pressroom/states/newhampshire/nh.htm\n",
       "29  2021    NJ   7.1    688      /nchs/pressroom/states/newjersey/nj.htm"
      ]
     },
     "execution_count": 26,
     "metadata": {},
     "output_type": "execute_result"
    }
   ],
   "source": [
    "USA_data.head(30)\n",
    "\n"
   ]
  },
  {
   "cell_type": "code",
   "execution_count": 27,
   "id": "d4739836",
   "metadata": {},
   "outputs": [
    {
     "name": "stdout",
     "output_type": "stream",
     "text": [
      "YEAR\n",
      "2005    12.444\n",
      "2014    15.030\n",
      "2015    15.634\n",
      "2016    15.792\n",
      "2017    16.702\n",
      "2018    16.450\n",
      "2019    16.398\n",
      "2020    16.078\n",
      "2021    16.972\n",
      "Name: RATE, dtype: float64\n"
     ]
    },
    {
     "data": {
      "text/html": [
       "<div>\n",
       "<style scoped>\n",
       "    .dataframe tbody tr th:only-of-type {\n",
       "        vertical-align: middle;\n",
       "    }\n",
       "\n",
       "    .dataframe tbody tr th {\n",
       "        vertical-align: top;\n",
       "    }\n",
       "\n",
       "    .dataframe thead th {\n",
       "        text-align: right;\n",
       "    }\n",
       "</style>\n",
       "<table border=\"1\" class=\"dataframe\">\n",
       "  <thead>\n",
       "    <tr style=\"text-align: right;\">\n",
       "      <th></th>\n",
       "      <th>YEAR</th>\n",
       "      <th>STATE</th>\n",
       "      <th>RATE</th>\n",
       "      <th>DEATHS</th>\n",
       "    </tr>\n",
       "  </thead>\n",
       "  <tbody>\n",
       "    <tr>\n",
       "      <th>0</th>\n",
       "      <td>2021</td>\n",
       "      <td>AL</td>\n",
       "      <td>15.8</td>\n",
       "      <td>827</td>\n",
       "    </tr>\n",
       "    <tr>\n",
       "      <th>1</th>\n",
       "      <td>2021</td>\n",
       "      <td>AK</td>\n",
       "      <td>30.8</td>\n",
       "      <td>220</td>\n",
       "    </tr>\n",
       "    <tr>\n",
       "      <th>2</th>\n",
       "      <td>2021</td>\n",
       "      <td>AZ</td>\n",
       "      <td>19.5</td>\n",
       "      <td>1475</td>\n",
       "    </tr>\n",
       "    <tr>\n",
       "      <th>3</th>\n",
       "      <td>2021</td>\n",
       "      <td>AR</td>\n",
       "      <td>20.6</td>\n",
       "      <td>618</td>\n",
       "    </tr>\n",
       "    <tr>\n",
       "      <th>4</th>\n",
       "      <td>2021</td>\n",
       "      <td>CA</td>\n",
       "      <td>10.1</td>\n",
       "      <td>4148</td>\n",
       "    </tr>\n",
       "  </tbody>\n",
       "</table>\n",
       "</div>"
      ],
      "text/plain": [
       "   YEAR STATE  RATE DEATHS\n",
       "0  2021    AL  15.8    827\n",
       "1  2021    AK  30.8    220\n",
       "2  2021    AZ  19.5   1475\n",
       "3  2021    AR  20.6    618\n",
       "4  2021    CA  10.1   4148"
      ]
     },
     "execution_count": 27,
     "metadata": {},
     "output_type": "execute_result"
    },
    {
     "data": {
      "image/png": "[encoded data removed]",
      "text/plain": [
       "<Figure size 640x480 with 1 Axes>"
      ]
     },
     "metadata": {},
     "output_type": "display_data"
    }
   ],
   "source": [
    "#creatind dataframe from the csv file\n",
    "\n",
    "USA_by_year_df = pd.DataFrame(USA_data, columns=[\"YEAR\",\"STATE\",\"RATE\",\"DEATHS\"])\n",
    "state = USA_by_year_df.groupby([\"YEAR\"])[\"RATE\"].mean()\n",
    "print(state)\n",
    "state.plot.bar(y= \"RATE\")\n",
    "\n",
    "#getting the date precovid from 2016 to 219\n",
    "#USA_precovid= USA_by_year_df.loc[(USA_by_year_df[\"YEAR\"]>=2016) & (USA_by_year_df[\"YEAR\"]<=2019)]\n",
    "\n",
    "#state = USA_precovid.groupby([\"YEAR\"])[\"RATE\"].mean()\n",
    "#print(state)\n",
    "#state.plot.bar(y= \"RATE\")\n",
    "USA_by_year_df.head()"
   ]
  },
  {
   "cell_type": "code",
   "execution_count": 29,
   "id": "0f5f6bc9",
   "metadata": {},
   "outputs": [
    {
     "name": "stdout",
     "output_type": "stream",
     "text": [
      "Correlation coefficient between YEAR and RATE: 0.2600419684441113\n"
     ]
    }
   ],
   "source": [
    "# Calculate correlation between YEAR and RATE\n",
    "correlation = USA_by_year_df['YEAR'].corr(USA_by_year_df['RATE'])\n",
    "\n",
    "# Print the correlation coefficient\n",
    "print(\"Correlation coefficient between YEAR and RATE:\", correlation)"
   ]
  },
  {
   "cell_type": "code",
   "execution_count": 30,
   "id": "6bcee0c6",
   "metadata": {},
   "outputs": [
    {
     "data": {
      "image/png": "[encoded data removed]",
      "text/plain": [
       "<Figure size 640x480 with 1 Axes>"
      ]
     },
     "metadata": {},
     "output_type": "display_data"
    }
   ],
   "source": [
    "# Filter data for pre-COVID years\n",
    "USA_precovid= USA_by_year_df.loc[(USA_by_year_df[\"YEAR\"]>=2016) & (USA_by_year_df[\"YEAR\"]<=2019)]\n",
    "\n",
    "# Group data by year and calculate mean rate\n",
    "state_means = USA_precovid.groupby([\"YEAR\"])[\"RATE\"].mean()\n",
    "\n",
    "# Create a scatterplot of the data\n",
    "plt.scatter(x=state_means.index, y=state_means.values)\n",
    "\n",
    "# Set axis labels and title\n",
    "plt.xlabel('Year')\n",
    "plt.ylabel('Mean Rate')\n",
    "plt.title('Mean Rate by Year (pre-COVID)')\n",
    "\n",
    "# Display the plot\n",
    "plt.show()"
   ]
  },
  {
   "cell_type": "code",
   "execution_count": 38,
   "id": "392c6b29",
   "metadata": {},
   "outputs": [
    {
     "data": {
      "image/png": "[encoded data removed]",
      "text/plain": [
       "<Figure size 640x480 with 1 Axes>"
      ]
     },
     "metadata": {},
     "output_type": "display_data"
    }
   ],
   "source": [
    "# Filter data for USA COVID years\n",
    "USA_precovid= USA_by_year_df.loc[(USA_by_year_df[\"YEAR\"]>2019) & (USA_by_year_df[\"YEAR\"]<=2021)]\n",
    "\n",
    "# Group data by year and calculate mean rate\n",
    "state_means1 = USA_precovid.groupby([\"YEAR\"])[\"RATE\"].mean()\n",
    "\n",
    "# Create a scatterplot of the data\n",
    "plt.scatter(x=state_means.index, y=state_means.values)\n",
    "\n",
    "# Set axis labels and title\n",
    "plt.xlabel('Year')\n",
    "plt.ylabel('Mean Rate')\n",
    "plt.title('Mean Rate by Year (COVID)')\n",
    "\n",
    "# Display the plot\n",
    "plt.show()"
   ]
  },
  {
   "cell_type": "code",
   "execution_count": 39,
   "id": "71268c77",
   "metadata": {},
   "outputs": [
    {
     "name": "stdout",
     "output_type": "stream",
     "text": [
      "Correlation coefficient between pre-COVID and COVID mean rates: 0.9999999999999998\n"
     ]
    }
   ],
   "source": [
    "\n",
    "# Calculate correlation between state_means and state_means1\n",
    "correlation = state_means.corr(state_means1)\n",
    "\n",
    "# Print the correlation coefficient\n",
    "print(\"Correlation coefficient between pre-COVID and COVID mean rates:\", correlation)"
   ]
  },
  {
   "cell_type": "code",
   "execution_count": 42,
   "id": "0b060adb",
   "metadata": {},
   "outputs": [
    {
     "name": "stdout",
     "output_type": "stream",
     "text": [
      "The correlation between both factors is 1.0\n"
     ]
    }
   ],
   "source": [
    "correlation = st.pearsonr(state_means,state_means1)\n",
    "print(f\"The correlation between both factors is {round(correlation[0],2)}\")"
   ]
  },
  {
   "cell_type": "code",
   "execution_count": null,
   "id": "60223264",
   "metadata": {},
   "outputs": [],
   "source": []
  }
 ],
 "metadata": {
  "kernelspec": {
   "display_name": "Python 3 (ipykernel)",
   "language": "python",
   "name": "python3"
  },
  "language_info": {
   "codemirror_mode": {
    "name": "ipython",
    "version": 3
   },
   "file_extension": ".py",
   "mimetype": "text/x-python",
   "name": "python",
   "nbconvert_exporter": "python",
   "pygments_lexer": "ipython3",
   "version": "3.10.9"
  }
 },
 "nbformat": 4,
 "nbformat_minor": 5
}
